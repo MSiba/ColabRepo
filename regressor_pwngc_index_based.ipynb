{
  "cells": [
    {
      "cell_type": "markdown",
      "metadata": {
        "id": "view-in-github",
        "colab_type": "text"
      },
      "source": [
        "<a href=\"https://colab.research.google.com/github/MSiba/ColabRepo/blob/main/regressor_pwngc_index_based.ipynb\" target=\"_parent\"><img src=\"https://colab.research.google.com/assets/colab-badge.svg\" alt=\"Open In Colab\"/></a>"
      ]
    },
    {
      "cell_type": "markdown",
      "metadata": {
        "id": "yG45YqPiOwtZ"
      },
      "source": [
        "# Imports and Checks"
      ]
    },
    {
      "cell_type": "code",
      "execution_count": null,
      "metadata": {
        "id": "E3osdH6pxxp3"
      },
      "outputs": [],
      "source": [
        "#!pip install numba"
      ]
    },
    {
      "cell_type": "code",
      "execution_count": null,
      "metadata": {
        "id": "jHQwxgQ9YjWB"
      },
      "outputs": [],
      "source": [
        "#!pip install bcolz"
      ]
    },
    {
      "cell_type": "code",
      "execution_count": null,
      "metadata": {
        "id": "Er22_9ilYM9I",
        "colab": {
          "base_uri": "https://localhost:8080/"
        },
        "outputId": "93460366-b429-42ec-9f5b-24e7844c1aa6"
      },
      "outputs": [
        {
          "output_type": "stream",
          "name": "stdout",
          "text": [
            "[nltk_data] Downloading collection 'all'\n",
            "[nltk_data]    | \n",
            "[nltk_data]    | Downloading package abc to /root/nltk_data...\n",
            "[nltk_data]    |   Unzipping corpora/abc.zip.\n",
            "[nltk_data]    | Downloading package alpino to /root/nltk_data...\n",
            "[nltk_data]    |   Unzipping corpora/alpino.zip.\n",
            "[nltk_data]    | Downloading package averaged_perceptron_tagger to\n",
            "[nltk_data]    |     /root/nltk_data...\n",
            "[nltk_data]    |   Unzipping taggers/averaged_perceptron_tagger.zip.\n",
            "[nltk_data]    | Downloading package averaged_perceptron_tagger_ru to\n",
            "[nltk_data]    |     /root/nltk_data...\n",
            "[nltk_data]    |   Unzipping\n",
            "[nltk_data]    |       taggers/averaged_perceptron_tagger_ru.zip.\n",
            "[nltk_data]    | Downloading package basque_grammars to\n",
            "[nltk_data]    |     /root/nltk_data...\n",
            "[nltk_data]    |   Unzipping grammars/basque_grammars.zip.\n",
            "[nltk_data]    | Downloading package biocreative_ppi to\n",
            "[nltk_data]    |     /root/nltk_data...\n",
            "[nltk_data]    |   Unzipping corpora/biocreative_ppi.zip.\n",
            "[nltk_data]    | Downloading package bllip_wsj_no_aux to\n",
            "[nltk_data]    |     /root/nltk_data...\n",
            "[nltk_data]    |   Unzipping models/bllip_wsj_no_aux.zip.\n",
            "[nltk_data]    | Downloading package book_grammars to\n",
            "[nltk_data]    |     /root/nltk_data...\n",
            "[nltk_data]    |   Unzipping grammars/book_grammars.zip.\n",
            "[nltk_data]    | Downloading package brown to /root/nltk_data...\n",
            "[nltk_data]    |   Unzipping corpora/brown.zip.\n",
            "[nltk_data]    | Downloading package brown_tei to /root/nltk_data...\n",
            "[nltk_data]    |   Unzipping corpora/brown_tei.zip.\n",
            "[nltk_data]    | Downloading package cess_cat to /root/nltk_data...\n",
            "[nltk_data]    |   Unzipping corpora/cess_cat.zip.\n",
            "[nltk_data]    | Downloading package cess_esp to /root/nltk_data...\n",
            "[nltk_data]    |   Unzipping corpora/cess_esp.zip.\n",
            "[nltk_data]    | Downloading package chat80 to /root/nltk_data...\n",
            "[nltk_data]    |   Unzipping corpora/chat80.zip.\n",
            "[nltk_data]    | Downloading package city_database to\n",
            "[nltk_data]    |     /root/nltk_data...\n",
            "[nltk_data]    |   Unzipping corpora/city_database.zip.\n",
            "[nltk_data]    | Downloading package cmudict to /root/nltk_data...\n",
            "[nltk_data]    |   Unzipping corpora/cmudict.zip.\n",
            "[nltk_data]    | Downloading package comparative_sentences to\n",
            "[nltk_data]    |     /root/nltk_data...\n",
            "[nltk_data]    |   Unzipping corpora/comparative_sentences.zip.\n",
            "[nltk_data]    | Downloading package comtrans to /root/nltk_data...\n",
            "[nltk_data]    | Downloading package conll2000 to /root/nltk_data...\n",
            "[nltk_data]    |   Unzipping corpora/conll2000.zip.\n",
            "[nltk_data]    | Downloading package conll2002 to /root/nltk_data...\n",
            "[nltk_data]    |   Unzipping corpora/conll2002.zip.\n",
            "[nltk_data]    | Downloading package conll2007 to /root/nltk_data...\n",
            "[nltk_data]    | Downloading package crubadan to /root/nltk_data...\n",
            "[nltk_data]    |   Unzipping corpora/crubadan.zip.\n",
            "[nltk_data]    | Downloading package dependency_treebank to\n",
            "[nltk_data]    |     /root/nltk_data...\n",
            "[nltk_data]    |   Unzipping corpora/dependency_treebank.zip.\n",
            "[nltk_data]    | Downloading package dolch to /root/nltk_data...\n",
            "[nltk_data]    |   Unzipping corpora/dolch.zip.\n",
            "[nltk_data]    | Downloading package europarl_raw to\n",
            "[nltk_data]    |     /root/nltk_data...\n",
            "[nltk_data]    |   Unzipping corpora/europarl_raw.zip.\n",
            "[nltk_data]    | Downloading package extended_omw to\n",
            "[nltk_data]    |     /root/nltk_data...\n",
            "[nltk_data]    |   Unzipping corpora/extended_omw.zip.\n",
            "[nltk_data]    | Downloading package floresta to /root/nltk_data...\n",
            "[nltk_data]    |   Unzipping corpora/floresta.zip.\n",
            "[nltk_data]    | Downloading package framenet_v15 to\n",
            "[nltk_data]    |     /root/nltk_data...\n",
            "[nltk_data]    |   Unzipping corpora/framenet_v15.zip.\n",
            "[nltk_data]    | Downloading package framenet_v17 to\n",
            "[nltk_data]    |     /root/nltk_data...\n",
            "[nltk_data]    |   Unzipping corpora/framenet_v17.zip.\n",
            "[nltk_data]    | Downloading package gazetteers to /root/nltk_data...\n",
            "[nltk_data]    |   Unzipping corpora/gazetteers.zip.\n",
            "[nltk_data]    | Downloading package genesis to /root/nltk_data...\n",
            "[nltk_data]    |   Unzipping corpora/genesis.zip.\n",
            "[nltk_data]    | Downloading package gutenberg to /root/nltk_data...\n",
            "[nltk_data]    |   Unzipping corpora/gutenberg.zip.\n",
            "[nltk_data]    | Downloading package ieer to /root/nltk_data...\n",
            "[nltk_data]    |   Unzipping corpora/ieer.zip.\n",
            "[nltk_data]    | Downloading package inaugural to /root/nltk_data...\n",
            "[nltk_data]    |   Unzipping corpora/inaugural.zip.\n",
            "[nltk_data]    | Downloading package indian to /root/nltk_data...\n",
            "[nltk_data]    |   Unzipping corpora/indian.zip.\n",
            "[nltk_data]    | Downloading package jeita to /root/nltk_data...\n",
            "[nltk_data]    | Downloading package kimmo to /root/nltk_data...\n",
            "[nltk_data]    |   Unzipping corpora/kimmo.zip.\n",
            "[nltk_data]    | Downloading package knbc to /root/nltk_data...\n",
            "[nltk_data]    | Downloading package large_grammars to\n",
            "[nltk_data]    |     /root/nltk_data...\n",
            "[nltk_data]    |   Unzipping grammars/large_grammars.zip.\n",
            "[nltk_data]    | Downloading package lin_thesaurus to\n",
            "[nltk_data]    |     /root/nltk_data...\n",
            "[nltk_data]    |   Unzipping corpora/lin_thesaurus.zip.\n",
            "[nltk_data]    | Downloading package mac_morpho to /root/nltk_data...\n",
            "[nltk_data]    |   Unzipping corpora/mac_morpho.zip.\n",
            "[nltk_data]    | Downloading package machado to /root/nltk_data...\n",
            "[nltk_data]    | Downloading package masc_tagged to /root/nltk_data...\n",
            "[nltk_data]    | Downloading package maxent_ne_chunker to\n",
            "[nltk_data]    |     /root/nltk_data...\n",
            "[nltk_data]    |   Unzipping chunkers/maxent_ne_chunker.zip.\n",
            "[nltk_data]    | Downloading package maxent_treebank_pos_tagger to\n",
            "[nltk_data]    |     /root/nltk_data...\n",
            "[nltk_data]    |   Unzipping taggers/maxent_treebank_pos_tagger.zip.\n",
            "[nltk_data]    | Downloading package moses_sample to\n",
            "[nltk_data]    |     /root/nltk_data...\n",
            "[nltk_data]    |   Unzipping models/moses_sample.zip.\n",
            "[nltk_data]    | Downloading package movie_reviews to\n",
            "[nltk_data]    |     /root/nltk_data...\n",
            "[nltk_data]    |   Unzipping corpora/movie_reviews.zip.\n",
            "[nltk_data]    | Downloading package mte_teip5 to /root/nltk_data...\n",
            "[nltk_data]    |   Unzipping corpora/mte_teip5.zip.\n",
            "[nltk_data]    | Downloading package mwa_ppdb to /root/nltk_data...\n",
            "[nltk_data]    |   Unzipping misc/mwa_ppdb.zip.\n",
            "[nltk_data]    | Downloading package names to /root/nltk_data...\n",
            "[nltk_data]    |   Unzipping corpora/names.zip.\n",
            "[nltk_data]    | Downloading package nombank.1.0 to /root/nltk_data...\n",
            "[nltk_data]    | Downloading package nonbreaking_prefixes to\n",
            "[nltk_data]    |     /root/nltk_data...\n",
            "[nltk_data]    |   Unzipping corpora/nonbreaking_prefixes.zip.\n",
            "[nltk_data]    | Downloading package nps_chat to /root/nltk_data...\n",
            "[nltk_data]    |   Unzipping corpora/nps_chat.zip.\n",
            "[nltk_data]    | Downloading package omw to /root/nltk_data...\n",
            "[nltk_data]    |   Unzipping corpora/omw.zip.\n",
            "[nltk_data]    | Downloading package omw-1.4 to /root/nltk_data...\n",
            "[nltk_data]    |   Unzipping corpora/omw-1.4.zip.\n",
            "[nltk_data]    | Downloading package opinion_lexicon to\n",
            "[nltk_data]    |     /root/nltk_data...\n",
            "[nltk_data]    |   Unzipping corpora/opinion_lexicon.zip.\n",
            "[nltk_data]    | Downloading package panlex_swadesh to\n",
            "[nltk_data]    |     /root/nltk_data...\n",
            "[nltk_data]    | Downloading package paradigms to /root/nltk_data...\n",
            "[nltk_data]    |   Unzipping corpora/paradigms.zip.\n",
            "[nltk_data]    | Downloading package pe08 to /root/nltk_data...\n",
            "[nltk_data]    |   Unzipping corpora/pe08.zip.\n",
            "[nltk_data]    | Downloading package perluniprops to\n",
            "[nltk_data]    |     /root/nltk_data...\n",
            "[nltk_data]    |   Unzipping misc/perluniprops.zip.\n",
            "[nltk_data]    | Downloading package pil to /root/nltk_data...\n",
            "[nltk_data]    |   Unzipping corpora/pil.zip.\n",
            "[nltk_data]    | Downloading package pl196x to /root/nltk_data...\n",
            "[nltk_data]    |   Unzipping corpora/pl196x.zip.\n",
            "[nltk_data]    | Downloading package porter_test to /root/nltk_data...\n",
            "[nltk_data]    |   Unzipping stemmers/porter_test.zip.\n",
            "[nltk_data]    | Downloading package ppattach to /root/nltk_data...\n",
            "[nltk_data]    |   Unzipping corpora/ppattach.zip.\n",
            "[nltk_data]    | Downloading package problem_reports to\n",
            "[nltk_data]    |     /root/nltk_data...\n",
            "[nltk_data]    |   Unzipping corpora/problem_reports.zip.\n",
            "[nltk_data]    | Downloading package product_reviews_1 to\n",
            "[nltk_data]    |     /root/nltk_data...\n",
            "[nltk_data]    |   Unzipping corpora/product_reviews_1.zip.\n",
            "[nltk_data]    | Downloading package product_reviews_2 to\n",
            "[nltk_data]    |     /root/nltk_data...\n",
            "[nltk_data]    |   Unzipping corpora/product_reviews_2.zip.\n",
            "[nltk_data]    | Downloading package propbank to /root/nltk_data...\n",
            "[nltk_data]    | Downloading package pros_cons to /root/nltk_data...\n",
            "[nltk_data]    |   Unzipping corpora/pros_cons.zip.\n",
            "[nltk_data]    | Downloading package ptb to /root/nltk_data...\n",
            "[nltk_data]    |   Unzipping corpora/ptb.zip.\n",
            "[nltk_data]    | Downloading package punkt to /root/nltk_data...\n",
            "[nltk_data]    |   Unzipping tokenizers/punkt.zip.\n",
            "[nltk_data]    | Downloading package qc to /root/nltk_data...\n",
            "[nltk_data]    |   Unzipping corpora/qc.zip.\n",
            "[nltk_data]    | Downloading package reuters to /root/nltk_data...\n",
            "[nltk_data]    | Downloading package rslp to /root/nltk_data...\n",
            "[nltk_data]    |   Unzipping stemmers/rslp.zip.\n",
            "[nltk_data]    | Downloading package rte to /root/nltk_data...\n",
            "[nltk_data]    |   Unzipping corpora/rte.zip.\n",
            "[nltk_data]    | Downloading package sample_grammars to\n",
            "[nltk_data]    |     /root/nltk_data...\n",
            "[nltk_data]    |   Unzipping grammars/sample_grammars.zip.\n",
            "[nltk_data]    | Downloading package semcor to /root/nltk_data...\n",
            "[nltk_data]    | Downloading package senseval to /root/nltk_data...\n",
            "[nltk_data]    |   Unzipping corpora/senseval.zip.\n",
            "[nltk_data]    | Downloading package sentence_polarity to\n",
            "[nltk_data]    |     /root/nltk_data...\n",
            "[nltk_data]    |   Unzipping corpora/sentence_polarity.zip.\n",
            "[nltk_data]    | Downloading package sentiwordnet to\n",
            "[nltk_data]    |     /root/nltk_data...\n",
            "[nltk_data]    |   Unzipping corpora/sentiwordnet.zip.\n",
            "[nltk_data]    | Downloading package shakespeare to /root/nltk_data...\n",
            "[nltk_data]    |   Unzipping corpora/shakespeare.zip.\n",
            "[nltk_data]    | Downloading package sinica_treebank to\n",
            "[nltk_data]    |     /root/nltk_data...\n",
            "[nltk_data]    |   Unzipping corpora/sinica_treebank.zip.\n",
            "[nltk_data]    | Downloading package smultron to /root/nltk_data...\n",
            "[nltk_data]    |   Unzipping corpora/smultron.zip.\n",
            "[nltk_data]    | Downloading package snowball_data to\n",
            "[nltk_data]    |     /root/nltk_data...\n",
            "[nltk_data]    | Downloading package spanish_grammars to\n",
            "[nltk_data]    |     /root/nltk_data...\n",
            "[nltk_data]    |   Unzipping grammars/spanish_grammars.zip.\n",
            "[nltk_data]    | Downloading package state_union to /root/nltk_data...\n",
            "[nltk_data]    |   Unzipping corpora/state_union.zip.\n",
            "[nltk_data]    | Downloading package stopwords to /root/nltk_data...\n",
            "[nltk_data]    |   Unzipping corpora/stopwords.zip.\n",
            "[nltk_data]    | Downloading package subjectivity to\n",
            "[nltk_data]    |     /root/nltk_data...\n",
            "[nltk_data]    |   Unzipping corpora/subjectivity.zip.\n",
            "[nltk_data]    | Downloading package swadesh to /root/nltk_data...\n",
            "[nltk_data]    |   Unzipping corpora/swadesh.zip.\n",
            "[nltk_data]    | Downloading package switchboard to /root/nltk_data...\n",
            "[nltk_data]    |   Unzipping corpora/switchboard.zip.\n",
            "[nltk_data]    | Downloading package tagsets to /root/nltk_data...\n",
            "[nltk_data]    |   Unzipping help/tagsets.zip.\n",
            "[nltk_data]    | Downloading package timit to /root/nltk_data...\n",
            "[nltk_data]    |   Unzipping corpora/timit.zip.\n",
            "[nltk_data]    | Downloading package toolbox to /root/nltk_data...\n",
            "[nltk_data]    |   Unzipping corpora/toolbox.zip.\n",
            "[nltk_data]    | Downloading package treebank to /root/nltk_data...\n",
            "[nltk_data]    |   Unzipping corpora/treebank.zip.\n",
            "[nltk_data]    | Downloading package twitter_samples to\n",
            "[nltk_data]    |     /root/nltk_data...\n",
            "[nltk_data]    |   Unzipping corpora/twitter_samples.zip.\n",
            "[nltk_data]    | Downloading package udhr to /root/nltk_data...\n",
            "[nltk_data]    |   Unzipping corpora/udhr.zip.\n",
            "[nltk_data]    | Downloading package udhr2 to /root/nltk_data...\n",
            "[nltk_data]    |   Unzipping corpora/udhr2.zip.\n",
            "[nltk_data]    | Downloading package unicode_samples to\n",
            "[nltk_data]    |     /root/nltk_data...\n",
            "[nltk_data]    |   Unzipping corpora/unicode_samples.zip.\n",
            "[nltk_data]    | Downloading package universal_tagset to\n",
            "[nltk_data]    |     /root/nltk_data...\n",
            "[nltk_data]    |   Unzipping taggers/universal_tagset.zip.\n",
            "[nltk_data]    | Downloading package universal_treebanks_v20 to\n",
            "[nltk_data]    |     /root/nltk_data...\n",
            "[nltk_data]    | Downloading package vader_lexicon to\n",
            "[nltk_data]    |     /root/nltk_data...\n",
            "[nltk_data]    | Downloading package verbnet to /root/nltk_data...\n",
            "[nltk_data]    |   Unzipping corpora/verbnet.zip.\n",
            "[nltk_data]    | Downloading package verbnet3 to /root/nltk_data...\n",
            "[nltk_data]    |   Unzipping corpora/verbnet3.zip.\n",
            "[nltk_data]    | Downloading package webtext to /root/nltk_data...\n",
            "[nltk_data]    |   Unzipping corpora/webtext.zip.\n",
            "[nltk_data]    | Downloading package wmt15_eval to /root/nltk_data...\n",
            "[nltk_data]    |   Unzipping models/wmt15_eval.zip.\n",
            "[nltk_data]    | Downloading package word2vec_sample to\n",
            "[nltk_data]    |     /root/nltk_data...\n",
            "[nltk_data]    |   Unzipping models/word2vec_sample.zip.\n",
            "[nltk_data]    | Downloading package wordnet to /root/nltk_data...\n",
            "[nltk_data]    |   Unzipping corpora/wordnet.zip.\n",
            "[nltk_data]    | Downloading package wordnet2021 to /root/nltk_data...\n",
            "[nltk_data]    |   Unzipping corpora/wordnet2021.zip.\n",
            "[nltk_data]    | Downloading package wordnet31 to /root/nltk_data...\n",
            "[nltk_data]    |   Unzipping corpora/wordnet31.zip.\n",
            "[nltk_data]    | Downloading package wordnet_ic to /root/nltk_data...\n",
            "[nltk_data]    |   Unzipping corpora/wordnet_ic.zip.\n",
            "[nltk_data]    | Downloading package words to /root/nltk_data...\n",
            "[nltk_data]    |   Unzipping corpora/words.zip.\n",
            "[nltk_data]    | Downloading package ycoe to /root/nltk_data...\n",
            "[nltk_data]    |   Unzipping corpora/ycoe.zip.\n",
            "[nltk_data]    | \n",
            "[nltk_data]  Done downloading collection all\n"
          ]
        }
      ],
      "source": [
        "# Imports \n",
        "\n",
        "import torch\n",
        "import torch.nn as nn\n",
        "import torch.nn.functional as F\n",
        "import torch.optim as optim\n",
        "from torch import nn, Tensor\n",
        "from torch.utils.data import Dataset, DataLoader\n",
        "from torch.nn import TransformerEncoder, TransformerEncoderLayer\n",
        "\n",
        "\n",
        "from collections import defaultdict, Counter\n",
        "\n",
        "import math\n",
        "from typing import Tuple\n",
        "import numpy as np\n",
        "import pandas as pd\n",
        "import pickle\n",
        "#import bcolz\n",
        "\n",
        "import os\n",
        "import time\n",
        "import random\n",
        "import functools\n",
        "from datetime import datetime\n",
        "\n",
        "\n",
        "import nltk\n",
        "nltk.download(\"all\")\n",
        "# nltk.download(\"stopwords\")\n",
        "# nltk.download(\"punkt\")\n",
        "# nltk.download('averaged_perceptron_tagger')\n",
        "from nltk.corpus import stopwords\n",
        "from string import punctuation\n",
        "from nltk import pos_tag, WordNetLemmatizer\n",
        "from pprint import pprint\n",
        "import string\n",
        "\n",
        "import bz2\n",
        "import pickle\n",
        "import _pickle as cPickle\n",
        "\n",
        "import numba\n",
        "from numba import jit\n",
        "from numba import njit\n",
        "\n",
        "\n",
        "import matplotlib.pyplot as plt\n",
        "\n",
        "%config InlineBackend.figure_format = 'retina'\n",
        "plt.style.use('seaborn')"
      ]
    },
    {
      "cell_type": "code",
      "execution_count": null,
      "metadata": {
        "id": "axg3vWr_YsZM",
        "colab": {
          "base_uri": "https://localhost:8080/"
        },
        "outputId": "d5c9d3ab-6c59-4ca2-b6fa-eb71d93a95e0"
      },
      "outputs": [
        {
          "output_type": "stream",
          "name": "stdout",
          "text": [
            "1.11.0+cu113\n"
          ]
        }
      ],
      "source": [
        "print(torch.__version__)"
      ]
    },
    {
      "cell_type": "code",
      "execution_count": null,
      "metadata": {
        "id": "IZ2DJA3vYM9J",
        "colab": {
          "base_uri": "https://localhost:8080/"
        },
        "outputId": "7f5b2e3c-a217-4552-f818-0b12c59149cf"
      },
      "outputs": [
        {
          "output_type": "execute_result",
          "data": {
            "text/plain": [
              "device(type='cuda')"
            ]
          },
          "metadata": {},
          "execution_count": 5
        }
      ],
      "source": [
        "# set seed to ensure the same initialization for every run\n",
        "\n",
        "SEED = 1234\n",
        "\n",
        "random.seed(SEED)\n",
        "np.random.seed(SEED)\n",
        "torch.manual_seed(SEED)\n",
        "torch.backends.cudnn.deterministic = True\n",
        "DEVICE = torch.device('cuda' if torch.cuda.is_available() else 'cpu')\n",
        "DEVICE"
      ]
    },
    {
      "cell_type": "code",
      "execution_count": null,
      "metadata": {
        "id": "rkdoYU92V4dv"
      },
      "outputs": [],
      "source": [
        "# To prevent Colab from disconnection\n",
        "# while True:pass"
      ]
    },
    {
      "cell_type": "markdown",
      "metadata": {
        "id": "rNHjzlbeyYk7"
      },
      "source": [
        "### Check which GPU Google Colab is offering me at the moment\n",
        "\n",
        "[Code Source](https://github.com/jeffheaton/present/blob/master/youtube/benchmark_colab.ipynb)"
      ]
    },
    {
      "cell_type": "code",
      "source": [
        "# Some checks\n",
        "\n",
        "!ipython kernelspec list\n",
        "import sys\n",
        "print(sys.version)\n",
        "print(sys.executable)"
      ],
      "metadata": {
        "id": "Qh251YqptZzh",
        "colab": {
          "base_uri": "https://localhost:8080/"
        },
        "outputId": "5f394f5f-37fd-4945-df69-8225d1fd14a9"
      },
      "execution_count": null,
      "outputs": [
        {
          "output_type": "stream",
          "name": "stdout",
          "text": [
            "[TerminalIPythonApp] WARNING | Subcommand `ipython kernelspec` is deprecated and will be removed in future versions.\n",
            "[TerminalIPythonApp] WARNING | You likely want to use `jupyter kernelspec` in the future\n",
            "Available kernels:\n",
            "  ir         /usr/local/share/jupyter/kernels/ir\n",
            "  python3    /usr/local/share/jupyter/kernels/python3\n",
            "3.7.13 (default, Apr 24 2022, 01:04:09) \n",
            "[GCC 7.5.0]\n",
            "/usr/bin/python3\n"
          ]
        }
      ]
    },
    {
      "cell_type": "code",
      "execution_count": null,
      "metadata": {
        "id": "fVhmRXs-yX4H",
        "colab": {
          "base_uri": "https://localhost:8080/"
        },
        "outputId": "2c93a7da-a190-454e-907c-69f863ddcac3"
      },
      "outputs": [
        {
          "output_type": "stream",
          "name": "stdout",
          "text": [
            "Sun May  1 21:36:53 2022       \n",
            "+-----------------------------------------------------------------------------+\n",
            "| NVIDIA-SMI 460.32.03    Driver Version: 460.32.03    CUDA Version: 11.2     |\n",
            "|-------------------------------+----------------------+----------------------+\n",
            "| GPU  Name        Persistence-M| Bus-Id        Disp.A | Volatile Uncorr. ECC |\n",
            "| Fan  Temp  Perf  Pwr:Usage/Cap|         Memory-Usage | GPU-Util  Compute M. |\n",
            "|                               |                      |               MIG M. |\n",
            "|===============================+======================+======================|\n",
            "|   0  Tesla P100-PCIE...  Off  | 00000000:00:04.0 Off |                    0 |\n",
            "| N/A   35C    P0    26W / 250W |      2MiB / 16280MiB |      0%      Default |\n",
            "|                               |                      |                  N/A |\n",
            "+-------------------------------+----------------------+----------------------+\n",
            "                                                                               \n",
            "+-----------------------------------------------------------------------------+\n",
            "| Processes:                                                                  |\n",
            "|  GPU   GI   CI        PID   Type   Process name                  GPU Memory |\n",
            "|        ID   ID                                                   Usage      |\n",
            "|=============================================================================|\n",
            "|  No running processes found                                                 |\n",
            "+-----------------------------------------------------------------------------+\n"
          ]
        }
      ],
      "source": [
        "gpu_info = !nvidia-smi\n",
        "gpu_info = '\\n'.join(gpu_info)\n",
        "if gpu_info.find('failed') >= 0:\n",
        "  print('Select the Runtime > \"Change runtime type\" menu to enable a GPU accelerator, ')\n",
        "  print('and then re-execute this cell.')\n",
        "else:\n",
        "  print(gpu_info)"
      ]
    },
    {
      "cell_type": "code",
      "execution_count": null,
      "metadata": {
        "id": "C9oR28SdzAb0",
        "colab": {
          "base_uri": "https://localhost:8080/"
        },
        "outputId": "ca404e14-7952-45ab-cd36-e12787baec93"
      },
      "outputs": [
        {
          "output_type": "stream",
          "name": "stdout",
          "text": [
            "Your runtime has 54.8 gigabytes of available RAM\n",
            "\n",
            "You are using a high-RAM runtime!\n"
          ]
        }
      ],
      "source": [
        "# check how much RAM is available\n",
        "from psutil import virtual_memory\n",
        "ram_gb = virtual_memory().total / 1e9\n",
        "print('Your runtime has {:.1f} gigabytes of available RAM\\n'.format(ram_gb))\n",
        "\n",
        "if ram_gb < 20:\n",
        "  print('To enable a high-RAM runtime, select the Runtime > \"Change runtime type\"')\n",
        "  print('menu, and then select High-RAM in the Runtime shape dropdown. Then, ')\n",
        "  print('re-execute this cell.')\n",
        "else:\n",
        "  print('You are using a high-RAM runtime!')"
      ]
    },
    {
      "cell_type": "code",
      "execution_count": null,
      "metadata": {
        "id": "1UEKy3KhzFQj",
        "colab": {
          "base_uri": "https://localhost:8080/"
        },
        "outputId": "597aa26c-72f0-4db4-8471-3c6cfa4f57cd"
      },
      "outputs": [
        {
          "output_type": "stream",
          "name": "stdout",
          "text": [
            "Architecture:        x86_64\n",
            "CPU op-mode(s):      32-bit, 64-bit\n",
            "Byte Order:          Little Endian\n",
            "CPU(s):              8\n",
            "On-line CPU(s) list: 0-7\n",
            "Thread(s) per core:  2\n",
            "Core(s) per socket:  4\n",
            "Socket(s):           1\n",
            "NUMA node(s):        1\n",
            "Vendor ID:           GenuineIntel\n",
            "CPU family:          6\n",
            "Model:               63\n",
            "Model name:          Intel(R) Xeon(R) CPU @ 2.30GHz\n",
            "Stepping:            0\n",
            "CPU MHz:             2299.998\n",
            "BogoMIPS:            4599.99\n",
            "Hypervisor vendor:   KVM\n",
            "Virtualization type: full\n",
            "L1d cache:           32K\n",
            "L1i cache:           32K\n",
            "L2 cache:            256K\n",
            "L3 cache:            46080K\n",
            "NUMA node0 CPU(s):   0-7\n",
            "Flags:               fpu vme de pse tsc msr pae mce cx8 apic sep mtrr pge mca cmov pat pse36 clflush mmx fxsr sse sse2 ss ht syscall nx pdpe1gb rdtscp lm constant_tsc rep_good nopl xtopology nonstop_tsc cpuid tsc_known_freq pni pclmulqdq ssse3 fma cx16 pcid sse4_1 sse4_2 x2apic movbe popcnt aes xsave avx f16c rdrand hypervisor lahf_lm abm invpcid_single ssbd ibrs ibpb stibp fsgsbase tsc_adjust bmi1 avx2 smep bmi2 erms invpcid xsaveopt arat md_clear arch_capabilities\n"
          ]
        }
      ],
      "source": [
        "# list cpu architecture information \n",
        "!lscpu"
      ]
    },
    {
      "cell_type": "markdown",
      "metadata": {
        "id": "UuYOEKv_V_oT"
      },
      "source": [
        "function ClickConnect(){\n",
        "    console.log(\"Clicked on connect button\"); \n",
        "    document.querySelector(\"colab-connect-button\").click()\n",
        "}\n",
        "setInterval(ClickConnect,60000)"
      ]
    },
    {
      "cell_type": "markdown",
      "metadata": {
        "collapsed": false,
        "id": "AaNWxx1ZYM9J"
      },
      "source": [
        "# Utils Functions (Loading Data, Vocab, Numericalization, Input Preprocessing, Tag Decoding)"
      ]
    },
    {
      "cell_type": "code",
      "execution_count": null,
      "metadata": {
        "id": "UwR3TRG1YM9L"
      },
      "outputs": [],
      "source": [
        "def to_tensor(string_list):\n",
        "    \"\"\"\n",
        "    Transforms a list of strings into a list of floats. \n",
        "    After writing the list to the .csv file, the list is transformed to list of strings.\n",
        "    :param string_list: list of strings\n",
        "    :return: torch tensor of float32\n",
        "    \"\"\"\n",
        "    l_str = [] \n",
        "    for ele in string_list:\n",
        "        if ele[0] == \"[\":\n",
        "            l_str.append(ele[1:])\n",
        "        else:\n",
        "            if ele[-1] == \"]\":\n",
        "                l_str.append(ele[:-1])\n",
        "            else:\n",
        "                l_str.append(ele)\n",
        "\n",
        "    str_vec = \" \".join(l_str)\n",
        "    torch_labels = torch.tensor(list(map(float, str_vec.split(' '))), dtype=torch.float32)\n",
        "    return torch_labels"
      ]
    },
    {
      "cell_type": "code",
      "execution_count": null,
      "metadata": {
        "id": "N3g38XKKYM9L"
      },
      "outputs": [],
      "source": [
        "def parse_data(file):\n",
        "    \"\"\"\n",
        "    reads the stem word and the spatial tag of each token in the .csv file\n",
        "    :param file: the csv file for training\n",
        "    :return: List of training data of the form [[tokenized_sentence-1, spatial_tensors],\n",
        "                                                [tokenized_sentence-1, spatial_tensors], ...]\n",
        "    \"\"\"\n",
        "    with open(file, encoding='utf-8') as f:\n",
        "        examples = []\n",
        "        words = []\n",
        "        lemmas = []\n",
        "        synset_offset = []\n",
        "        idx = []\n",
        "        labels = []\n",
        "        for line in f:\n",
        "            # print(\"initial line \", line)\n",
        "            line = line.strip()\n",
        "            # print(\"STRIPPING line \", line)\n",
        "            if not line:\n",
        "                examples.append([lemmas, synset_offset, labels, idx])\n",
        "                words = []\n",
        "                lemmas = []\n",
        "                synset_offset = []\n",
        "                idx = []\n",
        "                labels = []\n",
        "            else:\n",
        "                columns = line.split()\n",
        "                # print(\"cols\", columns)\n",
        "                words.append(columns[0])\n",
        "                lemmas.append(columns[1])\n",
        "                synset_offset.append(columns[4])\n",
        "                idx.append(int(columns[5]))\n",
        "                lab = to_tensor(columns[-6:])\n",
        "                labels.append(lab)\n",
        "\n",
        "               \n",
        "\n",
        "        return examples"
      ]
    },
    {
      "cell_type": "code",
      "source": [
        "def parse_testing_data(file_path): # file_path = os.path.join(TESTING_PATH, \"/senseval2.pt\")\n",
        "  \"\"\"\n",
        "  parses the testing datasets, and prepares it for training\n",
        "  \"\"\"\n",
        "\n",
        "  data = torch.load(file_path)\n",
        " \n",
        "  extracted_data = []\n",
        "\n",
        "  for i, sent in enumerate(data):\n",
        "      tmp_lemma = []\n",
        "      tmp_tag = []\n",
        "      tmp_synset = []\n",
        "      tmp_idx = []\n",
        "      tmp_pos = []\n",
        "      for j, word in enumerate(sent): \n",
        "        tmp_lemma.append(word[1])\n",
        "        tmp_tag.append(word[5])\n",
        "        tmp_synset.append(word[3])\n",
        "        tmp_idx.append(word[4])\n",
        "        tmp_pos.append(word[2])\n",
        "      tmp_sent = [tmp_lemma, tmp_tag, tmp_synset, tmp_idx, tmp_pos]\n",
        "      extracted_data.append(tmp_sent)\n",
        "  return extracted_data"
      ],
      "metadata": {
        "id": "2XwxzY3hom77"
      },
      "execution_count": null,
      "outputs": []
    },
    {
      "cell_type": "code",
      "execution_count": null,
      "metadata": {
        "id": "nNzbOazAYM9M"
      },
      "outputs": [],
      "source": [
        "def clean_untagged(data):\n",
        "    \"\"\"\n",
        "    cleans the parsed data from a csv to remove entries that do not contain tagged senses.\n",
        "    :param data: The parsed data\n",
        "    return: original, and clean data\n",
        "    \"\"\"\n",
        "    original_data = data\n",
        "    for entry in data:\n",
        "        \n",
        "        idx = [i for i, syn in enumerate(entry[1]) if syn == 'no-synset']\n",
        "\n",
        "        # remove those from the data\n",
        "        for s in reversed(idx):\n",
        "            del entry[0][s]\n",
        "            del entry[1][s]\n",
        "            del entry[2][s]\n",
        "\n",
        "    return original_data, data"
      ]
    },
    {
      "cell_type": "code",
      "execution_count": null,
      "metadata": {
        "id": "3gUGwUHKYM9N"
      },
      "outputs": [],
      "source": [
        "def data_id(data):\n",
        "    \"\"\"\n",
        "    assigns for each sentence in the data an id to ease the splittings for training/validation.\n",
        "    :param data: \n",
        "    :return data with ids\n",
        "    \"\"\"\n",
        "\n",
        "    # data_collector = {\"0\": [[], []], \"1\": [[],[]], ...}\n",
        "    data_collector = {}\n",
        "    for i, instance in enumerate(data):\n",
        "        data_collector[str(i)] = instance\n",
        "\n",
        "    return data_collector"
      ]
    },
    {
      "cell_type": "code",
      "execution_count": null,
      "metadata": {
        "id": "0ucyBqVlYM9N"
      },
      "outputs": [],
      "source": [
        "def load_vocab(data, embed_size=300):\n",
        "    \"\"\"\n",
        "    loads the vocabulary from the data (words of sentences) and assigns for each word a glove embedding.\n",
        "    :param data: words for training/validation/testing\n",
        "    :return embed_size: vector embedding size \n",
        "    \"\"\"\n",
        "\n",
        "    data = list(data)\n",
        "    \n",
        "    # insert all dataset vocabulary\n",
        "    dataset_vocab = []\n",
        "    \n",
        "    print(data[0])\n",
        "    if isinstance(data[0], str):\n",
        "        dataset_vocab = data\n",
        "    else:\n",
        "        for instance in data:            \n",
        "            dataset_vocab += instance[0]\n",
        "    \n",
        "    # remove duplicates\n",
        "    target_vocab = set(dataset_vocab)\n",
        "    \n",
        "    # generate weights matrix using glove\n",
        "    matrix_len = len(target_vocab)\n",
        "    \n",
        "    weights_matrix = np.zeros((matrix_len, embed_size))\n",
        "    \n",
        "    words_found = 0\n",
        "\n",
        "    for i, word in enumerate(target_vocab):\n",
        "        try:\n",
        "            weights_matrix[i] = glove[word]\n",
        "            words_found += 1\n",
        "        except KeyError:\n",
        "            weights_matrix[i] = np.random.normal(scale=0.6, size=(embed_size, ))\n",
        "    \n",
        "    return target_vocab, weights_matrix"
      ]
    },
    {
      "cell_type": "code",
      "execution_count": null,
      "metadata": {
        "id": "wenA6SRyYM9O"
      },
      "outputs": [],
      "source": [
        "def numericalize(tokens_list, vocab):\n",
        "    \"\"\"\n",
        "    gives a number to each word in the training/testing dataset, so that the sentences can be handled by torch using numbers.\n",
        "    :param tokens_list: a sentence as list of tokens\n",
        "    :param vocab: the vocabulary of all sentences in the training data.\n",
        "    \"\"\"\n",
        "    \n",
        "    str2num = {word: index for index, word in enumerate(vocab)}\n",
        "    num_list = []\n",
        "    for token in tokens_list:\n",
        "        num_list.append(str2num[token])\n",
        "        \n",
        "    return torch.tensor(num_list, dtype=torch.long)\n"
      ]
    },
    {
      "cell_type": "code",
      "execution_count": null,
      "metadata": {
        "id": "_xVEpzceYM9P"
      },
      "outputs": [],
      "source": [
        "# Preprocess Input sentence\n",
        "\n",
        "# set of english stop words U set of punctuation\n",
        "EN_STOPWORDS_PUNCT = set(stopwords.words('english')).union(set(string.punctuation))\n",
        "WN_LEMMATIZER = WordNetLemmatizer()\n",
        "\n",
        "\n",
        "def tags4wn(tag):\n",
        "    \"\"\"Penn Treebank tags: https://www.ling.upenn.edu/courses/Fall_2003/ling001/penn_treebank_pos.html\n",
        "    Converts PennTreeBank tags to WN tags, e.g. n, a, v\"\"\"\n",
        "    tag_conversion = {\"NN\": \"n\", # noun\n",
        "                      \"JJ\": \"a\", # adjective\n",
        "                      \"VB\": \"v\", # verb\n",
        "                      \"RB\": \"r\"} # adverb\n",
        "    try:\n",
        "        # return the WN tags\n",
        "        return tag_conversion[tag[:2]]\n",
        "    except:\n",
        "        # if no tag is found, treat the word as a noun\n",
        "        return \"n\"\n",
        "\n",
        "def preprocess(sentence):\n",
        "    \"\"\"Preprocesses a raw input sentence and return a list of each word with its POS tag.\"\"\"\n",
        "    # Tokenization\n",
        "    tokenized_sentence = nltk.word_tokenize(sentence)\n",
        "    # lowercase all words\n",
        "    lower = [word.lower() for word in tokenized_sentence]\n",
        "    # print(lower)\n",
        "    # delete stop words and punctuation\n",
        "    clean_sentence = [word for word in lower if word not in EN_STOPWORDS_PUNCT]\n",
        "    # print(clean_sentence)\n",
        "    # use wordNet Lemmatizer to do POS and then lemmatize\n",
        "    pos_tagging = pos_tag(clean_sentence)\n",
        "    # print(pos_tagging)\n",
        "    # Lemmatize\n",
        "    lemmatized_sentence = [(WN_LEMMATIZER.lemmatize(word, pos=tags4wn(tag)), tags4wn(tag)) for word, tag in pos_tagging]\n",
        "    # print(lemmatized_sentence)\n",
        "\n",
        "    return lemmatized_sentence\n"
      ]
    },
    {
      "cell_type": "code",
      "execution_count": null,
      "metadata": {
        "id": "ysrHv73MEtCd"
      },
      "outputs": [],
      "source": [
        "def decode_tag(tokens, sentag_idx, sentag_dist, file, true_synsets=None):\n",
        "    \"\"\"\n",
        "    decodes and prints the output of the vicinity matrix in a readable way.\n",
        "    :param tokens: the words in the sentence to be tagged\n",
        "    :param sentag_idx: the indices of the senses in the vicinity matrix\n",
        "    :param sentag_dist: the distances to the senses in the vicinity matrix\n",
        "    :param file: file to which print() is redirected\n",
        "    :param true_synsets: the gold annotation of the word\n",
        "    :return a print of the vicinity matrix \n",
        "    \"\"\"\n",
        "\n",
        "    # Vicinity Matrix decoding\n",
        "    print(\"Please refer to the following descriptions to encode the relation between the predicted sphere and its vicinity.\", file=file)\n",
        "    print(\"part_of: The predicted sphere is fully part of in the fixed sphere.\", file=file)\n",
        "    print(\"near_to: The distance between the predicted sphere and the true sphere is minimal.\", file=file)\n",
        "    print(\"-\" * 100, file=file)\n",
        "    print(' ', file=file)\n",
        "    print('#' * 100, file=file)\n",
        "    print(' ', file=file)\n",
        "    \n",
        "    if true_synsets==None:\n",
        "      print(f\"{'token':8s} | {'kind':4s} | {'top_k':4s} | {'dist':4s}\", file=file)\n",
        "      print(' ', file=file)\n",
        "\n",
        "      for t, i, d in zip(tokens, sentag_idx, sentag_dist):\n",
        "        for (ik, iv), (dk, dv) in zip(i.items(), d.items()):\n",
        "          \n",
        "            # decode fct\n",
        "            iv, dv = iv.cpu().detach().numpy(), dv.cpu().detach().numpy()\n",
        "            senses, distances = target_VOCAB[iv], dv\n",
        "            for sense, distance in zip(senses, distances):\n",
        "                print(f'{t:8s} | {ik:4s} | {sense[0]:4s}, {sense[1]:4s} | {distance}', file=file)\n",
        "            print(' ', file=file)\n",
        "            print(' ', file=file)\n",
        "    else: \n",
        "        print(f\"{'token':8s} | {'true_synset':8s} | {'kind':4s} | {'top_k':4s} | {'dist':4s}\", file=file)\n",
        "        print(' ', file=file)\n",
        "        for t, i, d in zip(tokens, sentag_idx, sentag_dist):\n",
        "          for (ik, iv), (dk, dv) in zip(i.items(), d.items()):\n",
        "              # decode fct\n",
        "              iv, dv = iv.cpu().detach().numpy(), dv.cpu().detach().numpy()\n",
        "              senses, distances = target_VOCAB[iv], dv\n",
        "              for sense, distance in zip(senses, distances):\n",
        "                  print(f'{t:8s} | {\" or \".join(true_synsets):8s} | {ik:4s} | {sense[0]:4s}, {sense[1]:4s} | {str(distance)}', file=file)\n",
        "              print(' ', file=file)\n",
        "              print(' ', file=file)"
      ]
    },
    {
      "cell_type": "code",
      "source": [
        "def save_results(predictions, results_path, traindata_name, chkpt_name, testset_name, testset_id, document, target_vocab, spatial_tags, k=5, device=DEVICE):\n",
        "    \"\"\"Saves the results of the testing instances into txt files.\"\"\"\n",
        "\n",
        "    processed_instances = []\n",
        "    for idx, out in predictions.items():\n",
        "        # check if the text file already exists (to resume) \n",
        "    \n",
        "        for i, word_tag in enumerate(out):\n",
        "            \n",
        "            if not os.path.exists(os.path.join(results_path, traindata_name, chkpt_name)):\n",
        "                os.mkdir(os.path.join(results_path, traindata_name, chkpt_name))\n",
        "\n",
        "            if not os.path.exists(os.path.join(results_path, traindata_name, chkpt_name, testset_name)):\n",
        "                os.mkdir(os.path.join(results_path, traindata_name, chkpt_name, testset_name))\n",
        "              \n",
        "            outfile = os.path.join(results_path, traindata_name, chkpt_name, testset_name, f'{idx}_{i}.txt')\n",
        "\n",
        "            if os.path.exists(outfile):\n",
        "                print(\"Existing file in: \", outfile)\n",
        "                print(\"Resume Results ...\")\n",
        "                i += 1\n",
        "                \n",
        "            else: \n",
        "\n",
        "                f = open(outfile, 'w+')\n",
        "                print(\"Original Document:\", file=f)\n",
        "                print(document[int(idx)], file=f)\n",
        "                print(\" \", file=f)\n",
        "                lemmatized_sentence = testset_id[idx][0]\n",
        "                annotations = testset_id[idx][2]\n",
        "                pos = testset_id[idx][4]\n",
        "                for lemma, p, annotation in zip(lemmatized_sentence, pos, annotations):\n",
        "                  print(f'{lemma}, {p}, {annotation}', file=f)\n",
        "                print('-' * 100, file=f)\n",
        "                print(' ', file=f)\n",
        "                predicted_indices = []\n",
        "                distances = []\n",
        "                                    \n",
        "                vindices, vmat, vdist = vicinity_matrix(spatial_params=word_tag,\n",
        "                                                        pos=pos[i],\n",
        "                                                        target_vocab=target_vocab,\n",
        "                                                        spatial_tags=spatial_tags, \n",
        "                                                        pos_tags=pos_tags,\n",
        "                                                        k=k, device=device)\n",
        "                predicted_indices.append(vindices)\n",
        "                distances.append(vdist)\n",
        "              \n",
        "                decode_tag(tokens=[lemmatized_sentence[i]], sentag_idx=[vindices], sentag_dist=[vdist], file=f, true_synsets=annotations[i])\n",
        "\n",
        "        processed_instances.append(idx)\n",
        "    print(\"Following instances of the testing set are processed: {}\".format(processed_instances))\n",
        "    return processed_instances\n"
      ],
      "metadata": {
        "id": "ndRhA3wy-Ym2"
      },
      "execution_count": null,
      "outputs": []
    },
    {
      "cell_type": "markdown",
      "metadata": {
        "collapsed": false,
        "id": "JXSQufUkYM9P"
      },
      "source": [
        "# Mount files to google drive\n"
      ]
    },
    {
      "cell_type": "code",
      "execution_count": null,
      "metadata": {
        "id": "quHX2Q3SZ2-6",
        "colab": {
          "base_uri": "https://localhost:8080/"
        },
        "outputId": "00974817-d2ce-4e66-8295-297dd73dcd6b"
      },
      "outputs": [
        {
          "output_type": "stream",
          "name": "stdout",
          "text": [
            "Mounted at /content/drive\n"
          ]
        }
      ],
      "source": [
        "from google.colab import drive\n",
        "drive.mount('/content/drive')"
      ]
    },
    {
      "cell_type": "code",
      "execution_count": null,
      "metadata": {
        "id": "OjdxaS0_DHdt"
      },
      "outputs": [],
      "source": [
        "from google.colab import files"
      ]
    },
    {
      "cell_type": "markdown",
      "metadata": {
        "id": "XVnUQgeYvXSX"
      },
      "source": [
        "\n",
        "# Paths for training on PWNGC (only)\n"
      ]
    },
    {
      "cell_type": "code",
      "execution_count": null,
      "metadata": {
        "id": "oxRS52zYuOiX"
      },
      "outputs": [],
      "source": [
        "resources_path = \"/content/drive/MyDrive/ColabNotebooks/wsd_resources/resources_factory\"\n",
        "pwngc_path = \"pwngc\"\n",
        "train_path_pwngc = os.path.join(resources_path, pwngc_path, \"idx_complete_pwngc4regressor.csv\")\n",
        "# resources_path + pwngc_path + train_path_pwngc\n",
        "idx_file = os.path.join(resources_path, pwngc_path, \"indexed_pwngc_id.pt\")\n",
        "glove_path = \"/content/drive/MyDrive/ColabNotebooks/wsd_resources/glove/\"\n",
        "CHECKPOINT_PATH = \"/content/drive/MyDrive/ColabNotebooks/wsd_resources/checkpoints\"\n",
        "TESTING_PATH = \"/content/drive/MyDrive/ColabNotebooks/wsd_resources/testing_datasets\"\n",
        "RESULTS_PATH = \"/content/drive/MyDrive/ColabNotebooks/wsd_resources/results/\"\n",
        "ANNOTATION_PATH = \"/content/drive/MyDrive/ColabNotebooks/wsd_resources/annotations/\"\n",
        "traindata_name=\"pwngc\"\n"
      ]
    },
    {
      "cell_type": "markdown",
      "metadata": {
        "id": "L6PSPtIAvhvc"
      },
      "source": [
        "# 🛑 run this code only once if you're running this notebook for the first time\n",
        "## preprocessing and saving data "
      ]
    },
    {
      "cell_type": "code",
      "execution_count": null,
      "metadata": {
        "id": "1MkQDNifvebw"
      },
      "outputs": [],
      "source": [
        "# # parse training data through path\n",
        "data = parse_data(train_path_pwngc)"
      ]
    },
    {
      "cell_type": "code",
      "execution_count": null,
      "metadata": {
        "id": "iYVUeuZ1-vhh",
        "colab": {
          "base_uri": "https://localhost:8080/"
        },
        "outputId": "fbd6bbea-7184-4752-f451-be4096c5b3f0"
      },
      "outputs": [
        {
          "output_type": "stream",
          "name": "stdout",
          "text": [
            "The initial data: 186655\n",
            "There are 939 empty entries.\n",
            "After removing empty entries, the data is now 185716\n"
          ]
        }
      ],
      "source": [
        "print(\"The initial data: {}\".format(len(data)))\n",
        "\n",
        "# checking if there are empty entries\n",
        "empty_entries = 0\n",
        "for entry in data:\n",
        "  if entry == [[], [], [], []]:\n",
        "    empty_entries +=1 \n",
        "\n",
        "print(\"There are {} empty entries.\".format(empty_entries)) # 939\n",
        "\n",
        "# remove empty entries\n",
        "data = list(filter(([[], [], [], []]).__ne__, data))\n",
        "\n",
        "print(\"After removing empty entries, the data is now {}\".format(len(data)))"
      ]
    },
    {
      "cell_type": "code",
      "execution_count": null,
      "metadata": {
        "id": "V6RKWIGSvfns",
        "colab": {
          "base_uri": "https://localhost:8080/"
        },
        "outputId": "80668551-3b05-432a-8109-7169ff5b02b7"
      },
      "outputs": [
        {
          "output_type": "stream",
          "name": "stdout",
          "text": [
            "There are in total 532821 annotated synsets.\n",
            "\n",
            "Without redundancy, 65163 synsets remain.\n",
            "\n",
            "The frequency by which the synsets are mentioned: how many synset is mentioned how many times?\n"
          ]
        }
      ],
      "source": [
        "# count the number of unique synsets and their redundancy\n",
        "all_synsets = []\n",
        "for i, sentence in enumerate(data):\n",
        "  print(sentence)\n",
        "  all_synsets += sentence[1]\n",
        "print(\"There are in total {} annotated synsets.\".format(len(all_synsets)))\n",
        "print()\n",
        "print(\"Without redundancy, {} synsets remain.\".format(len(set(all_synsets))))\n",
        "print()\n",
        "print(\"The frequency by which the synsets are mentioned: how many synset is mentioned how many times?\")"
      ]
    },
    {
      "cell_type": "code",
      "execution_count": null,
      "metadata": {
        "id": "jwBqhDk2AteW"
      },
      "outputs": [],
      "source": [
        "# count the number of words in the sentences\n",
        "nb_words_sent = []\n",
        "for i in range(len(data)):\n",
        "  nb_words_sent.append(len(data[i][0]))\n",
        "nb_words_sent"
      ]
    },
    {
      "cell_type": "code",
      "execution_count": null,
      "metadata": {
        "id": "SQApEvALBG-v",
        "colab": {
          "base_uri": "https://localhost:8080/",
          "height": 375
        },
        "outputId": "a2d1404c-cd19-4d2d-bc29-e709f1eaaee4"
      },
      "outputs": [
        {
          "output_type": "display_data",
          "data": {
            "text/plain": [
              "<Figure size 576x396 with 1 Axes>"
            ],
            "image/png": "[encoded data removed]"
          },
          "metadata": {
            "image/png": {
              "width": 510,
              "height": 359
            }
          }
        }
      ],
      "source": [
        "labels, counts = np.unique(nb_words_sent, return_counts=True)\n",
        "ticks = range(len(counts))\n",
        "plt.bar(ticks,counts, align='center', color='b', alpha=0.81)\n",
        "for index, data in enumerate(counts):\n",
        "    plt.text(x=index-0.45 , y =data+500 , s=f\"{data}\" , fontdict=dict(fontsize=9))\n",
        "#plt.tight_layout()\n",
        "plt.title('Number of sense-annotated words in PWNGC sentences.', fontweight='bold')\n",
        "plt.xlabel('Number of words')#, fontweight='bold')\n",
        "plt.ylabel('Number of sentences')#, fontweight='bold')\n",
        "plt.style.use('seaborn-bright')\n",
        "# plt.rcParams[\"figure.facecolor\"] = \"w\"\n",
        "\n",
        "plt.xticks(ticks, labels)\n",
        "\n",
        "plt.savefig(resources_path + '/' + pwngc_path + '/pwngc_word_per_sentence.svg', format='svg')\n",
        "\n",
        "# files.download(resources_path + pwngc_path + '/pwngc_word_per_sentence.png')"
      ]
    },
    {
      "cell_type": "code",
      "execution_count": null,
      "metadata": {
        "id": "_CYgY_S9FCKy",
        "colab": {
          "base_uri": "https://localhost:8080/"
        },
        "outputId": "66209edf-21c4-4d23-cfbe-7ad94ab17504"
      },
      "outputs": [
        {
          "output_type": "execute_result",
          "data": {
            "text/plain": [
              "532821"
            ]
          },
          "metadata": {},
          "execution_count": 32
        }
      ],
      "source": [
        "np.sum(nb_words_sent)"
      ]
    },
    {
      "cell_type": "markdown",
      "source": [
        "### transform to dataset id and save model"
      ],
      "metadata": {
        "id": "kGTLDq9fypf7"
      }
    },
    {
      "cell_type": "code",
      "execution_count": null,
      "metadata": {
        "id": "xA099-2C_vIt"
      },
      "outputs": [],
      "source": [
        "datasetID = data_id(data)"
      ]
    },
    {
      "cell_type": "code",
      "execution_count": null,
      "metadata": {
        "id": "__xqqkHpADxn"
      },
      "outputs": [],
      "source": [
        "# # store the dataset arranged by ID in a .pt file\n",
        "# # Saving and loading data to/from .pt\n",
        "# # save\n",
        "torch.save(datasetID, idx_file)\n"
      ]
    },
    {
      "cell_type": "markdown",
      "metadata": {
        "id": "4swbnCh2Cc7t"
      },
      "source": [
        "# --- restart from here \n",
        "# DataLoader"
      ]
    },
    {
      "cell_type": "code",
      "execution_count": null,
      "metadata": {
        "id": "f4X2mjZ8CfpH"
      },
      "outputs": [],
      "source": [
        "datasetID = torch.load(idx_file)"
      ]
    },
    {
      "cell_type": "code",
      "execution_count": null,
      "metadata": {
        "id": "oa1Zf3BLCpEi"
      },
      "outputs": [],
      "source": [
        "# partition data in training/validation\n",
        "splittings = {}"
      ]
    },
    {
      "cell_type": "code",
      "execution_count": null,
      "metadata": {
        "id": "V6eXNB_DDj7p",
        "colab": {
          "base_uri": "https://localhost:8080/"
        },
        "outputId": "528cc610-9c85-40a7-fd3a-ca81d44b253e"
      },
      "outputs": [
        {
          "output_type": "execute_result",
          "data": {
            "text/plain": [
              "(176430, 9285)"
            ]
          },
          "metadata": {},
          "execution_count": 26
        }
      ],
      "source": [
        "# split training and validation data by ID\n",
        "\n",
        "S = len(datasetID.keys())\n",
        "N_train = int(S * 95 / 100)\n",
        "N_valid = int(S * 5 / 100)\n",
        "# N_test = 5\n",
        "N_train, N_valid\n"
      ]
    },
    {
      "cell_type": "code",
      "execution_count": null,
      "metadata": {
        "id": "sKaH9wE4GnAg"
      },
      "outputs": [],
      "source": [
        "# choose N training instances, randomly!\n",
        "splittings[\"train\"] = random.sample(list(datasetID), N_train)\n",
        "splittings[\"validate\"] = random.sample(list(set(datasetID) - set(splittings[\"train\"])), N_valid)\n"
      ]
    },
    {
      "cell_type": "code",
      "execution_count": null,
      "metadata": {
        "id": "m9F0cjOwHwu5"
      },
      "outputs": [],
      "source": [
        "# Dataset\n",
        "class Dataset(torch.utils.data.Dataset):\n",
        "    \"\"\"\n",
        "    Prepares the dataset for the DataLoader.\n",
        "    \"\"\"\n",
        "    \n",
        "    def __init__(self, list_ids, path2data):\n",
        "        super().__init__()\n",
        "\n",
        "        self.list_ids = list_ids\n",
        "        self.path2data = path2data\n",
        "        self.dataset = torch.load(self.path2data)\n",
        "\n",
        "    def __len__(self):\n",
        "        \"Total Number of samples.\"\n",
        "\n",
        "        return len(self.list_ids)\n",
        "\n",
        "    def __getitem__(self, index):\n",
        "        \"Extracts one Example of data.\"\n",
        "\n",
        "        id = self.list_ids[index]\n",
        "        \n",
        "\n",
        "        # data\n",
        "        X = self.dataset[id][0]\n",
        "        tag_y = self.dataset[id][1]\n",
        "        y = self.dataset[id][2]\n",
        "        idx_y = self.dataset[id][3]\n",
        "\n",
        "        return X, y, tag_y, idx_y"
      ]
    },
    {
      "cell_type": "code",
      "source": [
        "class TestingDataset(torch.utils.data.Dataset):\n",
        "    \"\"\"\n",
        "    Preparing the testing dataset to pytorch's DataLoader.\n",
        "    \"\"\"\n",
        "    def __init__(self, list_ids, path2data):\n",
        "        super().__init__()\n",
        "\n",
        "        self.list_ids = list_ids\n",
        "        self.path2data = path2data\n",
        "        self.dataset = torch.load(self.path2data)\n",
        "\n",
        "    def __len__(self):\n",
        "        \"Total Number of samples.\"\n",
        "\n",
        "        return len(self.list_ids)\n",
        "\n",
        "    def __getitem__(self, index):\n",
        "        \"Extracts one Example of data.\"\n",
        "\n",
        "        id = self.list_ids[index]\n",
        "        \n",
        "        instance = self.dataset[id]\n",
        "\n",
        "        # data\n",
        "        X = instance[0]\n",
        "        tag_y = instance[2]\n",
        "        y = instance[1]\n",
        "        idx_y = instance[3]\n",
        "\n",
        "        return id, X, y, tag_y, idx_y"
      ],
      "metadata": {
        "id": "OyOxESE-NWdQ"
      },
      "execution_count": null,
      "outputs": []
    },
    {
      "cell_type": "markdown",
      "metadata": {
        "collapsed": false,
        "id": "EkIQUo3sYM9U"
      },
      "source": [
        "# Downloading Glove and SPATIAL Tags"
      ]
    },
    {
      "cell_type": "code",
      "execution_count": null,
      "metadata": {
        "id": "UWprbK9lYM9U",
        "colab": {
          "base_uri": "https://localhost:8080/"
        },
        "outputId": "3f3ecddb-d2c1-4dee-de55-29a25c0312c7"
      },
      "outputs": [
        {
          "output_type": "stream",
          "name": "stdout",
          "text": [
            "2195846\n"
          ]
        }
      ],
      "source": [
        "# decompress the pkl file\n",
        "glove_comp = glove_path + '840B.300_glove.pkl' + '.pbz2'\n",
        "bz2_data = bz2.BZ2File(glove_comp, 'rb')\n",
        "glove = cPickle.load(bz2_data)\n",
        "\n",
        "#glove = pickle.load(open(f'{glove_path}/840B.300_glove.pkl', 'rb'))\n",
        "print(len(glove))"
      ]
    },
    {
      "cell_type": "code",
      "execution_count": null,
      "metadata": {
        "id": "5xcZ3cskYM9V"
      },
      "outputs": [],
      "source": [
        "target_VOCAB = np.load(f'{glove_path}WORDNET_VOCAB_exp_01.npy')"
      ]
    },
    {
      "cell_type": "code",
      "execution_count": null,
      "metadata": {
        "id": "9qZ2mE4cYM9V"
      },
      "outputs": [],
      "source": [
        "SPATIAL_TAGS = np.load(f'{glove_path}WORDNET_SPATIAL_TAGS_exp_01.npy')"
      ]
    },
    {
      "cell_type": "code",
      "source": [
        "pos_tags = np.load(f\"{glove_path}WORDNET_pos.npy\")"
      ],
      "metadata": {
        "id": "LFRcniOcynjs"
      },
      "execution_count": null,
      "outputs": []
    },
    {
      "cell_type": "markdown",
      "metadata": {
        "collapsed": false,
        "id": "7e53kHoFYM9V"
      },
      "source": [
        "# The Model"
      ]
    },
    {
      "cell_type": "code",
      "execution_count": null,
      "metadata": {
        "id": "LZ71W2qsYM9V"
      },
      "outputs": [],
      "source": [
        "def create_emb_layer(weights_matrix, non_trainable=False):\n",
        "    \"\"\"\n",
        "    creates the embedding layer by matching the words in the input sentences to their glove embeddings in the weights matrix.\n",
        "    :param weights_matrix: the weight matrix of the vocabulary in the input data and the vector embeddings\n",
        "    :param non_trainable\n",
        "    : return embedding layer of the neural network, the number of embeddings, and the embedding dimension\n",
        "    \"\"\"\n",
        "    num_embeddings, embedding_dim = weights_matrix.shape\n",
        "    emb_layer = nn.Embedding(num_embeddings, embedding_dim)\n",
        "    weights_matrix = torch.from_numpy(weights_matrix)\n",
        "    emb_layer.load_state_dict({'weight': weights_matrix})\n",
        "    if non_trainable:\n",
        "        emb_layer.weight.requires_grad = False\n",
        "\n",
        "    return emb_layer, num_embeddings, embedding_dim"
      ]
    },
    {
      "cell_type": "code",
      "execution_count": null,
      "metadata": {
        "id": "e3iYdvPUYM9W"
      },
      "outputs": [],
      "source": [
        "class PositionalEncoding(nn.Module):\n",
        "    \"\"\"\n",
        "    calculates the positional encoding added to the embedding layer.\n",
        "    \"\"\"\n",
        "\n",
        "    def __init__(self, d_model: np.ndarray, dropout: float = 0.1, max_len: int = 5000):\n",
        "        super(PositionalEncoding, self).__init__()\n",
        "        self.dropout = nn.Dropout(p=dropout)\n",
        "\n",
        "        position = torch.arange(max_len).unsqueeze(1)\n",
        "        div_term = torch.exp(torch.arange(0, d_model, 2) * (-math.log(10000.0) / d_model))\n",
        "        pe = torch.zeros(max_len, 1, d_model)\n",
        "        pe[:, 0, 0::2] = torch.sin(position * div_term)\n",
        "        pe[:, 0, 1::2] = torch.cos(position * div_term)\n",
        "        self.register_buffer('pe', pe)\n",
        "\n",
        "    def forward(self, x):\n",
        "        \"\"\"\n",
        "        Args:\n",
        "            x: Tensor, shape [seq_len, batch_size, embedding_dim]\n",
        "        \"\"\"\n",
        "        x = x + self.pe[:x.size(0)]\n",
        "        return self.dropout(x)"
      ]
    },
    {
      "cell_type": "code",
      "execution_count": null,
      "metadata": {
        "id": "r37R6ZW8YM9W"
      },
      "outputs": [],
      "source": [
        "class TransformerEncoderRegressor(nn.Module):\n",
        "    \"\"\"\n",
        "    Implements the Transformer's encoder for regression.\n",
        "    \"\"\"\n",
        "\n",
        "    def __init__(self, weights_matrix:np.ndarray, \n",
        "                 ntoken: int, out_features: int, d_model: int, nhead: int, d_hid: int,\n",
        "                 nlayers: int, dropout: float = 0.5):\n",
        "        \n",
        "        super().__init__()\n",
        "        \n",
        "        self.model_type = 'Transformer'\n",
        "        \n",
        "        self.d_model = d_model\n",
        "        \n",
        "        self.weights_matrix = weights_matrix\n",
        "        \n",
        "        self.pos_encoder = PositionalEncoding(d_model, dropout)\n",
        "        \n",
        "        # Embedding layer\n",
        "        self.embedding, num_embeddings, embedding_dim = create_emb_layer(self.weights_matrix, True)\n",
        "        \n",
        "        # Multi-head attention mechanism is included in TransformerEncoderLayer\n",
        "        encoder_layers = TransformerEncoderLayer(d_model, nhead, d_hid, dropout) # activation\n",
        "        self.transformer_encoder = TransformerEncoder(encoder_layers, nlayers, norm=None)\n",
        "        \n",
        "\n",
        "        self.emb = nn.Embedding(ntoken, d_model) \n",
        "        self.out_features = out_features\n",
        "        \n",
        "        # Linear layer: returns the last hidden state of the encoder \n",
        "        self.fc = nn.Linear(d_model, embedding_dim)\n",
        "        \n",
        "\n",
        "        # Now, I need to have a Linear space that takes the whole/subset dataframe as input, extracts its spatial_context_vec,\n",
        "        # based on Glove-word-vector + spatial_point,\n",
        "        # get its spatial tags\n",
        "        # calculate distance loss between them\n",
        "        # do backprop! \n",
        "        # Nx300 into Nx227733: matmul product of two matrices Nx300 and 300x227733 --> Nx227733\n",
        "        # use the indices to get the synset names as well as the mapping to coordinates\n",
        "        # into Nx5: mapping to the coordinates\n",
        "        \n",
        "        self.output = nn.Linear(embedding_dim, 5)\n",
        "\n",
        "        self.sigmoid = nn.Sigmoid()\n",
        "\n",
        "        self.init_weights()\n",
        "              \n",
        "        # -------------------------------------\n",
        "\n",
        "    def init_weights(self) -> None:\n",
        "        \"\"\"\n",
        "        initialize weights using uniform distribution\n",
        "        \"\"\"\n",
        "        initrange = 0.1\n",
        "        self.emb.weight.data.uniform_(-initrange, initrange)\n",
        "    \n",
        "\n",
        "    def forward(self, src):\n",
        "        \"\"\"\n",
        "        processes the numericalized words forward in the network.\n",
        "        : param src: Tensor of shape [sentence_len, batch_size]\n",
        "        : return regression output of shape [sentence_len, batch_size, spatial_params]\n",
        "        \"\"\"\n",
        "        \n",
        "\n",
        "        src = torch.mul(self.emb(src), math.sqrt(self.d_model))  \n",
        "\n",
        "        # normalize the src such that the values lie in the interval [-1,1]  \n",
        "        src = src / torch.linalg.norm(src)   \n",
        "        # normalize to get into the interval [0,1]\n",
        "        src = torch.add(src, 1) / 2\n",
        "\n",
        "        src = self.pos_encoder(src)\n",
        "        \n",
        "        \n",
        "        encoder_output = self.transformer_encoder(src)\n",
        "        \n",
        "        \n",
        "        linear_layer = self.fc(encoder_output)\n",
        "\n",
        "        context_vec = torch.sum(linear_layer, dim=1)\n",
        "        \n",
        "        # regression output\n",
        "        coordinates = self.output(context_vec)\n",
        "\n",
        "        # sig_cont = self.sigmoid(coordinates)\n",
        "\n",
        "        # apply logarithmic scaling to scale numbers between [0, 1] to spatial parameters\n",
        "        # out = torch.pow(10, 6.0 * sig_cont + 1.0) / 6.0\n",
        "        # out = torch.pow(10, 6.0 * coordinates + 1.0) / 6.0\n",
        "\n",
        "        abs_coordinates = torch.abs(coordinates)\n",
        "\n",
        "        return abs_coordinates \n"
      ]
    },
    {
      "cell_type": "markdown",
      "metadata": {
        "collapsed": false,
        "id": "sp-hIJf-YM9Z"
      },
      "source": [
        "# Geometric Loss"
      ]
    },
    {
      "cell_type": "code",
      "execution_count": null,
      "metadata": {
        "id": "oUoDMuy2YM9b"
      },
      "outputs": [],
      "source": [
        "def coo2point(coo):\n",
        "    \"\"\"\n",
        "    transforms the spatial coordinates into points.\n",
        "    :param coo: list of lengths, angles, and radius.\n",
        "    :return sense point, center point\n",
        "    \"\"\"\n",
        "    # print(coo)\n",
        "    l0 = coo[0]\n",
        "    alpha = coo[1]\n",
        "    alpha_rad = alpha * math.pi / 180\n",
        "    l_i = coo[2]\n",
        "    beta_i = coo[3]\n",
        "    beta_i_rad = beta_i * math.pi / 180\n",
        "    r = coo[4]\n",
        "    \n",
        "    # np.cos() and np.sin() take angles in radian as params\n",
        "    center_pt = torch.tensor([l0 * math.cos(alpha_rad), l0 * math.sin(alpha_rad)], dtype=torch.float64, requires_grad=True)\n",
        "    sense_pt = center_pt + torch.tensor([l_i * math.cos(alpha_rad + beta_i_rad),\n",
        "                                     l_i * math.sin(alpha_rad + beta_i_rad)], dtype=torch.float64, requires_grad=True)\n",
        "    return sense_pt, center_pt\n",
        "\n",
        "\n",
        "\n",
        "\n",
        "def distance_loss(pred_pt, original_pt, include_r=False, pt_sphere=False, device=DEVICE):\n",
        "    \"\"\"\n",
        "    Calculates the distance between two sense points, including/without radii.\n",
        "    :param pred_pt: predicted point by the regressor \n",
        "    :param original_pt: the true point\n",
        "    :param include_r: if set to true, include radius in the distance. \n",
        "                      It gives more freedom/tolerance degrees to the loss function. \n",
        "                      Loss is satisfied once the predicted point is part of original point.\n",
        "    :return: distance loss\n",
        "    \"\"\"\n",
        "    original_pt = original_pt.to(device)\n",
        "    pred_pt = pred_pt.to(device)\n",
        "    \n",
        "    \n",
        "    r1 = pred_pt[-1]\n",
        "    r2 = original_pt[-1]\n",
        "\n",
        "    pred_sense, pred_center = coo2point(pred_pt)\n",
        "    orig_sense, orig_center = coo2point(original_pt)\n",
        "\n",
        "    loss = torch.linalg.norm(torch.sub(pred_sense, orig_sense)) - r2\n",
        "    \n",
        "    # very strong assumption for the words that are not sense-tagged\n",
        "    # If I want more tolerance, I could neglect those tokens from the beginning\n",
        "    if torch.all(torch.eq(original_pt, torch.zeros(original_pt.size(0)).to(device)), dim=0):\n",
        "        return loss\n",
        "    \n",
        "    if pt_sphere:\n",
        "        dist = torch.linalg.norm(torch.sub(pred_sense, orig_sense)) + r2\n",
        "        return dist\n",
        "\n",
        "    \n",
        "    if include_r:\n",
        "        \n",
        "        tolerant_loss = r1 + loss - r2\n",
        "    \n",
        "        if tolerant_loss < 0:\n",
        "            tolerant_loss = 0.0\n",
        "        \n",
        "           \n",
        "        return tolerant_loss\n",
        "    \n",
        "    else:\n",
        "        return loss \n",
        "   \n",
        "\n",
        "\n",
        "def geometric_loss(pred_list, label_list, include_r=False, device=DEVICE):\n",
        "    \"\"\"\n",
        "    calculates the distance loss over all the words in the sentence.\n",
        "    :param pred_list: predicted spatial parameters\n",
        "    :param label_list: true spatial parameters\n",
        "    :param include_r: if set to true, include radius in the distance. \n",
        "                      It gives more freedom/tolerance degrees to the loss function. \n",
        "                      Loss is satisfied once the predicted point is part of original point.\n",
        "    :return geometric loss among all words in the sentence.\n",
        "    \"\"\"\n",
        "    \n",
        "    # assert that the two lists must be of equal size\n",
        "    pred_size = pred_list.size()[0]\n",
        "    lab_size = label_list.size()[0]\n",
        "    \n",
        "    assert pred_size == lab_size, \"predicted coordinates <{}> and true coordinates <{}> have different sizes\".format(pred_list, label_list)\n",
        "    \n",
        "    sentence_loss = 0.0\n",
        "    \n",
        "    # sum over all the tokens in the sentence\n",
        "    for i in range(pred_size):\n",
        "        sentence_loss += distance_loss(pred_list[i], label_list[i], include_r, device)\n",
        "        \n",
        "    return sentence_loss"
      ]
    },
    {
      "cell_type": "markdown",
      "metadata": {
        "collapsed": false,
        "id": "buL4R4UuYM9c"
      },
      "source": [
        "# ❌ Sense Inference"
      ]
    },
    {
      "cell_type": "code",
      "execution_count": null,
      "metadata": {
        "id": "HszRl34EYM9d"
      },
      "outputs": [],
      "source": [
        "def is_contained(pred, sphere_coo, compare_spheres=False):\n",
        "\n",
        "    pt, word = coo2point(pred)\n",
        "    sphere_sense, sphere_center = coo2point(sphere_coo)\n",
        "\n",
        "    pt_rad = pred[-1]\n",
        "    sphere_rad = sphere_coo[-1] # in angles\n",
        "    \n",
        "    \n",
        "    \n",
        "    if compare_spheres == False:\n",
        "        contained = (pt[0] - sphere_sense[0])**2 + (pt[1] - sphere_sense[1])**2 <= sphere_rad**2\n",
        "    else:\n",
        "        contained = pt_rad + torch.linalg.norm(pt - sphere_sense) - sphere_rad <= 0\n",
        "\n",
        "    if contained:\n",
        "        return True\n",
        "    else:\n",
        "        return False\n",
        "    \n",
        "\n",
        "@jit(nopython=True)\n",
        "def vicinity_matrix(spatial_params, target_vocab: np.ndarray, spatial_tags: np.ndarray, k=5, device=DEVICE):#, include_sphere=True, include_r=True) -> [str]:\n",
        "    \"\"\"\n",
        "    Projects the predicted spatial parameters into the embedding space.\n",
        "    Returns the synsets in the vicinity of the projected point.\n",
        "    :param spatial_params:\n",
        "    :return: Vicinity matrix, synsets dict\n",
        "    \"\"\"\n",
        "\n",
        "    # send to GPU\n",
        "    spatial_params = spatial_params.to(device)\n",
        "\n",
        "\n",
        "    N = len(spatial_tags)\n",
        "    \n",
        "    #convert spatial_tags to tensor\n",
        "    spatial_tags = torch.from_numpy(spatial_tags).double().to(device)\n",
        "    \n",
        "    synsets = {} # sort from most specific to most general\n",
        "    \n",
        "    indices = {}\n",
        "\n",
        "    sense_pt, center_pt = coo2point(spatial_params)\n",
        "    \n",
        "    # ----------------------------------------------------------------------------------------------------------------\n",
        "    # Prepare distance and containment calculations\n",
        "    # ----------------------------------------------------------------------------------------------------------------\n",
        "    \n",
        "    # distance calculations\n",
        "    dist_spheres = torch.empty(N, device=device) \n",
        "    dist_pt_sphere = torch.empty(N, device=device) \n",
        "    dist_pts = torch.empty(N, device=device)\n",
        "    \n",
        "    for i, tag in enumerate(spatial_tags):\n",
        "        dist_spheres[i] = distance_loss(spatial_params, tag, include_r=True)\n",
        "        dist_pt_sphere[i] = distance_loss(spatial_params, tag, pt_sphere=True)\n",
        "        dist_pts[i] = distance_loss(spatial_params, tag, include_r=False)\n",
        "    \n",
        "    # containment calculations\n",
        "    full_contained = torch.empty(N, device=device) \n",
        "    part_contained = torch.empty(N, device=device)\n",
        "    disconnected = torch.empty(N, device=device) # handles points only\n",
        "    \n",
        "    for j, tag in enumerate(spatial_tags):\n",
        "        full_contained[j] = is_contained(spatial_params, tag, compare_spheres=True)\n",
        "        part_contained[j] = distance_loss(spatial_params, tag, include_r=True, device=device) > 0\n",
        "        disconnected[j] = ~ is_contained(spatial_params, tag, compare_spheres=True) # reverse the True <----> False\n",
        "    \n",
        "    # ~~~~~~~~~~~~~~~~~~~~~~~~~~~~~~\n",
        "    # Initialize the Vicinity Matrix\n",
        "    # ~~~~~~~~~~~~~~~~~~~~~~~~~~~~~~\n",
        "    \n",
        "    # row=3, col=3, topk=2, 2 indicates the column of indices and the distances\n",
        "    vicinity_matrix = torch.zeros((3,3, k, 2), device=device)\n",
        "    \n",
        "    ####################################################################################################################\n",
        "    # # Full contained + min dist between sense points\n",
        "    ####################################################################################################################\n",
        "    \n",
        "#     print(\"True elements\")\n",
        "    true_indices1 = (full_contained == True).nonzero(as_tuple=True)[0]\n",
        "#     print(true_indices1)\n",
        "    \n",
        "    if true_indices1.size(0) != 0:\n",
        "        dist1 = torch.index_select(dist_pts, 0, true_indices1)\n",
        "#         print(\"dist1\", dist1)\n",
        "#         print(\"k = \", k)\n",
        "        # sort in ascending order\n",
        "        # select top k \n",
        "        sort_dist1, sort_indices = torch.topk(dist1, k, largest=False)  \n",
        "#         print(\"SORTING\", sort_dist1, sort_indices)\n",
        "        synsets1 = np.take(target_vocab, sort_indices, 0)\n",
        "        synsets[\"A\"] = [synsets1, sort_dist1]\n",
        "        indices[\"A\"] = sort_indices\n",
        "        # index, distance (without synsets because this would result in conflicts for torch.tensor that do not support str)\n",
        "        vicinity_matrix[2][0] = torch.stack((sort_indices, sort_dist1), dim=1)\n",
        "    else:\n",
        "        pass\n",
        "    \n",
        "    \n",
        "    ####################################################################################################################\n",
        "    # # Partially contained + min dist between sense points\n",
        "    ####################################################################################################################\n",
        "    true_indices2 = (part_contained == True).nonzero(as_tuple=True)[0]\n",
        "#     print(\"True Indices 2\", true_indices2)\n",
        "    \n",
        "    if true_indices2.size(0) != 0:\n",
        "        dist1 = torch.index_select(dist_pts, 0, true_indices2)\n",
        "        # sort in ascending order\n",
        "        # select top k \n",
        "        sort_dist2, sort_indices2 = torch.topk(dist1, k, largest=False)     \n",
        "        synsets2 = np.take(target_vocab, sort_indices2, 0)\n",
        "#         print(\"synset 2\", synsets2)\n",
        "        synsets[\"B\"] = [synsets2, sort_dist2]\n",
        "        indices[\"B\"] = sort_indices2\n",
        "        # index, distance (without synsets because this would result in conflicts for torch.tensor that do not support str)\n",
        "        vicinity_matrix[2][1] = torch.stack((sort_indices2, sort_dist2), dim=1)\n",
        "    else:\n",
        "        pass\n",
        "\n",
        "    ####################################################################################################################\n",
        "    # # Disconnected + min dist between spheres/point2sphere/sense points ---> acts as Nearest neighbor\n",
        "    ####################################################################################################################\n",
        "    # get indices, where disconnected is true\n",
        "    true_indices3 = (disconnected == True).nonzero(as_tuple=True)[0]\n",
        "#     print(\"True Indices 3\", true_indices3)\n",
        "\n",
        "    if true_indices3.size(0) != 0:\n",
        "        # get the distances at those indices\n",
        "        dist_spheres3 = torch.index_select(dist_spheres, 0, true_indices3)\n",
        "        dist_pt_sphere3 = torch.index_select(dist_pt_sphere, 0, true_indices3)\n",
        "        dist_pts3 = torch.index_select(dist_pts, 0, true_indices3)\n",
        "\n",
        "        # sort-select top k minimum distances\n",
        "        sort_dist_spheres3, sort_sph_indices3 = torch.topk(dist_spheres3, k, largest=False)\n",
        "        sort_dist_pt_sphere3, sort_pt_sph_indices3 = torch.topk(dist_pt_sphere3, k, largest=False)\n",
        "        sort_dist_pts3, sort_pts_indices3 = torch.topk(dist_pts3, k, largest=False)\n",
        "\n",
        "        # get their corresponding synsets\n",
        "        synsets30 = np.take(target_vocab, sort_sph_indices3, 0)\n",
        "        #print(\"synset30\", synsets30)\n",
        "        synsets[\"C\"] = [synsets30, sort_dist_spheres3]\n",
        "        indices[\"C\"] = sort_sph_indices3\n",
        "        \n",
        "        synsets31 = np.take(target_vocab, sort_pt_sph_indices3, 0)\n",
        "        synsets[\"D\"] = [synsets31, sort_dist_pt_sphere3]\n",
        "        indices[\"D\"] = sort_pt_sph_indices3\n",
        "        \n",
        "        synsets32 = np.take(target_vocab, sort_pts_indices3, 0)\n",
        "        synsets[\"E\"] = [synsets32, sort_dist_pts3]\n",
        "        indices[\"E\"] = sort_pts_indices3\n",
        "        \n",
        "        # insert them into the vicinity matrix    \n",
        "        vicinity_matrix[0][3] = torch.stack((sort_sph_indices3, sort_dist_spheres3), dim=1)\n",
        "        vicinity_matrix[1][3] = torch.stack((sort_pt_sph_indices3, sort_dist_pt_sphere3), dim=1)\n",
        "        vicinity_matrix[2][3] = torch.stack((sort_pts_indices3, sort_dist_pts3), dim=1)  \n",
        "    \n",
        "\n",
        "\n",
        "#     # get the spheres, where the point/point+radius is contained/overlaping/near\n",
        "\n",
        "#     # 1. check if the predicted point is contained in some sense\n",
        "#     contained = torch.empty(N)\n",
        "    \n",
        "#     for i, tag in enumerate(spatial_tags):\n",
        "#         contained[i] = is_contained(spatial_params, tag, compare_spheres=include_sphere)\n",
        "    \n",
        "#     # 2. For those synsets, which is the nearest synset point\n",
        "#     #use distance() to calculate distance between centers\n",
        "#     distances = torch.empty(N)\n",
        "#     for i, tag in enumerate(spatial_tags):\n",
        "#         distances[i] = distance_loss(spatial_params, tag, include_r=include_r)\n",
        "    \n",
        "#     # sort dist--> indices\n",
        "#     # check if for those distances the containment is true\n",
        "#     # if true: choose the one having min_dist as sense\n",
        "#     # top k senses must be stored in a dict \n",
        "    \n",
        "#     # check if for those distances the containment is false, then, only the radius is falsly predicted (not priority now)\n",
        "#     # if false and min_dist: choose it as potential sense\n",
        "    \n",
        "    \n",
        "\n",
        "#     # 3. If None of the synsets apply to that word sense\n",
        "#     # use sphere_dist to find the nearest sphere (most general synset), and assign it to that synset\n",
        "#     # (this maybe good for rare senses)\n",
        "#     # acts as a second chance\n",
        "#     rare_contained = torch.empty(N)\n",
        "#     rare_distances = torch.empty(N)\n",
        "#     for i, tag in enumerate(spatial_tags):\n",
        "#         rare_contained[i] = is_contained(spatial_params, tag, compare_spheres=False) #only consider sense point\n",
        "#         rare_distances[i] = distance_loss(spatial_params, tag, include_r=False)\n",
        "\n",
        "\n",
        "    return indices, vicinity_matrix, synsets\n",
        "\n",
        "def decode_key(key, mtx):\n",
        "    if key == \"A\":\n",
        "        return mtx[2, 0]\n",
        "    if key == \"B\":\n",
        "        return mtx[2, 1]\n",
        "    if key == \"C\":\n",
        "        return mtx[0, 2]\n",
        "    if key == \"D\":\n",
        "        return mtx[1, 2]\n",
        "    if key == \"E\":\n",
        "        return mtx[2, 2]\n",
        "    \n",
        "@jit(nopython=True)\n",
        "def label_in_vicinity(vicinity_matrix, vicinity_synsets, target_vocab, spatial_tags, true_label):\n",
        "    \n",
        "    checked_synsets = []\n",
        "    contained = []\n",
        "    checks = 0\n",
        "    predicted = []\n",
        "    distances = []\n",
        "    \n",
        "    in_vicinity = False\n",
        "    associated_syn = []\n",
        "    \n",
        "    # true label is either one of the possibilities [word, synset] or a randomly chosen one\n",
        "    \n",
        "    # induce subset of word-synset name \n",
        "    \n",
        "    #spatial_tags = torch.from_numpy(spatial_tags)\n",
        "    #idx_label = (spatial_tags == true_label).nonzero(as_tuple=True)[0]\n",
        "    # transform to numpy to \n",
        "    true_label = true_label.cpu().numpy()\n",
        "    true_label = np.array(true_label, dtype=np.float64)\n",
        "    # keep spatial tag an np.ndarray\n",
        "    rounded_l = np.round(true_label, decimals=2).cpu()\n",
        "    \n",
        "    if np.all(rounded_l == np.zeros(5)): #true_label): #torch.all(torch.eq(rounded_l, true_label)):\n",
        "        in_vicinity = False #True\n",
        "        associated_syn.append('no-synset')\n",
        "        return in_vicinity, associated_syn\n",
        "    \n",
        "    try:\n",
        "        # detecting the true label from the spatial_tags\n",
        "        idx = [[np.array_equal(rounded_l, tag) for tag in spatial_tags].index(True)]\n",
        "#         print(\"Found {} matching word-synset tags.\".format(len(idx)))\n",
        "        word_synset = target_vocab[idx] #list of list \n",
        "#         print(\"Matching word-synset\", word_synset)\n",
        "        # check if word_synset is within the vicinity matrix\n",
        "        if len(word_synset) != 0:\n",
        "            for e in word_synset:\n",
        "                for key, val in vicinity_synsets.items():\n",
        "#                     print(\"Searching in vicinity ... \")\n",
        "\n",
        "#                     print(\"Checking if true label is in vicinity ...\")\n",
        "                    checked_synsets.append(e)\n",
        "                    is_there = e[1] in val[:, 1]\n",
        "                    checks += 1\n",
        "                    contained.append(is_there)\n",
        "                    \n",
        "#                     print(\"1\")\n",
        "#                     print(checked_synsets)\n",
        "#                     print(checks)\n",
        "#                     print(contained)\n",
        "                    \n",
        "                    if is_there:\n",
        "#                         print(\"The main true label <{}> is in the vacinity of the predicted tag.\".format(e))\n",
        "                        idx_e = np.where(val[:, 1] == e[1])\n",
        "                        predicted.append(val[idx_e])\n",
        "#                         print(\"Predicted 1: \", predicted)\n",
        "                        distances.append(decode_key(key, vicinity_matrix)[idx_e][1])\n",
        "#                         print(\"Distances 1: \", distances)\n",
        "                    else:\n",
        "#                         print(\"The main true label is not in vicinity ... \")\n",
        "                        distances.append('no-distance')\n",
        "#                         print(\"Searching if alternative true label synsets are in vicinity ... \")\n",
        "                    # induce all the word-synset tuples that have same synset as true label.\n",
        "                    # This double check is necessary since I choose the spatial tags in the training data randomly sometimes.\n",
        "                    # get indices of all word-synsets sharing same synset (not same word)\n",
        "                    ix = np.where(target_vocab == [_, e[1]])[0] # add [0] to indicate only the row index, not the column\n",
        "#                     print(\"Indices \", ix)\n",
        "                    if len(ix) != 0:\n",
        "                        pos_syn = target_vocab[ix]\n",
        "                        \n",
        "#                         print(\"Possible synsets: \", pos_syn)\n",
        "#                         print(target_vocab[:10])\n",
        "                        for t in pos_syn:\n",
        "                            checks += 1\n",
        "                            checked_synsets.append(t)\n",
        "                            is_near = t[1] in val[:, -1]\n",
        "                            contained.append(is_near)\n",
        "#                             print(\"2\")\n",
        "#                             print(checked_synsets)\n",
        "#                             print(checks)\n",
        "#                             print(contained)\n",
        "                            if is_near == True:                                    \n",
        "#                                 print(\"... The word-synset <{}> is in the vicinity of the predicted tag.\".format(t))\n",
        "                                idx_t = np.where(val[:, -1] == t[1])\n",
        "                                predicted.append(val[idx_t])\n",
        "#                                 print(\"Predicted 2: \", predicted)\n",
        "                                distances.append(decode_key(key, vicinity_matrix)[idx_t][1])\n",
        "#                                 print(\"Distances 2: \", distances)\n",
        "                            else:\n",
        "                                distances.append('no-distance')\n",
        "                    else: \n",
        "                        print(\"... There are no other possibilites for word-synset <{}>\".format(e))\n",
        "                            \n",
        "        else:\n",
        "            print(\"Cannot find the suitable synset of this spatial tag!\")\n",
        "\n",
        "        \n",
        "    except ValueError as ve:\n",
        "        print(ve)\n",
        "#         print(\"Found no index for the true label. Something went wrong ...\")\n",
        "#         print(\"Comparing <true label = {}> with <rounded label = {}>\".format(true_label, rounded_l))\n",
        "    \n",
        "    # ~~~~~~~~~~~~~~~~~~~~~~~~~~~~~~~\n",
        "    # Statistics\n",
        "    # ~~~~~~~~~~~~~~~~~~~~~~~~~~~~~~~\n",
        "    \n",
        "#     print(\"~\" * 80)\n",
        "#     print(\"Statistics\")\n",
        "#     print(\"~\" * 80)\n",
        "    \n",
        "#     print(\"Predicted Spatial Tag = \", spatial_params)\n",
        "#     print(\"Checked Spatial Tag(s) ; contained? ; Predicted ; distances = ({}):\".format(len(checked_synsets)))\n",
        "    for s, c, p, d in zip(checked_synsets, contained, predicted, distances):\n",
        "        print(s, \";\", c, \";\", \"\\n\", p, \";\", d)\n",
        "        print(\"-\"*100)\n",
        "        \n",
        "#     print(\"True Spatial Tag(s) is in vicinity of predicted tag: \", contained)\n",
        "    contained_idx = np.where(np.array(contained) == True)\n",
        "    \n",
        "#     print(\"contained_idx\", contained_idx)\n",
        "#     print(\"checked_idx\", np.array(checked_synsets)[contained_idx])\n",
        "#     print(\"slice\", np.array(checked_synsets)[:, 1])\n",
        "#     print(\"check_slice\", np.array(checked_synsets)[:, 1][contained_idx])\n",
        "\n",
        "    if len(contained_idx[0]) > 0:\n",
        "#         print()\n",
        "#         print(contained_idx)\n",
        "        only_syn = set(np.array(checked_synsets)[contained_idx])#[:, 1])\n",
        "        associated_syn.append(only_syn)\n",
        "#         print(\"True Sense Tag(s) = ({}) --> \".format(len(only_syn)), only_syn)\n",
        "#         print(\"Prediction is correct!\")\n",
        "        in_vicinity = True\n",
        "#         print(\"Distance(predicted_sense, nearest_true_sense) = ({}): \".format(len(np.array(predicted)[contained_idx])))\n",
        "#         for p, d in zip(np.array(predicted), distances):\n",
        "#               print(p, d)\n",
        "              \n",
        "    else:\n",
        "#         print(\"Prediction is false ..\")\n",
        "#         print(\"All synsets in the vicinity of the predicted tag are not true senses ..\")\n",
        "#         print(\"Please check manually if the synsets in the vicinity are generalizations of the true labels.\")\n",
        "        in_vicinity = False\n",
        "        associated_syn.append(\"no-synset\")\n",
        "    \n",
        "    \n",
        "    return in_vicinity, associated_syn\n",
        "    "
      ]
    },
    {
      "cell_type": "markdown",
      "metadata": {
        "id": "0vR0knpCt5zf"
      },
      "source": [
        "# Sense Inference Unification"
      ]
    },
    {
      "cell_type": "code",
      "execution_count": null,
      "metadata": {
        "id": "4sK-iK6lt9XT"
      },
      "outputs": [],
      "source": [
        "def is_contained(pred, sphere_coo, compare_spheres=False):\n",
        "    \"\"\"\n",
        "    checks if the predicted sphere is contained in the sphere coordinate.\n",
        "    :param pred: predicted spatial params\n",
        "    :param sphere_coo: the sphere coordinates\n",
        "    :param compare_spheres: whether or not to compare the spheres when checking if it is contained.\n",
        "                            If set to true, check if the predicted sphere lies in the sphere_coo.\n",
        "                            If set to False, check if the center point of the predicted sphere lies within the sphere_coo.\n",
        "    :return contained or not contained\n",
        "    \"\"\"\n",
        "\n",
        "    pt, word = coo2point(pred)\n",
        "    sphere_sense, sphere_center = coo2point(sphere_coo)\n",
        "\n",
        "    pt_rad = pred[-1]\n",
        "    sphere_rad = sphere_coo[-1] # in angles   \n",
        "    \n",
        "    \n",
        "    if compare_spheres == False:\n",
        "        contained = (pt[0] - sphere_sense[0])**2 + (pt[1] - sphere_sense[1])**2 <= sphere_rad**2\n",
        "    else:\n",
        "        contained = pt_rad + torch.linalg.norm(pt - sphere_sense) - sphere_rad <= 0\n",
        "\n",
        "    if contained:\n",
        "        return True\n",
        "    else:\n",
        "        return False\n",
        "    \n",
        "\n",
        "def vicinity_matrix(spatial_params, pos: str, target_vocab: np.ndarray, spatial_tags: np.ndarray, pos_tags: np.ndarray, k=5, device=DEVICE):\n",
        "    \"\"\"\n",
        "    Projects the predicted spatial parameters into the embedding space, and inspects the spheres (synsets) lying around the predicted spatial parametes in different ways, e.g. contained, overlapping, etc.\n",
        "    Returns the synsets in the vicinity of the projected point.\n",
        "    :param spatial_params:\n",
        "    :return: Vicinity matrix, synsets dict\n",
        "    \"\"\"\n",
        "    # send to GPU\n",
        "    spatial_params = spatial_params.to(device)\n",
        "\n",
        "    idx_tags = {}\n",
        "\n",
        "    if pos=='a' or pos=='s':\n",
        "        # extract the indices having same pos\n",
        "        valid_idx = np.where(pos_tags=='a')[0]\n",
        "        spatial_tags = spatial_tags[valid_idx]\n",
        "       \n",
        "    elif pos == 'n' or pos == 'v' or pos == 'r':\n",
        "        valid_idx = np.where(pos_tags==pos)[0]\n",
        "        spatial_tags = spatial_tags[valid_idx]\n",
        "       \n",
        "    else: \n",
        "        valid_idx = list(range(len(spatial_tags)))\n",
        "        pass\n",
        "        \n",
        "\n",
        "    N = len(spatial_tags)\n",
        "    \n",
        "    valid_idx = torch.from_numpy(valid_idx).int().to(device)\n",
        "\n",
        "    #convert spatial_tags to tensor\n",
        "    spatial_tags = torch.from_numpy(spatial_tags).double().to(device)\n",
        "    \n",
        "    synsets = {} # sort from most specific to most general\n",
        "    \n",
        "    indices = {}\n",
        "\n",
        "    sense_pt, center_pt = coo2point(spatial_params)\n",
        "    \n",
        "    # ----------------------------------------------------------------------------------------------------------------\n",
        "    # Prepare distance and containment calculations\n",
        "    # ----------------------------------------------------------------------------------------------------------------\n",
        "    \n",
        "    # distance calculations\n",
        "    dist_spheres = torch.empty(N, device=device) \n",
        "    dist_pt_sphere = torch.empty(N, device=device) \n",
        "    dist_pts = torch.empty(N, device=device)\n",
        "    \n",
        "    for i, tag in enumerate(spatial_tags):\n",
        "        dist_spheres[i] = distance_loss(spatial_params, tag, include_r=True)\n",
        "        dist_pt_sphere[i] = distance_loss(spatial_params, tag, pt_sphere=True)\n",
        "        dist_pts[i] = distance_loss(spatial_params, tag, include_r=False)\n",
        "    \n",
        "    # containment calculations\n",
        "    full_contained = torch.empty(N, device=device) \n",
        "    part_contained = torch.empty(N, device=device)\n",
        "    disconnected = torch.empty(N, device=device) # handles points only\n",
        "    \n",
        "    for j, tag in enumerate(spatial_tags):\n",
        "        full_contained[j] = is_contained(spatial_params, tag, compare_spheres=True)\n",
        "        part_contained[j] = distance_loss(spatial_params, tag, include_r=True, device=device) > 0\n",
        "\n",
        "        \n",
        "    full_contained = full_contained.bool()\n",
        "    part_contained = part_contained.bool()\n",
        "    disconnected = ~ full_contained.bool()\n",
        "    disconnected = disconnected.bool()\n",
        "\n",
        "    # ~~~~~~~~~~~~~~~~~~~~~~~~~~~~~~\n",
        "    # Initialize the Vicinity Matrix\n",
        "    # ~~~~~~~~~~~~~~~~~~~~~~~~~~~~~~\n",
        "    \n",
        "    # row=3, col=3, topk=2, 2 indicates the column of indices and the distances\n",
        "    vicinity_matrix = torch.zeros((3,3, k, 2), device=device)\n",
        "    \n",
        "    ####################################################################################################################\n",
        "    # # Full contained + min dist between sense points\n",
        "    ####################################################################################################################\n",
        "    \n",
        "    true_indices1 = (full_contained == True).nonzero(as_tuple=True)[0]\n",
        "    \n",
        "    if true_indices1.size(0) != 0:\n",
        "        dist1 = torch.index_select(dist_pts, 0, true_indices1)\n",
        "       \n",
        "        # sort in ascending order\n",
        "        # select top k \n",
        "        sort_dist1, sort_indices = torch.topk(dist1, k, largest=False)  \n",
        "\n",
        "        synsets[\"A\"] = sort_dist1\n",
        "        indices[\"A\"] = valid_idx[sort_indices] # sort_indices\n",
        "        # index, distance (without synsets because this would result in conflicts for torch.tensor that do not support str)\n",
        "        vicinity_matrix[2][0] = torch.stack((sort_indices, sort_dist1), dim=1)\n",
        "    else:\n",
        "        pass\n",
        "    \n",
        "    \n",
        "    ####################################################################################################################\n",
        "    # Partially contained + min dist between sense points\n",
        "    ####################################################################################################################\n",
        "    true_indices2 = (part_contained == True).nonzero(as_tuple=True)[0]\n",
        "    \n",
        "    if true_indices2.size(0) != 0:\n",
        "        dist1 = torch.index_select(dist_pts, 0, true_indices2)\n",
        "        # sort in ascending order\n",
        "        # select top k \n",
        "        sort_dist2, sort_indices2 = torch.topk(dist1, k, largest=False) \n",
        "        \n",
        "        synsets[\"B\"] = sort_dist2\n",
        "        indices[\"B\"] = valid_idx[sort_indices2] #sort_indices2\n",
        "        # index, distance (without synsets because this would result in conflicts for torch.tensor that do not support str)\n",
        "        vicinity_matrix[2][1] = torch.stack((sort_indices2, sort_dist2), dim=1)\n",
        "\n",
        "    else:\n",
        "        pass\n",
        "\n",
        "    ####################################################################################################################\n",
        "    # # Disconnected + min dist between spheres/point2sphere/sense points ---> acts as Nearest neighbor\n",
        "    ####################################################################################################################\n",
        "    # get indices, where disconnected is true\n",
        "    true_indices3 = (disconnected == True).nonzero(as_tuple=True)[0]\n",
        "\n",
        "    if true_indices3.size(0) != 0:\n",
        "        # get the distances at those indices\n",
        "        dist_spheres3 = torch.index_select(dist_spheres, 0, true_indices3)\n",
        "        dist_pt_sphere3 = torch.index_select(dist_pt_sphere, 0, true_indices3)\n",
        "        dist_pts3 = torch.index_select(dist_pts, 0, true_indices3)\n",
        "\n",
        "        # sort-select top k minimum distances\n",
        "        sort_dist_spheres3, sort_sph_indices3 = torch.topk(dist_spheres3, k, largest=False)\n",
        "        sort_dist_pt_sphere3, sort_pt_sph_indices3 = torch.topk(dist_pt_sphere3, k, largest=False)\n",
        "        sort_dist_pts3, sort_pts_indices3 = torch.topk(dist_pts3, k, largest=False)\n",
        "\n",
        "        # get their corresponding synsets\n",
        "        synsets[\"C\"] = sort_dist_spheres3\n",
        "        indices[\"C\"] = valid_idx[sort_sph_indices3] # sort_sph_indices3\n",
        "        \n",
        "        synsets[\"D\"] = sort_dist_pt_sphere3\n",
        "        indices[\"D\"] = valid_idx[sort_pt_sph_indices3] # sort_pt_sph_indices3\n",
        "        \n",
        "        synsets[\"E\"] = sort_dist_pts3\n",
        "        indices[\"E\"] = valid_idx[sort_pts_indices3] # sort_pts_indices3\n",
        "        \n",
        "        # insert them into the vicinity matrix    \n",
        "        vicinity_matrix[0][2] = torch.stack((sort_sph_indices3, sort_dist_spheres3), dim=1)\n",
        "        vicinity_matrix[1][2] = torch.stack((sort_pt_sph_indices3, sort_dist_pt_sphere3), dim=1)\n",
        "        vicinity_matrix[2][2] = torch.stack((sort_pts_indices3, sort_dist_pts3), dim=1) \n",
        "    else:\n",
        "        pass\n",
        " \n",
        "\n",
        "    return indices, vicinity_matrix, synsets\n",
        "@jit(nopython=True)\n",
        "def decode_key(key, mtx):\n",
        "    if key == \"A\":\n",
        "        return mtx[2, 0]\n",
        "    if key == \"B\":\n",
        "        return mtx[2, 1]\n",
        "    if key == \"C\":\n",
        "        return mtx[0, 2]\n",
        "    if key == \"D\":\n",
        "        return mtx[1, 2]\n",
        "    if key == \"E\":\n",
        "        return mtx[2, 2]\n",
        "\n",
        "\n",
        "def label_in_vicinity(vicinity_matrix, vicinity_indices,\n",
        "                      target_vocab, spatial_tags, true_label_idx):\n",
        "    t0 = time.time()\n",
        "    \n",
        "    \n",
        "    checked_synsets = []\n",
        "    contained = []\n",
        "    checks = 0\n",
        "    predicted = []\n",
        "    distances = []\n",
        "    \n",
        "    in_vicinity = False\n",
        "    associated_syn = []\n",
        "\n",
        "    true_label = spatial_tags[true_label_idx]\n",
        "\n",
        "    \n",
        "    idx = true_label_idx\n",
        "    word_synset = target_vocab[idx] #list of list \n",
        "\n",
        "    # check if word_synset is within the vicinity matrix\n",
        "    if len(word_synset) != 0:\n",
        "        for e in word_synset:\n",
        "            for key, val in vicinity_indices.items(): #vicinity_indices {\"B\": tensor([84, 26, 79, 63, 37])}\n",
        "                \n",
        "\n",
        "                print(\"Checking if true label is in vicinity ...\")\n",
        "                checked_synsets.append(e)\n",
        "                idx2sense = target_vocab[val]\n",
        "                print(\"idx2sense 1: \", idx2sense)\n",
        "                is_there = e[1] in idx2sense[:, 1]\n",
        "                checks += 1\n",
        "                contained.append(is_there)\n",
        "                                \n",
        "                if is_there:\n",
        "                    print(\"The main true label <{}> is in the vacinity of the predicted tag.\".format(e))\n",
        "                    idx_e = np.where(idx2sense[:, 1] == e[1])\n",
        "                    predicted.append(idx2sense[idx_e])\n",
        "                    distances.append(decode_key(key, vicinity_matrix)[idx_e][1])\n",
        "                else:\n",
        "                    distances.append('no-distance')\n",
        "\n",
        "                # induce all the word-synset tuples that have same synset as true label.\n",
        "                # This double check is necessary since I choose the spatial tags in the training data randomly sometimes.\n",
        "                # get indices of all word-synsets sharing same synset (not same word)\n",
        "                ix = np.where(target_vocab == [_, e[1]])[0] # add [0] to indicate only the row index, not the column\n",
        "                if len(ix) != 0:\n",
        "                    pos_syn = target_vocab[ix]\n",
        "                    \n",
        "                    for t in pos_syn:\n",
        "                        checks += 1\n",
        "                        checked_synsets.append(t)\n",
        "                        is_near = t[1] in idx2sense[:, -1]\n",
        "                        contained.append(is_near)\n",
        "                        \n",
        "                        if is_near == True:                                    \n",
        "                            idx_t = np.where(idx2sense[:, -1] == t[1])\n",
        "                            predicted.append(idx2sense[idx_t])\n",
        "                            distances.append(decode_key(key, vicinity_matrix)[idx_t][1])\n",
        "                        else:\n",
        "                            distances.append('no-distance')\n",
        "                else: \n",
        "                    print(\"... There are no other possibilites for word-synset <{}>\".format(e))\n",
        "                        \n",
        "    else:\n",
        "        print(\"Cannot find the suitable synset of this spatial tag!\")\n",
        "\n",
        "    # ~~~~~~~~~~~~~~~~~~~~~~~~~~~~~~~\n",
        "    # Statistics\n",
        "    # ~~~~~~~~~~~~~~~~~~~~~~~~~~~~~~~\n",
        "    \n",
        "#     print(\"~\" * 80)\n",
        "#     print(\"Statistics\")\n",
        "#     print(\"~\" * 80)\n",
        "    \n",
        "#     print(\"Predicted Spatial Tag = \", spatial_params)\n",
        "#     print(\"Checked Spatial Tag(s) ; contained? ; Predicted ; distances = ({}):\".format(len(checked_synsets)))\n",
        "    for s, c, p, d in zip(checked_synsets, contained, predicted, distances):\n",
        "        print(s, \";\", c, \";\", \"\\n\", p, \";\", d)\n",
        "        print(\"-\"*100)\n",
        "        \n",
        "#     print(\"True Spatial Tag(s) is in vicinity of predicted tag: \", contained)\n",
        "    contained_idx = np.where(np.array(contained) == True)\n",
        "    \n",
        "#     print(\"contained_idx\", contained_idx)\n",
        "#     print(\"checked_idx\", np.array(checked_synsets)[contained_idx])\n",
        "#     print(\"slice\", np.array(checked_synsets)[:, 1])\n",
        "#     print(\"check_slice\", np.array(checked_synsets)[:, 1][contained_idx])\n",
        "\n",
        "    if len(contained_idx[0]) > 0:\n",
        "#         print()\n",
        "#         print(contained_idx)\n",
        "        only_syn = set(np.array(checked_synsets)[contained_idx])#[:, 1])\n",
        "        associated_syn.append(only_syn)\n",
        "#         print(\"True Sense Tag(s) = ({}) --> \".format(len(only_syn)), only_syn)\n",
        "#         print(\"Prediction is correct!\")\n",
        "        in_vicinity = True\n",
        "              \n",
        "    else:\n",
        "#         print(\"Prediction is false ..\")\n",
        "#         print(\"All synsets in the vicinity of the predicted tag are not true senses ..\")\n",
        "#         print(\"Please check manually if the synsets in the vicinity are generalizations of the true labels.\")\n",
        "        in_vicinity = False\n",
        "        associated_syn.append(\"no-synset\")\n",
        "\n",
        "    t1 = time.time()\n",
        "\n",
        "    print(\"It took {} to run the in_vicinity check\".format(t1-t0))\n",
        "    \n",
        "    \n",
        "    return in_vicinity #, associated_syn\n",
        "    "
      ]
    },
    {
      "cell_type": "code",
      "execution_count": null,
      "metadata": {
        "id": "KDJe7O3mYM9f"
      },
      "outputs": [],
      "source": [
        "def count_parameters(model):\n",
        "    'Counts the parameters of the model to allow comparision between different models.'\n",
        "    return sum(p.numel() for p in model.parameters() if p.requires_grad)\n"
      ]
    },
    {
      "cell_type": "markdown",
      "metadata": {
        "collapsed": false,
        "id": "aAF8zYXFYM9f"
      },
      "source": [
        "# Training / Validation"
      ]
    },
    {
      "cell_type": "code",
      "execution_count": null,
      "metadata": {
        "id": "yT4POprfYM9f"
      },
      "outputs": [],
      "source": [
        "class RegTagger:\n",
        "    \"\"\"\n",
        "    The Regressor Tagger to train, validate, test and tag sentences.\n",
        "    \"\"\"\n",
        "    \n",
        "    def __init__(self, use_cuda, device):\n",
        "        super().__init__()\n",
        "        self.use_cuda = use_cuda\n",
        "        self.device = device\n",
        "        torch.backends.cudnn.benchmark = True\n",
        "  \n",
        "    def train(self, batch_size: int, num_workers: int, max_epochs: int,\n",
        "              splittings: dict, path2data: str, data: list, embed_size: int,\n",
        "              target_vocab: list, spatial_tags: list,\n",
        "              chkpt_path: str, chkpt_name: str,\n",
        "              optimizer: str=\"sgd\",\n",
        "              k=5,\n",
        "              d_model=300, d_hid=2000, nlayers=2, nhead=2, dropout=0.2,\n",
        "              lr=5.0, gamma=0.95,\n",
        "              shuffle=True):\n",
        "        \"\"\"\n",
        "        trains the TransformerEncoderRegressor on the training data using pytorch's DataLoader.\n",
        "\n",
        "        :param batch_size: size of the batch to be fed to the network\n",
        "        :param num_workers: number of processors when training (only 0 while training on Windows)\n",
        "        :param max_epochs: maximum number of epochs\n",
        "        :param splittings: dictionary storing the indices of training/validation sentences\n",
        "        :param path2data: path where the training data .pt is stored, input to the DataLoader\n",
        "        :param data: list of the training data\n",
        "        :param embed_size: size of the word to vector embedding \n",
        "        :param target_vocab: list of all word-synset entries in WordNet\n",
        "        :param spatial_tags: list of all spatial tags for target_vocab\n",
        "        :param chkpt_path: string path to the storage of checkopoints\n",
        "        :param chkpt_name: name of the checkpoint to be created/resumed\n",
        "        :param optimizer: name of the optimizer used for training (in lower case)\n",
        "        :param k: number of top synsets in the vicinity matrix\n",
        "        :param d_model: dimension of the model\n",
        "        :param d_hid: dimension of hidden layers\n",
        "        :param nlayers: number of Encoder's layers\n",
        "        :param nhead: number of heads for the attention mechanism\n",
        "        :param dropout: dropout rate of weights\n",
        "        :param lr: learning rate\n",
        "        :param gamma: multiplicative factor of learning rate decay\n",
        "        :param shuffle: whether or not to shuffle the input sentences \n",
        "\n",
        "        :return train history, including training and validation losses.\n",
        "        \"\"\"\n",
        "      \n",
        "        if num_workers > 0:\n",
        "          pin_memory = True\n",
        "        else:\n",
        "          pin_memory = False\n",
        "        \n",
        "        # create batches        \n",
        "        # parameters\n",
        "        params = {'batch_size': batch_size, \n",
        "                  'shuffle': shuffle,\n",
        "                  'collate_fn': lambda x: x,\n",
        "                  'num_workers': num_workers, \n",
        "                  'pin_memory': pin_memory}\n",
        "\n",
        "        # Training and validation data generators\n",
        "        training_set = Dataset(splittings['train'], path2data)\n",
        "        training_generator = DataLoader(training_set, **params)\n",
        "\n",
        "        validation_set = Dataset(splittings['validate'], path2data)\n",
        "        validation_generator = DataLoader(validation_set, **params)\n",
        "\n",
        "        # -------------------------------------------------\n",
        "    \n",
        "        # history to store the losses\n",
        "        history = defaultdict(list)\n",
        "\n",
        "        # Load vocab\n",
        "        VOCAB, weights_matrix = load_vocab(data, embed_size=embed_size)\n",
        "\n",
        "    \n",
        "        #######################################################################################################################\n",
        "        #        Count sentences and number of words in training and validation datasets to normalize the loss\n",
        "        #######################################################################################################################\n",
        "        nb_words_training = 0\n",
        "        nb_train_sentences = 0\n",
        "        nb_words_validation = 0\n",
        "\n",
        "        for batch in training_generator:\n",
        "            for sentence, label, syn, idx in batch:\n",
        "                nb_train_sentences += 1\n",
        "                nb_words_training += len(sentence)\n",
        "\n",
        "        for batch in validation_generator:\n",
        "            for sentence, label, syn, idx in batch:\n",
        "                nb_words_validation += len(sentence)\n",
        "\n",
        "        print()\n",
        "        print(\"Count results:\")\n",
        "        print(\"nb_words_training = {}\".format(nb_words_training))\n",
        "        print(\"nb_train_sentences = {}\".format(nb_train_sentences))\n",
        "        print(\"nb_words_validation = {}\".format(nb_words_validation))\n",
        "        print()\n",
        "\n",
        "\n",
        "        n_batches = np.ceil(nb_train_sentences / batch_size)\n",
        "\n",
        "        mean_words = nb_words_training / n_batches\n",
        "        mean_words = torch.from_numpy(np.array(mean_words).astype('float')).double().to(self.device)\n",
        "\n",
        "\n",
        "        self.model = TransformerEncoderRegressor(weights_matrix = weights_matrix, \n",
        "                                            ntoken= len(VOCAB), \n",
        "                                            out_features=5,\n",
        "                                            d_model=d_model,\n",
        "                                            d_hid=d_hid,\n",
        "                                            nlayers=nlayers,\n",
        "                                            nhead=nhead,\n",
        "                                            dropout=dropout)\n",
        "        self.model.to(self.device)\n",
        "\n",
        "        # ---------------------------------------------------------------------\n",
        "        #                       Optimizer\n",
        "        # ---------------------------------------------------------------------\n",
        "        \n",
        "        criterion = nn.MSELoss()\n",
        "        if optimizer == \"SGD\":\n",
        "            optimizer = torch.optim.SGD(self.model.parameters(), lr=lr, momentum=0.9, nestorov=True)\n",
        "            \n",
        "        if optimizer == \"adam\":\n",
        "            optimizer = torch.optim.Adam(self.model.parameters(), lr=lr, betas=(0.9, 0.999))\n",
        "\n",
        "        scheduler = torch.optim.lr_scheduler.StepLR(optimizer, step_size=1.0, gamma=gamma)\n",
        "        # -------\n",
        "\n",
        "        starting_epoch = 0\n",
        "\n",
        "        # In case there is a checkpoint already, we can resume the training \n",
        "        if os.path.exists(os.path.join(chkpt_path, chkpt_name)):\n",
        "            print(\"Resuming Training in the file {} ...\".format(chkpt_name))\n",
        "            print()\n",
        "            checkpoint = torch.load(os.path.join(chkpt_path, chkpt_name), map_location=self.device)\n",
        "            self.model.load_state_dict(checkpoint['model_state_dict'])\n",
        "            optimizer.load_state_dict(checkpoint['optimizer_state_dict'])\n",
        "            starting_epoch = checkpoint['epoch']\n",
        "            loss_sum = checkpoint['loss']\n",
        "            history = checkpoint['history']\n",
        "        else:\n",
        "          pass\n",
        "\n",
        "\n",
        "        # Loop over epochs\n",
        "        for epoch in range(starting_epoch, max_epochs):\n",
        "            # print(\"epoch = \", epoch)\n",
        "\n",
        "            t0 = time.time()\n",
        "\n",
        "            loss_sum = 0\n",
        "\n",
        "            self.model.train()\n",
        "\n",
        "            # for optimizer\n",
        "            scheduler.step()\n",
        "\n",
        "            # saves the checkpoint file\n",
        "            torch.save({\n",
        "            'epoch': epoch,\n",
        "            'model_state_dict': self.model.state_dict(),\n",
        "            'optimizer_state_dict': optimizer.state_dict(),\n",
        "            'loss': loss_sum,\n",
        "            'history': history\n",
        "            }, os.path.join(chkpt_path, chkpt_name))\n",
        "\n",
        "\n",
        "            print(\"Training ...\")\n",
        "            # Training\n",
        "            for batch in training_generator:\n",
        "\n",
        "                for local_batch, local_labels, local_synsets, local_idx in batch:\n",
        "\n",
        "                    # Transform list(<string>) to Tensor(<Tensor>) after numerecalization \n",
        "                    input_words = local_batch\n",
        "                    local_batch = numericalize(local_batch, VOCAB)\n",
        "\n",
        "                    extract_labels = spatial_tags[local_idx]\n",
        "                    local_labels = [torch.tensor(lab) for lab in extract_labels]\n",
        "\n",
        "                    \n",
        "                    # Transform List(<Tensor>) to Tensor(<Tensor>)\n",
        "                    local_labels = torch.stack(local_labels)\n",
        "                    \n",
        "\n",
        "                    # Transfer to GPU\n",
        "                    local_batch, local_labels = local_batch.to(self.device), local_labels.to(self.device)\n",
        "\n",
        "                    # Model computations\n",
        "                    # out outputs the predicted spatial parameters\n",
        "                    out = self.model(local_batch)\n",
        "                    \n",
        "                    loss = geometric_loss(out, local_labels, device=self.device) / mean_words\n",
        "                    \n",
        "                    # backpropagate\n",
        "                    optimizer.zero_grad()\n",
        "                    loss.backward()\n",
        "                    torch.nn.utils.clip_grad_norm_(self.model.parameters(), 0.5)\n",
        "                    # ---\n",
        "\n",
        "                    optimizer.step()\n",
        "                    loss_sum += loss.item()\n",
        "\n",
        "\n",
        "            train_loss = loss_sum / n_batches\n",
        "            history['train_loss'].append(train_loss)\n",
        "\n",
        "            # Evaluate on the validation set.\n",
        "            # evaluate every 1 step:\n",
        "            print(\"Validation ...\")\n",
        "            vloss_sum = 0\n",
        "            if epoch % 1 == 0:\n",
        "\n",
        "                correct_sense = 0\n",
        "                sense_accuracy = 0\n",
        "\n",
        "                # set model to eval mode to ignore updating the weights of the model\n",
        "                self.model.eval()\n",
        "\n",
        "                # do not calculate gradients while evaluating\n",
        "                with torch.set_grad_enabled(False):\n",
        "\n",
        "                    for batch in validation_generator:\n",
        "\n",
        "                        for local_batch, local_labels, local_synsets, local_idx in batch:\n",
        "\n",
        "                            # Transform list(<string>) to Tensor(<Tensor>)\n",
        "                            input_words = local_batch\n",
        "                            local_batch = numericalize(local_batch, VOCAB)\n",
        "\n",
        "                            extract_labels = spatial_tags[local_idx]\n",
        "                            local_labels = [torch.tensor(lab) for lab in extract_labels]\n",
        "\n",
        "\n",
        "                            # Transform List(<Tensor>) to Tensor(<Tensor>)\n",
        "                            # I have labels of same length --> this should be no problem for Tensor\n",
        "                            local_labels = torch.stack(local_labels)\n",
        "                            \n",
        "\n",
        "                            # Transfer to GPU\n",
        "                            local_batch, local_labels = local_batch.to(self.device), local_labels.to(self.device)\n",
        "                           \n",
        "                            # Model computations\n",
        "                            # out outputs the spatial params\n",
        "                            out = self.model(local_batch)\n",
        "\n",
        "                            # During validation and testing, I want to be less strict.\n",
        "                            # So, if a point resides within the label sphere, the sense is correctly identified.\n",
        "                            loss = geometric_loss(out, local_labels, include_r=False) / nb_words_validation\n",
        "\n",
        "                            vloss_sum += loss.item()                  \n",
        "\n",
        "                      \n",
        "#                             correct_sense_batch = 0\n",
        "# #                             print(\"Initializing the corrext sense batch = {}\".format(correct_sense_batch))\n",
        "\n",
        "#                             true_pred = []\n",
        "#                             # predicted_synsets = []\n",
        "\n",
        "#                             for i, word_tag in enumerate(out):\n",
        "#                                 #print(\"I am in the word tag loop : i = \", i)\n",
        "# #                                 print(\"+\"*150)\n",
        "# #                                 print(\"word_tag = \", word_tag.size())\n",
        "# #                                 print(word_tag)\n",
        "# #                                 print(\"+\"*150)\n",
        "\n",
        "\n",
        "#                                 vindices, vmat, vsyn = vicinity_matrix(spatial_params=word_tag,\n",
        "#                                                                target_vocab=target_vocab,\n",
        "#                                                                spatial_tags=spatial_tags, \n",
        "#                                                                k=k, device=self.device)\n",
        "#                                 # print(\"Vicinity Matrix-Synsets: {}\".format(vmat))\n",
        "#                                 # print(\"vmat\", vmat.get_device())\n",
        "#                                 # print(\"I passed the vicinity_matrix function\")\n",
        "\n",
        "#                                 #numba_type_indices = numba.typeof(np.array(k, dtype=np.int64))\n",
        "#                                 numba_indices = numba.typed.Dict.empty(\n",
        "#                                     key_type=numba.core.types.unicode_type,\n",
        "#                                     value_type=numba.int64[:],\n",
        "#                                     )\n",
        "#                                 # The typed-dict can be used from the interpreter.\n",
        "#                                 for key, value in vindices.items():\n",
        "#                                   # print(\"The Value\", type(value.cpu().detach().numpy()), value.cpu().detach().numpy())\n",
        "#                                   # print(numba.typeof(value.cpu().detach().numpy()))\n",
        "#                                     numba_indices[key] = np.asarray(value.cpu().detach().numpy(), dtype='i8')\n",
        "#                                 #print(\"numba indices\", numba_indices)\n",
        "#                                 #numba_indices['posx'] = np.asarray([1, 0.5, 2], dtype='f8')                                \n",
        "\n",
        "\n",
        "#                                 in_vic = label_in_vicinity(vicinity_matrix=vmat.cpu().detach().numpy(), #vicinity_synsets=vsyn,\n",
        "#                                                            vicinity_indices=numba_indices,\n",
        "#                                                            target_vocab=target_vocab, \n",
        "#                                                            spatial_tags=spatial_tags, \n",
        "#                                                            #true_label=local_labels[i].cpu().detach().numpy()\n",
        "#                                                            true_label_idx = local_idx\n",
        "#                                                            )\n",
        "                                \n",
        "#                                 # print(\"I passed the label_in_vicinity function\")\n",
        "#                                 # print(\"in_vic?\", in_vic)\n",
        "#                                 # print(\"pred_syn\", pred_syn)\n",
        "\n",
        "#                                 true_pred.append(in_vic)\n",
        "#                                 # predicted_synsets.append(pred_syn)\n",
        "                                \n",
        "#                                 print(\"In Vicinity? --> {}\".format(in_vic))\n",
        "# #                                 print(\"Predicted synsets --> {}\".format(pred_syn))\n",
        "\n",
        "#                                 if in_vic==True:\n",
        "#                                     correct_sense += 1\n",
        "#                                     correct_sense_batch += 1\n",
        "\n",
        "#                             # print(true_pred)\n",
        "#                             # print(predicted_synsets)\n",
        "                        \n",
        "#                             batch_acc = correct_sense_batch / len(local_batch)\n",
        "#                             history[\"sense_accuracy\"].append(batch_acc)\n",
        "# #                             print(\"correct sense batch ({}) / local_batch ({}) = {}\".format(correct_sense_batch, len(local_batch), batch_acc))\n",
        "\n",
        "                # sense_accuracy = correct_sense / nb_words_validation * 100\n",
        "\n",
        "                # print(f\"The sense accuracy on the validation set is {sense_accuracy:.3f}%\")   #.format(sense_accuracy * 100))\n",
        "                \n",
        "                validation_loss = vloss_sum / n_batches\n",
        "                history['validation_loss'].append(validation_loss)\n",
        "                    \n",
        "            t1 = time.time()\n",
        "            print(f'Epoch {epoch+1}: train loss = {train_loss:.4f}, time = {t1-t0:.4f} (s)')\n",
        "\n",
        "\n",
        "        return history\n",
        "    \n",
        "    \n",
        "       # assuming the sentence is already splitted into tokens, e.g. ['fall', 'in', 'catastrophes']\n",
        "    def test(self, testing_data, splittings, path, embed_size, batch_size, num_workers, target_vocab, spatial_tags, k=5, shuffle=True):\n",
        "        \"\"\"\n",
        "        tests the TransformerEncoderRegressor on the testing data using pytorch's DataLoader.\n",
        "        :param testing_data:\n",
        "        :param splittings: dictionary storing the indices of training/validation sentences\n",
        "        :param path: path where the testing data .pt is stored, input to the DataLoader\n",
        "        :param embed_size: size of the word to vector embedding \n",
        "        :param batch_size: size of the batch to be fed to the network\n",
        "        :param num_workers: number of processors when training (only 0 while training on Windows) \n",
        "        :param target_vocab: list of all word-synset entries in WordNet\n",
        "        :param spatial_tags: list of all spatial tags for target_vocab\n",
        "        :param k: number of top synsets in the vicinity matrix\n",
        "        :param shuffle: whether or not to shuffle the input sentences \n",
        "\n",
        "        :return testing history, including testing loss\n",
        "        \"\"\"\n",
        "        \n",
        "        if num_workers > 0:\n",
        "          pin_memory = True\n",
        "        else:\n",
        "          pin_memory = False\n",
        "\n",
        "        # parameters\n",
        "        params = {'batch_size': batch_size, #64,\n",
        "                  'shuffle': shuffle,\n",
        "                  'collate_fn': lambda x: x,\n",
        "                  'num_workers': num_workers, #6} #set 0 if training on Windows machine\n",
        "                  'pin_memory': pin_memory}\n",
        "        \n",
        "        # testing data generator\n",
        "        testing_set = TestingDataset(splittings, path)\n",
        "        testing_generator = DataLoader(testing_set, **params)\n",
        "\n",
        "        # history to store testing loss\n",
        "        history = defaultdict(list)\n",
        "        \n",
        "        # ------\n",
        "        # Count words in sentence to calculate accuracy\n",
        "        # ------\n",
        "        nb_words_testing = 0\n",
        "\n",
        "        for batch in testing_generator:\n",
        "            for id, sentence, label, syn, idx in batch:\n",
        "                nb_words_testing += len(sentence)\n",
        "        print()\n",
        "        print(\"Number of words to be tested: \", nb_words_testing)\n",
        "        print()\n",
        "                \n",
        "        # --------------------------\n",
        "        VOCAB, weights_matrix = load_vocab(testing_data, embed_size=embed_size)\n",
        "\n",
        "\n",
        "        # ---------------------------  \n",
        "        # testing\n",
        "        # ---------------------------\n",
        "        correct_sense = 0\n",
        "        sense_accuracy = 0\n",
        "        \n",
        "        # initialize the loss for testing\n",
        "        vloss_sum = 0\n",
        "        t0 = time.time()\n",
        "\n",
        "        predictions = {}\n",
        "\n",
        "        # set model to eval mode to ignore updating the weights of the model\n",
        "        self.model.eval()\n",
        "\n",
        "        # send the model to GPU\n",
        "        self.model.to(self.device)\n",
        "\n",
        "        # do not calculate gradients while evaluating\n",
        "        with torch.set_grad_enabled(False):\n",
        "\n",
        "            for batch in testing_generator:\n",
        "                #print(\"Batches for testing\")\n",
        "                #print(\"#\" * 100)\n",
        "\n",
        "                for id, local_batch, local_labels, local_synsets, local_idx in batch:\n",
        "\n",
        "                    # Transform list(<string>) to Tensor(<Tensor>)\n",
        "                    print(local_idx)\n",
        "                    print(\"Input Sentence\")\n",
        "                    print(local_batch)\n",
        "                    input_words = local_batch\n",
        "                    local_batch = numericalize(local_batch, VOCAB)\n",
        "\n",
        "#                     print(type(local_batch), local_batch)\n",
        "\n",
        "                    # the evaluation datasets may contain more than 1 tag\n",
        "                    if len(local_idx) > 1:\n",
        "                      # choose first synset\n",
        "                      local_idx = [l[0] for l in local_idx]\n",
        "                      print(\"Local_idx\", local_idx)\n",
        "                      #local_labels = local_labels[0]\n",
        "\n",
        "                    extract_labels = spatial_tags[local_idx]\n",
        "                    print(\"extract labels\", extract_labels)\n",
        "                    local_labels = [torch.tensor(lab) for lab in extract_labels]\n",
        "\n",
        "\n",
        "\n",
        "                    # Transform List(<Tensor>) to Tensor(<Tensor>)\n",
        "                    local_labels = torch.stack(local_labels)\n",
        "                    print(\"Labels:\")\n",
        "                    print(local_synsets)\n",
        "                    \n",
        "                    # Transfer to GPU\n",
        "                    local_batch, local_labels = local_batch.to(self.device), local_labels.to(self.device)\n",
        "\n",
        "                    # Model computations\n",
        "                    out = self.model(local_batch)\n",
        "                    predictions[id] = out\n",
        "\n",
        "                    # During validation and testing, I want to be less strict.\n",
        "                    # So, if a point resides within the label sphere, the sense is correctly identified.\n",
        "                    loss = geometric_loss(out, local_labels, include_r=True)\n",
        "\n",
        "                    vloss_sum += loss.item()                  \n",
        "\n",
        "                    testing_loss = vloss_sum / len(local_batch)\n",
        "                    print(\"testing_loss = \", type(testing_loss), testing_loss)\n",
        "                    \n",
        "                    history['testing_loss'].append(testing_loss)\n",
        "\n",
        "        return predictions #history\n",
        "\n",
        "    def tag(self, sentence, embed_size, target_vocab, spatial_tags, k, annotation_path, traindata_name, chkpt_name):\n",
        "        \"\"\"\n",
        "        tags the words of any sentence to their corresponding senses. \n",
        "        \"\"\"\n",
        "\n",
        "        print(\"Initial Input: \", sentence)\n",
        "        \n",
        "        if isinstance(sentence, str):\n",
        "            # preprocess the sentence, such that the lemmatized sentence is returned\n",
        "            lemm_sentence = preprocess(sentence)\n",
        "            tokens = list(map(lambda x: x[0], lemm_sentence))\n",
        "            pos = list(map(lambda x: x[1], lemm_sentence))\n",
        "            \n",
        "        if isinstance(sentence, list):\n",
        "            lst2str = \" \".join(sentence)\n",
        "            lemm_sentence = preprocess(lst2str)\n",
        "            tokens = list(map(lambda x: x[0], lemm_sentence))\n",
        "            pos = list(map(lambda x: x[1], lemm_sentence))\n",
        "\n",
        "    \n",
        "        \n",
        "        N = len(tokens)\n",
        "        tags = '?' * N\n",
        "        print(\"Lemmatized Sentence: \", tokens)\n",
        "               \n",
        "        data = tokens\n",
        "        \n",
        "        # words embeddings\n",
        "        vocab, wmat = load_vocab(data, embed_size)\n",
        "        \n",
        "        # numericalize words\n",
        "        num_data = numericalize(data, vocab)\n",
        "        \n",
        "        num_data = num_data.to(self.device)\n",
        "        \n",
        "        out = self.model(num_data)\n",
        "        \n",
        "        distances = []\n",
        "        predicted_indices = []\n",
        "\n",
        "        for i, word_tag in enumerate(out):\n",
        "            sentence_name = \"_\".join(tokens)\n",
        "            \n",
        "            if not os.path.exists(os.path.join(annotation_path, traindata_name, chkpt_name, sentence_name)):\n",
        "                os.mkdir(os.path.join(annotation_path, traindata_name, chkpt_name, sentence_name))\n",
        "\n",
        "             \n",
        "            outfile = os.path.join(annotation_path, traindata_name, chkpt_name, sentence_name, f'{i}.txt')\n",
        "\n",
        "            if os.path.exists(outfile):\n",
        "                print(\"Existing file in: \", outfile)\n",
        "                print(\"Resume Results ...\")\n",
        "                i += 1\n",
        "                \n",
        "            else: \n",
        "                  f = open(outfile, 'w+')\n",
        "                  print(\"Original Document:\", file=f)\n",
        "                  print(sentence, file=f)\n",
        "                  print(\" \", file=f)\n",
        "                  lemmatized_sentence = tokens\n",
        "                  for lemma, p in zip(lemmatized_sentence, pos):\n",
        "                    print(f'{lemma}, {p}', file=f)\n",
        "                  print('-' * 100, file=f)\n",
        "                  print(' ', file=f)\n",
        "                  \n",
        "                                      \n",
        "                  vindices, vmat, vdist = vicinity_matrix(spatial_params=word_tag,\n",
        "                                                          pos=pos[i],\n",
        "                                                          target_vocab=target_vocab,\n",
        "                                                          spatial_tags=spatial_tags, \n",
        "                                                          pos_tags=pos_tags,\n",
        "                                                          k=k, device=self.device)\n",
        "                  predicted_indices.append(vindices)\n",
        "                  distances.append(vdist)\n",
        "                \n",
        "                  decode_tag(tokens=[lemmatized_sentence[i]], sentag_idx=[vindices], sentag_dist=[vdist], file=f, true_synsets=None)\n",
        "\n",
        "          \n",
        "        return tokens, predicted_indices, distances\n",
        "     "
      ]
    },
    {
      "cell_type": "markdown",
      "metadata": {
        "id": "oNXr_LtJxmqX"
      },
      "source": [
        ""
      ]
    },
    {
      "cell_type": "markdown",
      "metadata": {
        "id": "BF9Tad7v-Vpe"
      },
      "source": [
        "### create sample, small splittings to test if the model overfits (to see if it learns)"
      ]
    },
    {
      "cell_type": "code",
      "execution_count": null,
      "metadata": {
        "id": "cuy0IdZH-VRJ"
      },
      "outputs": [],
      "source": [
        ""
      ]
    },
    {
      "cell_type": "code",
      "execution_count": null,
      "metadata": {
        "id": "Qu3rfn8coJb5"
      },
      "outputs": [],
      "source": [
        "# superficial_splittings = splittings #[\"train\"][:20]\n",
        "# print(superficial_splittings)\n",
        "# superficial_splittings[\"train\"] = [splittings[\"train\"][7]] * 50\n",
        "# # superficial_splittings[\"validate\"] = ['115535'] * 10"
      ]
    },
    {
      "cell_type": "code",
      "execution_count": null,
      "metadata": {
        "id": "VbAYxRI_5pfl"
      },
      "outputs": [],
      "source": [
        "# superficial_splittings"
      ]
    },
    {
      "cell_type": "code",
      "execution_count": null,
      "metadata": {
        "id": "45N9fFezIhuR"
      },
      "outputs": [],
      "source": [
        "# path2data=resources_path + pwngc_path + \"/indexed_pwngc_id.pt\"\n",
        "# torch.load(path2data)['181688']"
      ]
    },
    {
      "cell_type": "code",
      "execution_count": null,
      "metadata": {
        "id": "5dr99wikNh0Q"
      },
      "outputs": [],
      "source": [
        "# superficial_splittings[\"validate\"] = ['181688'] * 10"
      ]
    },
    {
      "cell_type": "code",
      "execution_count": null,
      "metadata": {
        "id": "hqhaTfNQQ-MA"
      },
      "outputs": [],
      "source": [
        "# superficial_splittings"
      ]
    },
    {
      "cell_type": "markdown",
      "metadata": {
        "id": "D4p7ggSz-iHT"
      },
      "source": [
        " # Begin Training 1\n",
        " ## 25 epochs, 4 attention heads, 8 nlayers, 200 hidden layers\n",
        " ## checkpoint name: training_state.pt"
      ]
    },
    {
      "cell_type": "code",
      "execution_count": null,
      "metadata": {
        "id": "Y5Ne1kewYM9h"
      },
      "outputs": [],
      "source": [
        "use_cuda = torch.cuda.is_available()\n",
        "print(use_cuda)\n",
        "device = torch.device(\"cuda\" if use_cuda else \"cpu\")\n",
        "print(device)\n",
        "\n",
        "T = RegTagger(use_cuda=use_cuda, device=device)\n",
        "\n",
        "train_history = T.train(batch_size=64, \n",
        "                        num_workers=0, \n",
        "                        max_epochs=25, \n",
        "                        splittings=splittings, \n",
        "                        path2data=idx_file, \n",
        "                        data=list(datasetID.values()), \n",
        "                        embed_size=300, \n",
        "                        target_vocab=target_VOCAB, \n",
        "                        spatial_tags=SPATIAL_TAGS,\n",
        "                        chkpt_path=CHECKPOINT_PATH, \n",
        "                        chkpt_name='training_state.pt',\n",
        "                        optimizer=\"adam\",\n",
        "                        d_model=300, d_hid=200, nlayers=8, nhead=4, dropout=0.2,\n",
        "                        lr=1e-2, gamma=0.95, \n",
        "                        shuffle=True\n",
        "                        )"
      ]
    },
    {
      "cell_type": "markdown",
      "metadata": {
        "id": "HGXtkBRB1QNp"
      },
      "source": [
        "## Plots"
      ]
    },
    {
      "cell_type": "code",
      "execution_count": null,
      "metadata": {
        "id": "BD1c3TzE2Y-7"
      },
      "outputs": [],
      "source": [
        "use_cuda = torch.cuda.is_available()\n",
        "device = torch.device(\"cuda\" if use_cuda else \"cpu\")\n",
        "\n",
        "T = RegTagger(use_cuda=use_cuda, device=device)"
      ]
    },
    {
      "cell_type": "code",
      "execution_count": null,
      "metadata": {
        "id": "2_Z8TVmG1PA3"
      },
      "outputs": [],
      "source": [
        "if os.path.exists(os.path.join(CHECKPOINT_PATH, 'training_state.pt')):\n",
        "      print(\"Resuming Training\")\n",
        "      checkpoint = torch.load(os.path.join(CHECKPOINT_PATH, 'training_state.pt'), map_location=DEVICE)\n",
        "      starting_epoch = checkpoint['epoch']\n",
        "      loss_sum = checkpoint['loss']\n",
        "      history = checkpoint['history']"
      ]
    },
    {
      "cell_type": "code",
      "execution_count": null,
      "metadata": {
        "id": "xnYVwQ7qkp1f"
      },
      "outputs": [],
      "source": [
        "train_history = history\n"
      ]
    },
    {
      "cell_type": "code",
      "execution_count": null,
      "metadata": {
        "id": "xXpqJ6iMxd_f"
      },
      "outputs": [],
      "source": [
        "train_history.keys()"
      ]
    },
    {
      "cell_type": "code",
      "execution_count": null,
      "metadata": {
        "id": "bWsO0JcoxznI"
      },
      "outputs": [],
      "source": [
        "len(train_history[\"train_loss\"]) # this comes from  #training_sentences * #epochs"
      ]
    },
    {
      "cell_type": "code",
      "execution_count": null,
      "metadata": {
        "id": "YYOr0uuFx6fm"
      },
      "outputs": [],
      "source": [
        "len(train_history[\"validation_loss\"]) # this comes from #validation_sentences * #epochs"
      ]
    },
    {
      "cell_type": "code",
      "execution_count": null,
      "metadata": {
        "id": "wpLR79RK1NHc"
      },
      "outputs": [],
      "source": [
        "# now I need to rearrange the training_loss function, by adding every 176430 losses together. At the end, 25 values come out\n",
        "nb_epochs = 25\n",
        "nb_train_sentences = 176430\n",
        "new_train_loss = np.array_split(np.array(train_history[\"train_loss\"]), nb_epochs)\n",
        "print(type(new_train_loss[0]))\n",
        "print(len(new_train_loss))\n",
        "\n",
        "tloss = [(np.sum(loss, 0)/nb_train_sentences) for loss in new_train_loss]\n",
        "print(tloss[0])\n",
        "print(len(tloss))"
      ]
    },
    {
      "cell_type": "code",
      "execution_count": null,
      "metadata": {
        "id": "f1b6ZMvL2at6"
      },
      "outputs": [],
      "source": [
        "# now I need to rearrange the validation_loss function, by adding every  losses together. At the end, 25 values come out\n",
        "nb_epochs = 25\n",
        "nb_val_sentences = 9285\n",
        "new_val_loss = np.array_split(np.array(train_history[\"validation_loss\"]), nb_epochs)\n",
        "vloss = [np.sum(loss, 0)/nb_val_sentences for loss in new_val_loss]\n"
      ]
    },
    {
      "cell_type": "code",
      "execution_count": null,
      "metadata": {
        "id": "oxx9IHXuyplR"
      },
      "outputs": [],
      "source": [
        "# Get training and test loss histories\n",
        "training_loss = tloss # train_history['train_loss']\n",
        "#test_loss = vloss #train_history['validation_loss']\n",
        "\n",
        "# Create count of the number of epochs\n",
        "epoch_count = range(1, len(tloss)+1)\n",
        "\n",
        "# Visualize loss history\n",
        "plt.plot(epoch_count, training_loss, 'r--')#, alpha= 0.3)\n",
        "#plt.plot(epoch_count, test_loss, 'b-')#, alpha = 0.2)\n",
        "#plt.legend(['Training Loss', 'Validation Loss'])\n",
        "plt.xlabel('Epoch')\n",
        "plt.ylabel('Loss')\n",
        "plt.show();"
      ]
    },
    {
      "cell_type": "code",
      "execution_count": null,
      "metadata": {
        "id": "iOROGfusNCEC"
      },
      "outputs": [],
      "source": [
        "# Get training and test loss histories\n",
        "#training_loss = tloss # train_history['train_loss']\n",
        "test_loss = vloss #train_history['validation_loss']\n",
        "\n",
        "# Create count of the number of epochs\n",
        "epoch_count = range(1, len(vloss)+1)\n",
        "\n",
        "# Visualize loss history\n",
        "#plt.plot(epoch_count, training_loss, 'r--')#, alpha= 0.3)\n",
        "plt.plot(epoch_count, test_loss, 'b-')#, alpha = 0.2)\n",
        "#plt.legend(['Training Loss', 'Validation Loss'])\n",
        "plt.xlabel('Epoch')\n",
        "plt.ylabel('Loss')\n",
        "plt.show();"
      ]
    },
    {
      "cell_type": "code",
      "execution_count": null,
      "metadata": {
        "id": "MVIabHpnOdTl"
      },
      "outputs": [],
      "source": [
        "fig, ax = plt.subplots()\n",
        "\n",
        "# Plot linear sequence, and set tick labels to the same color\n",
        "ax.plot(tloss, color='red')\n",
        "ax.tick_params(axis='y', labelcolor='red')\n",
        "ax.set_ylabel(\"Training loss\", fontweight='bold')\n",
        "\n",
        "# Generate a new Axes instance, on the twin-X axes (same position)\n",
        "ax2 = ax.twinx()\n",
        "\n",
        "# Plot exponential sequence, set scale to logarithmic and change tick color\n",
        "ax2.plot(vloss, color='blue', linestyle='dashed', alpha=0.5)\n",
        "#ax2.set_yscale('log')\n",
        "ax2.tick_params(axis='y', labelcolor='b')\n",
        "ax2.set_ylabel(\"Validation loss\", fontweight='bold')\n",
        "\n",
        "ax.set_xlabel(\"Number of epochs\", fontweight='bold')\n",
        "ax.set_title(\"Training History PWNGC\\ndhid=200, nlayers=8, nhead=4\", fontweight='bold')\n",
        "plt.show()\n",
        "\n",
        "\n",
        "plt.savefig(resources_path + pwngc_path + '/pwngc_train_history_4heads_25epochs.png')\n",
        "\n",
        "files.download(resources_path + pwngc_path + '/pwngc_train_history_4heads_25epochs.png')"
      ]
    },
    {
      "cell_type": "markdown",
      "metadata": {
        "id": "DLf9RL5EaTGz"
      },
      "source": [
        "Analysis of this training history (dhid=200, nhead=4, epochs=25):\n",
        "- unstable training, the training and validation losses are oscillating. \n",
        "  - why?\n",
        "    1. the network size is small. This causes that each processed batch changes the weights in the network excessively, resulting in a weak representation of the data.\n",
        "    2. saturation caused by sigmoid. I use Sigmoid to output a list of params between 0 and 1, then I calculate the logistic scaling to compare to the true label. \n",
        "    3. the learning rate choice: if it is too small, it might get stuck in the local minima, if the value is too big, it makes the network unstable with oscillating loss.\n",
        "    4. the depth of the network is not sufficient to learn patterns. \n",
        " \n",
        "- all of these causes apply to our settings.\n",
        "  - we need to increase the network size\n",
        "\n",
        "- Also, there might be some special issues with PWNGC since the dataset is very diverse, and do not contain much redundant senses (highly imbalanced). When the NN updates its params based on a batch, those parameters do not necessarily hold for the newly introduced batch\n"
      ]
    },
    {
      "cell_type": "code",
      "execution_count": null,
      "metadata": {
        "id": "sTJiDXaBPYcr"
      },
      "outputs": [],
      "source": [
        "plt.figure()\n",
        "f, axes = plt.subplots(2, 1)\n",
        "x = range(1, 25+1)\n",
        "axes[0].plot(x, tloss)\n",
        "axes[0].set_ylabel('train_loss')\n",
        "\n",
        "axes[1].plot(x, vloss)\n",
        "axes[1].set_ylabel('validation_loss')"
      ]
    },
    {
      "cell_type": "code",
      "execution_count": null,
      "metadata": {
        "id": "uD7nEfCX871Z"
      },
      "outputs": [],
      "source": [
        "# store history in a pickle\n",
        "file4train_history = os.path.join(resources_path, pwngc_path, \"/train_hist_pwngc_25epochs_4heads.pkl\")\n",
        "\n",
        "open_file = open(file4train_history, \"wb\")\n",
        "pickle.dump(train_history, open_file)\n",
        "open_file.close()\n"
      ]
    },
    {
      "cell_type": "code",
      "execution_count": null,
      "metadata": {
        "id": "mByqtQACYM9i"
      },
      "outputs": [],
      "source": [
        "sentence = ['run'] \n",
        "tokens, sentag_idx, sentag_dist = T.tag(sentence, 300, target_VOCAB, SPATIAL_TAGS, 5)\n",
        "decode_tag(tokens, sentag_idx, sentag_dist)"
      ]
    },
    {
      "cell_type": "markdown",
      "metadata": {
        "id": "6hD2OIzBA6b1"
      },
      "source": [
        "## Testing"
      ]
    },
    {
      "cell_type": "code",
      "source": [
        "# def parse_testing_data(file_path): # file_path = os.path.join(TESTING_PATH, \"/senseval2.pt\")\n",
        "#   \"\"\"\n",
        "#   parses the testing datasets, and prepares it for training\n",
        "#   \"\"\"\n",
        "\n",
        "#   data = torch.load(file_path)\n",
        " \n",
        "#   extracted_data = []\n",
        "\n",
        "#   for i, sent in enumerate(data):\n",
        "#       tmp_lemma = []\n",
        "#       tmp_tag = []\n",
        "#       tmp_synset = []\n",
        "#       tmp_idx = []\n",
        "#       for j, word in enumerate(sent): \n",
        "#         tmp_lemma.append(word[1])\n",
        "#         tmp_tag.append(word[5])\n",
        "#         tmp_synset.append(word[3])\n",
        "#         tmp_idx.append(word[4])\n",
        "#       tmp_sent = [tmp_lemma, tmp_tag, tmp_synset, tmp_idx]\n",
        "#       extracted_data.append(tmp_sent)\n",
        "#   return extracted_data"
      ],
      "metadata": {
        "id": "jPssi9CSPCwc"
      },
      "execution_count": null,
      "outputs": []
    },
    {
      "cell_type": "code",
      "execution_count": null,
      "metadata": {
        "id": "8teAH946BQx-"
      },
      "outputs": [],
      "source": [
        "# # Senseval2\n",
        "# senseval2_file = \"/senseval2.pt\"\n"
      ]
    },
    {
      "cell_type": "code",
      "execution_count": null,
      "metadata": {
        "id": "JrVbte2MKnDQ"
      },
      "outputs": [],
      "source": [
        "# senseval2 = torch.load(TESTING_PATH + \"/senseval2.pt\")\n",
        "# senseval2[0]"
      ]
    },
    {
      "cell_type": "code",
      "execution_count": null,
      "metadata": {
        "id": "dLWsbRB1g6KD"
      },
      "outputs": [],
      "source": [
        "# # extract needed data from senseval\n",
        "# senseval2_ = []\n",
        "# for i in range(len(senseval2)):\n",
        "#     sent = senseval2[i]\n",
        "#     tmp_lemma = []\n",
        "#     tmp_tag = []\n",
        "#     tmp_synset = []\n",
        "#     tmp_idx = []\n",
        "#     for j in range(len(sent)):\n",
        "#       tmp_lemma.append(sent[j][1])\n",
        "#       tmp_tag.append(sent[j][5])\n",
        "#       tmp_synset.append(sent[j][3])\n",
        "#       tmp_idx.append(sent[j][4])\n",
        "#     tmp_sent = [tmp_lemma, tmp_tag, tmp_synset, tmp_idx]\n",
        "#     senseval2_.append(tmp_sent)"
      ]
    },
    {
      "cell_type": "code",
      "execution_count": null,
      "metadata": {
        "id": "VOlX-EjujSGt"
      },
      "outputs": [],
      "source": [
        "# senseval2_"
      ]
    },
    {
      "cell_type": "code",
      "execution_count": null,
      "metadata": {
        "id": "dS9Pf8l6Ixjy"
      },
      "outputs": [],
      "source": [
        "senseval2 = parse_testing_data(os.path.join(TESTING_PATH, '/senseval2.pt'))\n",
        "senseval2_id = data_id(senseval2)\n"
      ]
    },
    {
      "cell_type": "code",
      "execution_count": null,
      "metadata": {
        "id": "t8vfSJYcgo1b"
      },
      "outputs": [],
      "source": [
        "senseval2_id"
      ]
    },
    {
      "cell_type": "code",
      "execution_count": null,
      "metadata": {
        "id": "XoAmjXSwOY0l"
      },
      "outputs": [],
      "source": [
        "torch.save(senseval2_id, os.path.join(TESTING_PATH, \"/senseval2_ID.pt\"))"
      ]
    },
    {
      "cell_type": "code",
      "execution_count": null,
      "metadata": {
        "id": "QlFVHxyfHRqk"
      },
      "outputs": [],
      "source": [
        ""
      ]
    },
    {
      "cell_type": "code",
      "execution_count": null,
      "metadata": {
        "id": "yrqrgbyt9pbg"
      },
      "outputs": [],
      "source": [
        "params = {'batch_size': 5,\n",
        "                  'shuffle': True,\n",
        "                  'collate_fn': lambda x: x,\n",
        "                  'num_workers': 0} \n",
        "                  # 'pin_memory': pin_memory}"
      ]
    },
    {
      "cell_type": "code",
      "execution_count": null,
      "metadata": {
        "id": "NywrtyKTTWeb"
      },
      "outputs": [],
      "source": [
        "list_ids = list(senseval2_id.keys())\n",
        "path2data = TESTING_PATH + '/senseval2_ID.pt'\n",
        "testing_set = TestingDataset(list_ids, path2data)\n",
        "testing_generator = DataLoader(testing_set, **params)"
      ]
    },
    {
      "cell_type": "code",
      "execution_count": null,
      "metadata": {
        "id": "fzQJcd-Zc-Mj"
      },
      "outputs": [],
      "source": [
        ""
      ]
    },
    {
      "cell_type": "code",
      "execution_count": null,
      "metadata": {
        "id": "2sUnphV4UV8O"
      },
      "outputs": [],
      "source": [
        "for batch in testing_generator:\n",
        "  # print(type(batch[0][0]), batch[0])\n",
        "  # print(batch[1])\n",
        "  # print(batch[2])\n",
        "  # print(batch[3])\n",
        "  # print()\n",
        "    for sentence, label, syn, idx in batch:\n",
        "       print(sentence, label, syn, idx)\n",
        "       break\n",
        "    break"
      ]
    },
    {
      "cell_type": "code",
      "execution_count": null,
      "metadata": {
        "id": "f4VDlsGZ1KQT"
      },
      "outputs": [],
      "source": [
        "test_history = T.test(testing_data=list(senseval2_id.values()), \n",
        "                      splittings=list(senseval2_id.keys()),\n",
        "                      path=TESTING_PATH + '/senseval2_ID.pt',  \n",
        "                      embed_size=300, \n",
        "                      batch_size=242, \n",
        "                      num_workers=0, \n",
        "                      target_vocab=target_VOCAB, \n",
        "                      spatial_tags=SPATIAL_TAGS, \n",
        "                      k=5,\n",
        "                      shuffle=True)       "
      ]
    },
    {
      "cell_type": "code",
      "execution_count": null,
      "metadata": {
        "id": "kB_V_Tri_nhK"
      },
      "outputs": [],
      "source": [
        "senseval2_id['0']"
      ]
    },
    {
      "cell_type": "code",
      "execution_count": null,
      "metadata": {
        "id": "kAs_tzdQ_tOd"
      },
      "outputs": [],
      "source": [
        "sentence = senseval2_id[\"0\"][0]\n",
        "tokens, sentag_idx, sentag_dist = T.tag(sentence, 300, target_VOCAB, SPATIAL_TAGS, k=3)\n",
        "decode_tag(tokens, sentag_idx, sentag_dist)"
      ]
    },
    {
      "cell_type": "markdown",
      "metadata": {
        "id": "ArUenr33-YLz"
      },
      "source": [
        "# Begin Training 2\n"
      ]
    },
    {
      "cell_type": "code",
      "execution_count": null,
      "metadata": {
        "id": "1gmQN1gt-boY",
        "colab": {
          "base_uri": "https://localhost:8080/",
          "height": 658
        },
        "outputId": "f8a157c6-54f0-4a02-82ec-3e023562e2bf"
      },
      "outputs": [
        {
          "output_type": "stream",
          "name": "stdout",
          "text": [
            "True\n",
            "cuda\n",
            "[['necessary', 'means', 'know-how', 'authority'], ['necessary.a.01', 'means.n.01', 'know-how.n.01', 'authority.n.01'], [tensor([5.0801e+04, 1.3514e+05, 2.5010e+01, 6.4176e+04, 9.0000e+01, 5.0000e-01]), tensor([7.9562e+04, 1.1174e+05, 9.8310e+01, 9.8013e+04, 0.0000e+00, 1.8500e+01]), tensor([1.7459e+05, 1.4268e+05, 1.0717e+02, 7.1890e+04, 0.0000e+00, 1.0650e+02]), tensor([9.4484e+04, 3.7587e+04, 1.0434e+02, 1.9497e+05, 0.0000e+00, 7.5000e+00])], [50801, 79562, 174594, 94484]]\n",
            "\n",
            "Count results:\n",
            "nb_words_training = 506146\n",
            "nb_train_sentences = 176430\n",
            "nb_words_validation = 26674\n",
            "\n",
            "Resuming Training in the file pwngc_training_state_20epochs_8heads_6layers_2048hidden.pt ...\n",
            "\n"
          ]
        },
        {
          "output_type": "stream",
          "name": "stderr",
          "text": [
            "/usr/local/lib/python3.7/dist-packages/torch/optim/lr_scheduler.py:134: UserWarning: Detected call of `lr_scheduler.step()` before `optimizer.step()`. In PyTorch 1.1.0 and later, you should call them in the opposite order: `optimizer.step()` before `lr_scheduler.step()`.  Failure to do this will result in PyTorch skipping the first value of the learning rate schedule. See more details at https://pytorch.org/docs/stable/optim.html#how-to-adjust-learning-rate\n",
            "  \"https://pytorch.org/docs/stable/optim.html#how-to-adjust-learning-rate\", UserWarning)\n"
          ]
        },
        {
          "output_type": "stream",
          "name": "stdout",
          "text": [
            "Training ...\n"
          ]
        },
        {
          "output_type": "error",
          "ename": "KeyboardInterrupt",
          "evalue": "ignored",
          "traceback": [
            "\u001b[0;31m---------------------------------------------------------------------------\u001b[0m",
            "\u001b[0;31mKeyboardInterrupt\u001b[0m                         Traceback (most recent call last)",
            "\u001b[0;32m<ipython-input-46-c7eef47524fd>\u001b[0m in \u001b[0;36m<module>\u001b[0;34m()\u001b[0m\n\u001b[1;32m     23\u001b[0m                         \u001b[0md_model\u001b[0m\u001b[0;34m=\u001b[0m\u001b[0;36m300\u001b[0m\u001b[0;34m,\u001b[0m \u001b[0md_hid\u001b[0m\u001b[0;34m=\u001b[0m\u001b[0;36m2048\u001b[0m\u001b[0;34m,\u001b[0m \u001b[0mnlayers\u001b[0m\u001b[0;34m=\u001b[0m\u001b[0;36m6\u001b[0m\u001b[0;34m,\u001b[0m \u001b[0mnhead\u001b[0m\u001b[0;34m=\u001b[0m\u001b[0;36m4\u001b[0m\u001b[0;34m,\u001b[0m \u001b[0mdropout\u001b[0m\u001b[0;34m=\u001b[0m\u001b[0;36m0.1\u001b[0m\u001b[0;34m,\u001b[0m\u001b[0;34m\u001b[0m\u001b[0;34m\u001b[0m\u001b[0m\n\u001b[1;32m     24\u001b[0m                         \u001b[0mlr\u001b[0m\u001b[0;34m=\u001b[0m\u001b[0;36m1e-3\u001b[0m\u001b[0;34m,\u001b[0m \u001b[0mgamma\u001b[0m\u001b[0;34m=\u001b[0m\u001b[0;36m0.95\u001b[0m\u001b[0;34m,\u001b[0m\u001b[0;34m\u001b[0m\u001b[0;34m\u001b[0m\u001b[0m\n\u001b[0;32m---> 25\u001b[0;31m                         \u001b[0mshuffle\u001b[0m\u001b[0;34m=\u001b[0m\u001b[0;32mTrue\u001b[0m\u001b[0;34m\u001b[0m\u001b[0;34m\u001b[0m\u001b[0m\n\u001b[0m\u001b[1;32m     26\u001b[0m                         )\n",
            "\u001b[0;32m<ipython-input-40-98fef9a9fbfc>\u001b[0m in \u001b[0;36mtrain\u001b[0;34m(self, batch_size, num_workers, max_epochs, splittings, path2data, data, embed_size, target_vocab, spatial_tags, chkpt_path, chkpt_name, optimizer, k, d_model, d_hid, nlayers, nhead, dropout, lr, gamma, shuffle)\u001b[0m\n\u001b[1;32m    177\u001b[0m                     \u001b[0;31m# Transform list(<string>) to Tensor(<Tensor>) after numerecalization\u001b[0m\u001b[0;34m\u001b[0m\u001b[0;34m\u001b[0m\u001b[0;34m\u001b[0m\u001b[0m\n\u001b[1;32m    178\u001b[0m                     \u001b[0minput_words\u001b[0m \u001b[0;34m=\u001b[0m \u001b[0mlocal_batch\u001b[0m\u001b[0;34m\u001b[0m\u001b[0;34m\u001b[0m\u001b[0m\n\u001b[0;32m--> 179\u001b[0;31m                     \u001b[0mlocal_batch\u001b[0m \u001b[0;34m=\u001b[0m \u001b[0mnumericalize\u001b[0m\u001b[0;34m(\u001b[0m\u001b[0mlocal_batch\u001b[0m\u001b[0;34m,\u001b[0m \u001b[0mVOCAB\u001b[0m\u001b[0;34m)\u001b[0m\u001b[0;34m\u001b[0m\u001b[0;34m\u001b[0m\u001b[0m\n\u001b[0m\u001b[1;32m    180\u001b[0m \u001b[0;34m\u001b[0m\u001b[0m\n\u001b[1;32m    181\u001b[0m                     \u001b[0mextract_labels\u001b[0m \u001b[0;34m=\u001b[0m \u001b[0mspatial_tags\u001b[0m\u001b[0;34m[\u001b[0m\u001b[0mlocal_idx\u001b[0m\u001b[0;34m]\u001b[0m\u001b[0;34m\u001b[0m\u001b[0;34m\u001b[0m\u001b[0m\n",
            "\u001b[0;32m<ipython-input-17-3e87d69bf2d4>\u001b[0m in \u001b[0;36mnumericalize\u001b[0;34m(tokens_list, vocab)\u001b[0m\n\u001b[1;32m      6\u001b[0m     \"\"\"\n\u001b[1;32m      7\u001b[0m \u001b[0;34m\u001b[0m\u001b[0m\n\u001b[0;32m----> 8\u001b[0;31m     \u001b[0mstr2num\u001b[0m \u001b[0;34m=\u001b[0m \u001b[0;34m{\u001b[0m\u001b[0mword\u001b[0m\u001b[0;34m:\u001b[0m \u001b[0mindex\u001b[0m \u001b[0;32mfor\u001b[0m \u001b[0mindex\u001b[0m\u001b[0;34m,\u001b[0m \u001b[0mword\u001b[0m \u001b[0;32min\u001b[0m \u001b[0menumerate\u001b[0m\u001b[0;34m(\u001b[0m\u001b[0mvocab\u001b[0m\u001b[0;34m)\u001b[0m\u001b[0;34m}\u001b[0m\u001b[0;34m\u001b[0m\u001b[0;34m\u001b[0m\u001b[0m\n\u001b[0m\u001b[1;32m      9\u001b[0m     \u001b[0mnum_list\u001b[0m \u001b[0;34m=\u001b[0m \u001b[0;34m[\u001b[0m\u001b[0;34m]\u001b[0m\u001b[0;34m\u001b[0m\u001b[0;34m\u001b[0m\u001b[0m\n\u001b[1;32m     10\u001b[0m     \u001b[0;32mfor\u001b[0m \u001b[0mtoken\u001b[0m \u001b[0;32min\u001b[0m \u001b[0mtokens_list\u001b[0m\u001b[0;34m:\u001b[0m\u001b[0;34m\u001b[0m\u001b[0;34m\u001b[0m\u001b[0m\n",
            "\u001b[0;32m<ipython-input-17-3e87d69bf2d4>\u001b[0m in \u001b[0;36m<dictcomp>\u001b[0;34m(.0)\u001b[0m\n\u001b[1;32m      6\u001b[0m     \"\"\"\n\u001b[1;32m      7\u001b[0m \u001b[0;34m\u001b[0m\u001b[0m\n\u001b[0;32m----> 8\u001b[0;31m     \u001b[0mstr2num\u001b[0m \u001b[0;34m=\u001b[0m \u001b[0;34m{\u001b[0m\u001b[0mword\u001b[0m\u001b[0;34m:\u001b[0m \u001b[0mindex\u001b[0m \u001b[0;32mfor\u001b[0m \u001b[0mindex\u001b[0m\u001b[0;34m,\u001b[0m \u001b[0mword\u001b[0m \u001b[0;32min\u001b[0m \u001b[0menumerate\u001b[0m\u001b[0;34m(\u001b[0m\u001b[0mvocab\u001b[0m\u001b[0;34m)\u001b[0m\u001b[0;34m}\u001b[0m\u001b[0;34m\u001b[0m\u001b[0;34m\u001b[0m\u001b[0m\n\u001b[0m\u001b[1;32m      9\u001b[0m     \u001b[0mnum_list\u001b[0m \u001b[0;34m=\u001b[0m \u001b[0;34m[\u001b[0m\u001b[0;34m]\u001b[0m\u001b[0;34m\u001b[0m\u001b[0;34m\u001b[0m\u001b[0m\n\u001b[1;32m     10\u001b[0m     \u001b[0;32mfor\u001b[0m \u001b[0mtoken\u001b[0m \u001b[0;32min\u001b[0m \u001b[0mtokens_list\u001b[0m\u001b[0;34m:\u001b[0m\u001b[0;34m\u001b[0m\u001b[0;34m\u001b[0m\u001b[0m\n",
            "\u001b[0;31mKeyboardInterrupt\u001b[0m: "
          ]
        }
      ],
      "source": [
        "use_cuda = torch.cuda.is_available()\n",
        "print(use_cuda)\n",
        "device = torch.device(\"cuda\" if use_cuda else \"cpu\")\n",
        "print(device)\n",
        "#torch.backends.cudnn.benchmark = True\n",
        "\n",
        "CHECKPOINT_NAME = 'pwngc_training_state_20epochs_8heads_6layers_2048hidden'\n",
        "\n",
        "T = RegTagger(use_cuda=use_cuda, device=device)\n",
        "\n",
        "train_history = T.train(batch_size=64, \n",
        "                        num_workers=0, \n",
        "                        max_epochs=20, \n",
        "                        splittings=splittings, \n",
        "                        path2data=idx_file, \n",
        "                        data=list(datasetID.values()), \n",
        "                        embed_size=300, \n",
        "                        target_vocab=target_VOCAB, \n",
        "                        spatial_tags=SPATIAL_TAGS,\n",
        "                        chkpt_path=CHECKPOINT_PATH, \n",
        "                        chkpt_name=CHECKPOINT_NAME+ '.pt',\n",
        "                        optimizer=\"adam\",\n",
        "                        d_model=300, d_hid=2048, nlayers=6, nhead=4, dropout=0.1,\n",
        "                        lr=1e-3, gamma=0.95, \n",
        "                        shuffle=True\n",
        "                        )"
      ]
    },
    {
      "cell_type": "markdown",
      "source": [
        "## plots"
      ],
      "metadata": {
        "id": "n1QxroZfcK0s"
      }
    },
    {
      "cell_type": "code",
      "source": [
        "fig, ax = plt.subplots()\n",
        "\n",
        "# Plot linear sequence, and set tick labels to the same color\n",
        "ax.plot(train_history[\"train_loss\"], color='red')\n",
        "ax.tick_params(axis='y', labelcolor='red')\n",
        "ax.set_ylabel(\"Training loss\", fontweight='bold')\n",
        "\n",
        "# Generate a new Axes instance, on the twin-X axes (same position)\n",
        "ax2 = ax.twinx()\n",
        "\n",
        "# Plot exponential sequence, set scale to logarithmic and change tick color\n",
        "ax2.plot(train_history[\"validation_loss\"], color='blue', linestyle='dashed', alpha=0.5)\n",
        "#ax2.set_yscale('log')\n",
        "ax2.tick_params(axis='y', labelcolor='b')\n",
        "ax2.set_ylabel(\"Validation loss\", fontweight='bold')\n",
        "\n",
        "ax.set_xlabel(\"Number of epochs\", fontweight='bold')\n",
        "ax.set_title(\"Training History PWNGC\\ndhid=2048, nlayers=6, nhead=4\", fontweight='bold')\n",
        "\n",
        "fig1 = plt.gcf()\n",
        "plt.show()\n",
        "plt.draw()\n",
        "\n",
        "\n",
        "\n",
        "fig1.savefig(resources_path + pwngc_path + '/pwngc_train_history_4heads_6layers_20epochs.png')\n",
        "\n",
        "#plt.download(resources_path + pwngc_path + '/pwngc_train_history_4heads_6layers_20epochs.png')"
      ],
      "metadata": {
        "id": "RWQgWCDmeXA2"
      },
      "execution_count": null,
      "outputs": []
    },
    {
      "cell_type": "code",
      "source": [
        "train_history"
      ],
      "metadata": {
        "id": "kmKX2kiGfcE_"
      },
      "execution_count": null,
      "outputs": []
    },
    {
      "cell_type": "code",
      "source": [
        "plt.figure()\n",
        "f, axes = plt.subplots(2, 1)\n",
        "x = range(1, 20+1)\n",
        "axes[0].plot(x, train_history[\"train_loss\"])\n",
        "axes[0].set_ylabel('train_loss')\n",
        "\n",
        "axes[1].plot(x, train_history[\"validation_loss\"])\n",
        "axes[1].set_ylabel('validation_loss')"
      ],
      "metadata": {
        "id": "ubre2SZKeuHq"
      },
      "execution_count": null,
      "outputs": []
    },
    {
      "cell_type": "code",
      "source": [
        "norm_train_loss = train_history[\"train_loss\"] / np.sum(train_history[\"train_loss\"])\n",
        "norm_valid_loss = train_history[\"validation_loss\"] / np.sum(train_history[\"validation_loss\"])"
      ],
      "metadata": {
        "id": "s9rsyfkuhsgS"
      },
      "execution_count": null,
      "outputs": []
    },
    {
      "cell_type": "code",
      "source": [
        "fig, ax = plt.subplots()\n",
        "\n",
        "# Plot linear sequence, and set tick labels to the same color\n",
        "ax.plot(norm_train_loss, color='red')\n",
        "ax.tick_params(axis='y', labelcolor='red')\n",
        "ax.set_ylabel(\"Training loss\", fontweight='bold')\n",
        "\n",
        "# Generate a new Axes instance, on the twin-X axes (same position)\n",
        "ax2 = ax.twinx()\n",
        "\n",
        "# Plot exponential sequence, set scale to logarithmic and change tick color\n",
        "ax2.plot(norm_valid_loss, color='blue', linestyle='dashed', alpha=0.5)\n",
        "#ax2.set_yscale('log')\n",
        "ax2.tick_params(axis='y', labelcolor='b')\n",
        "ax2.set_ylabel(\"Validation loss\", fontweight='bold')\n",
        "\n",
        "ax.set_xlabel(\"Number of epochs\", fontweight='bold')\n",
        "ax.set_title(\"Training History PWNGC\\ndhid=2048, nlayers=6, nhead=4\", fontweight='bold')\n",
        "\n",
        "plt.show()\n",
        "\n",
        "\n",
        "plt.savefig(resources_path + pwngc_path + '/pwngc_train_history_4heads_6layers_20epochs.svg', format='svg')\n",
        "\n",
        "files.download(resources_path + pwngc_path + '/pwngc_train_history_4heads_6layers_20epochs.png')"
      ],
      "metadata": {
        "id": "ReSCqoPKh-GT"
      },
      "execution_count": null,
      "outputs": []
    },
    {
      "cell_type": "markdown",
      "source": [
        "Training interpretation:\n",
        "- the training loss is still oscillating \n",
        "- the validation loss is almost stable and fluctuates in epoch 11\n",
        "- training loss increases a bit, while validation loss is lower. However, when the training loss decreases, the validation loss increases\n",
        "- why is this happening?\n",
        "  1. the training data is not enough for training/validation, and not suitable, since PWNGC has a great coverage of WordNet synsets, however, it does not provide sufficient instances per synset\n",
        "  2. the model is overfitting --> I need to set Dropout higher than that.\n",
        "- What is the next step?\n",
        "  - train on SemCor and PWNGC+Semcor"
      ],
      "metadata": {
        "id": "_b7j3IRiibMe"
      }
    },
    {
      "cell_type": "markdown",
      "source": [
        "## Testing"
      ],
      "metadata": {
        "id": "sLQmtiigcXZ5"
      }
    },
    {
      "cell_type": "code",
      "source": [
        "# check if the path to testing set exists, then ..."
      ],
      "metadata": {
        "id": "nTJpWBzIia3u"
      },
      "execution_count": null,
      "outputs": []
    },
    {
      "cell_type": "code",
      "source": [
        "test_dataset_name = 'senseval2'\n",
        "test_dataset = 'senseval2.pt'\n",
        "test_dataset_id = 'senseval2_ID.pt'\n",
        "test_full_sent = 'sent_seneval2.pt'"
      ],
      "metadata": {
        "id": "KPH2e3L__N3m"
      },
      "execution_count": null,
      "outputs": []
    },
    {
      "cell_type": "code",
      "source": [
        "if os.path.exists(os.path.join(TESTING_PATH, test_dataset_id)):\n",
        "  print(\"Found testing dataset id at: {}\".format(os.path.join(TESTING_PATH, test_dataset_id)))\n",
        "  senseval2_id = torch.load(os.path.join(TESTING_PATH, test_dataset_id))\n",
        "else:\n",
        "  senseval2 = parse_testing_data(os.path.join(TESTING_PATH, test_dataset))\n",
        "  senseval2_id = data_id(senseval2)\n",
        "  torch.save(senseval2_id, os.path.join(TESTING_PATH, test_dataset_id))\n"
      ],
      "metadata": {
        "id": "1TkpfiWrevn3"
      },
      "execution_count": null,
      "outputs": []
    },
    {
      "cell_type": "code",
      "source": [
        "test_history = T.test(testing_data=list(senseval2_id.values()), \n",
        "                      splittings=list(senseval2_id.keys()),\n",
        "                      path= os.path.join(TESTING_PATH, test_dataset_id),  \n",
        "                      embed_size=300, \n",
        "                      batch_size=242, \n",
        "                      num_workers=0, \n",
        "                      target_vocab=target_VOCAB, \n",
        "                      spatial_tags=SPATIAL_TAGS, \n",
        "                      k=5,\n",
        "                      shuffle=True) \n"
      ],
      "metadata": {
        "id": "8ON6PVrtgOzM"
      },
      "execution_count": null,
      "outputs": []
    },
    {
      "cell_type": "code",
      "source": [
        "save_predictions = torch.save(test_predictions, os.path.join(RESULTS_PATH, traindata_name, CHECKPOINT_NAME, test_dataset_name, test_dataset))"
      ],
      "metadata": {
        "id": "xUr7NLIp_hlQ"
      },
      "execution_count": null,
      "outputs": []
    },
    {
      "cell_type": "code",
      "source": [
        "preds = torch.load(os.path.join(RESULTS_PATH, traindata_name, CHECKPOINT_NAME, test_dataset_name, test_dataset))"
      ],
      "metadata": {
        "id": "4p5BstMa_-nI"
      },
      "execution_count": null,
      "outputs": []
    },
    {
      "cell_type": "code",
      "source": [
        "full_sentences = torch.load(os.path.join(TESTING_PATH, test_full_sent))\n",
        "# in case the computation stops, keep track of existing files\n",
        "processed_instances = save_results(predictions=preds, results_path=RESULTS_PATH, traindata_name=traindata_name, chkpt_name=CHECKPOINT_NAME, testset_name=test_dataset_name, \n",
        "                testset_id=senseval2_id, document=test_full_sent, \n",
        "                target_vocab=target_VOCAB, spatial_tags=SPATIAL_TAGS, k=3)"
      ],
      "metadata": {
        "id": "kqsscI7bigDm"
      },
      "execution_count": null,
      "outputs": []
    },
    {
      "cell_type": "markdown",
      "source": [
        "## Tagging/Annotate any sentence"
      ],
      "metadata": {
        "id": "uYnJiXIT8vrn"
      }
    },
    {
      "cell_type": "code",
      "source": [
        "tokens, predicted_indices, distances = T.tag(sentence=\"The boy is running towards the tree.\", embed_size=300,\n",
        "                                             target_vocab=target_VOCAB, spatial_tags=SPATIAL_TAGS, k=3,\n",
        "                                             annotation_path=ANNOTATION_PATH, traindata_name=traindata_name, chkpt_name=CHECKPOINT_NAME)\n"
      ],
      "metadata": {
        "id": "nF4Z_mhP8zxN"
      },
      "execution_count": null,
      "outputs": []
    },
    {
      "cell_type": "markdown",
      "source": [
        "# Begin Training 3"
      ],
      "metadata": {
        "id": "lwRg8v9hJ7jV"
      }
    },
    {
      "cell_type": "code",
      "execution_count": null,
      "metadata": {
        "id": "CpsXjB5A0ylw",
        "colab": {
          "base_uri": "https://localhost:8080/",
          "height": 787
        },
        "outputId": "45b5454d-4cf8-40c8-d286-fd420eef06de"
      },
      "outputs": [
        {
          "metadata": {
            "tags": null
          },
          "name": "stdout",
          "output_type": "stream",
          "text": [
            "True\n",
            "cuda\n",
            "[['necessary', 'means', 'know-how', 'authority'], ['necessary.a.01', 'means.n.01', 'know-how.n.01', 'authority.n.01'], [tensor([5.0801e+04, 1.3514e+05, 2.5010e+01, 6.4176e+04, 9.0000e+01, 5.0000e-01]), tensor([7.9562e+04, 1.1174e+05, 9.8310e+01, 9.8013e+04, 0.0000e+00, 1.8500e+01]), tensor([1.7459e+05, 1.4268e+05, 1.0717e+02, 7.1890e+04, 0.0000e+00, 1.0650e+02]), tensor([9.4484e+04, 3.7587e+04, 1.0434e+02, 1.9497e+05, 0.0000e+00, 7.5000e+00])], [50801, 79562, 174594, 94484]]\n",
            "\n",
            "Count results:\n",
            "nb_words_training = 506146\n",
            "nb_train_sentences = 176430\n",
            "nb_words_validation = 26674\n",
            "\n"
          ]
        },
        {
          "metadata": {
            "tags": null
          },
          "name": "stderr",
          "output_type": "stream",
          "text": [
            "/usr/local/lib/python3.7/dist-packages/torch/optim/lr_scheduler.py:134: UserWarning: Detected call of `lr_scheduler.step()` before `optimizer.step()`. In PyTorch 1.1.0 and later, you should call them in the opposite order: `optimizer.step()` before `lr_scheduler.step()`.  Failure to do this will result in PyTorch skipping the first value of the learning rate schedule. See more details at https://pytorch.org/docs/stable/optim.html#how-to-adjust-learning-rate\n",
            "  \"https://pytorch.org/docs/stable/optim.html#how-to-adjust-learning-rate\", UserWarning)\n"
          ]
        },
        {
          "metadata": {
            "tags": null
          },
          "name": "stdout",
          "output_type": "stream",
          "text": [
            "Training ...\n",
            "Validation ...\n",
            "Epoch 1: train loss = 175722.4717, time = 3976.7163 (s)\n",
            "Training ...\n",
            "Validation ...\n",
            "Epoch 2: train loss = 175734.0089, time = 3883.5013 (s)\n",
            "Training ...\n",
            "Validation ...\n",
            "Epoch 3: train loss = 175759.8310, time = 3833.5040 (s)\n",
            "Training ...\n"
          ]
        },
        {
          "output_type": "error",
          "ename": "KeyboardInterrupt",
          "evalue": "ignored",
          "traceback": [
            "\u001b[0;31m---------------------------------------------------------------------------\u001b[0m",
            "\u001b[0;31mKeyboardInterrupt\u001b[0m                         Traceback (most recent call last)",
            "\u001b[0;32m<ipython-input-47-a81cab191547>\u001b[0m in \u001b[0;36m<module>\u001b[0;34m()\u001b[0m\n\u001b[1;32m     23\u001b[0m                         \u001b[0md_model\u001b[0m\u001b[0;34m=\u001b[0m\u001b[0;36m300\u001b[0m\u001b[0;34m,\u001b[0m \u001b[0md_hid\u001b[0m\u001b[0;34m=\u001b[0m\u001b[0;36m2048\u001b[0m\u001b[0;34m,\u001b[0m \u001b[0mnlayers\u001b[0m\u001b[0;34m=\u001b[0m\u001b[0;36m6\u001b[0m\u001b[0;34m,\u001b[0m \u001b[0mnhead\u001b[0m\u001b[0;34m=\u001b[0m\u001b[0;36m4\u001b[0m\u001b[0;34m,\u001b[0m \u001b[0mdropout\u001b[0m\u001b[0;34m=\u001b[0m\u001b[0;36m0.2\u001b[0m\u001b[0;34m,\u001b[0m\u001b[0;34m\u001b[0m\u001b[0;34m\u001b[0m\u001b[0m\n\u001b[1;32m     24\u001b[0m                         \u001b[0mlr\u001b[0m\u001b[0;34m=\u001b[0m\u001b[0;36m1e-3\u001b[0m\u001b[0;34m,\u001b[0m \u001b[0mgamma\u001b[0m\u001b[0;34m=\u001b[0m\u001b[0;36m0.95\u001b[0m\u001b[0;34m,\u001b[0m\u001b[0;34m\u001b[0m\u001b[0;34m\u001b[0m\u001b[0m\n\u001b[0;32m---> 25\u001b[0;31m                         \u001b[0mshuffle\u001b[0m\u001b[0;34m=\u001b[0m\u001b[0;32mTrue\u001b[0m\u001b[0;34m\u001b[0m\u001b[0;34m\u001b[0m\u001b[0m\n\u001b[0m\u001b[1;32m     26\u001b[0m                         )\n",
            "\u001b[0;32m<ipython-input-40-98fef9a9fbfc>\u001b[0m in \u001b[0;36mtrain\u001b[0;34m(self, batch_size, num_workers, max_epochs, splittings, path2data, data, embed_size, target_vocab, spatial_tags, chkpt_path, chkpt_name, optimizer, k, d_model, d_hid, nlayers, nhead, dropout, lr, gamma, shuffle)\u001b[0m\n\u001b[1;32m    192\u001b[0m                     \u001b[0;31m# Model computations\u001b[0m\u001b[0;34m\u001b[0m\u001b[0;34m\u001b[0m\u001b[0;34m\u001b[0m\u001b[0m\n\u001b[1;32m    193\u001b[0m                     \u001b[0;31m# out outputs the predicted spatial parameters\u001b[0m\u001b[0;34m\u001b[0m\u001b[0;34m\u001b[0m\u001b[0;34m\u001b[0m\u001b[0m\n\u001b[0;32m--> 194\u001b[0;31m                     \u001b[0mout\u001b[0m \u001b[0;34m=\u001b[0m \u001b[0mself\u001b[0m\u001b[0;34m.\u001b[0m\u001b[0mmodel\u001b[0m\u001b[0;34m(\u001b[0m\u001b[0mlocal_batch\u001b[0m\u001b[0;34m)\u001b[0m\u001b[0;34m\u001b[0m\u001b[0;34m\u001b[0m\u001b[0m\n\u001b[0m\u001b[1;32m    195\u001b[0m \u001b[0;34m\u001b[0m\u001b[0m\n\u001b[1;32m    196\u001b[0m                     \u001b[0mloss\u001b[0m \u001b[0;34m=\u001b[0m \u001b[0mgeometric_loss\u001b[0m\u001b[0;34m(\u001b[0m\u001b[0mout\u001b[0m\u001b[0;34m,\u001b[0m \u001b[0mlocal_labels\u001b[0m\u001b[0;34m,\u001b[0m \u001b[0mdevice\u001b[0m\u001b[0;34m=\u001b[0m\u001b[0mself\u001b[0m\u001b[0;34m.\u001b[0m\u001b[0mdevice\u001b[0m\u001b[0;34m)\u001b[0m \u001b[0;34m/\u001b[0m \u001b[0mmean_words\u001b[0m\u001b[0;34m\u001b[0m\u001b[0;34m\u001b[0m\u001b[0m\n",
            "\u001b[0;32m/usr/local/lib/python3.7/dist-packages/torch/nn/modules/module.py\u001b[0m in \u001b[0;36m_call_impl\u001b[0;34m(self, *input, **kwargs)\u001b[0m\n\u001b[1;32m   1100\u001b[0m         if not (self._backward_hooks or self._forward_hooks or self._forward_pre_hooks or _global_backward_hooks\n\u001b[1;32m   1101\u001b[0m                 or _global_forward_hooks or _global_forward_pre_hooks):\n\u001b[0;32m-> 1102\u001b[0;31m             \u001b[0;32mreturn\u001b[0m \u001b[0mforward_call\u001b[0m\u001b[0;34m(\u001b[0m\u001b[0;34m*\u001b[0m\u001b[0minput\u001b[0m\u001b[0;34m,\u001b[0m \u001b[0;34m**\u001b[0m\u001b[0mkwargs\u001b[0m\u001b[0;34m)\u001b[0m\u001b[0;34m\u001b[0m\u001b[0;34m\u001b[0m\u001b[0m\n\u001b[0m\u001b[1;32m   1103\u001b[0m         \u001b[0;31m# Do not call functions when jit is used\u001b[0m\u001b[0;34m\u001b[0m\u001b[0;34m\u001b[0m\u001b[0;34m\u001b[0m\u001b[0m\n\u001b[1;32m   1104\u001b[0m         \u001b[0mfull_backward_hooks\u001b[0m\u001b[0;34m,\u001b[0m \u001b[0mnon_full_backward_hooks\u001b[0m \u001b[0;34m=\u001b[0m \u001b[0;34m[\u001b[0m\u001b[0;34m]\u001b[0m\u001b[0;34m,\u001b[0m \u001b[0;34m[\u001b[0m\u001b[0;34m]\u001b[0m\u001b[0;34m\u001b[0m\u001b[0;34m\u001b[0m\u001b[0m\n",
            "\u001b[0;32m<ipython-input-36-3444839a2479>\u001b[0m in \u001b[0;36mforward\u001b[0;34m(self, src)\u001b[0m\n\u001b[1;32m     71\u001b[0m \u001b[0;34m\u001b[0m\u001b[0m\n\u001b[1;32m     72\u001b[0m \u001b[0;34m\u001b[0m\u001b[0m\n\u001b[0;32m---> 73\u001b[0;31m         \u001b[0mencoder_output\u001b[0m \u001b[0;34m=\u001b[0m \u001b[0mself\u001b[0m\u001b[0;34m.\u001b[0m\u001b[0mtransformer_encoder\u001b[0m\u001b[0;34m(\u001b[0m\u001b[0msrc\u001b[0m\u001b[0;34m)\u001b[0m\u001b[0;34m\u001b[0m\u001b[0;34m\u001b[0m\u001b[0m\n\u001b[0m\u001b[1;32m     74\u001b[0m \u001b[0;34m\u001b[0m\u001b[0m\n\u001b[1;32m     75\u001b[0m \u001b[0;34m\u001b[0m\u001b[0m\n",
            "\u001b[0;32m/usr/local/lib/python3.7/dist-packages/torch/nn/modules/module.py\u001b[0m in \u001b[0;36m_call_impl\u001b[0;34m(self, *input, **kwargs)\u001b[0m\n\u001b[1;32m   1100\u001b[0m         if not (self._backward_hooks or self._forward_hooks or self._forward_pre_hooks or _global_backward_hooks\n\u001b[1;32m   1101\u001b[0m                 or _global_forward_hooks or _global_forward_pre_hooks):\n\u001b[0;32m-> 1102\u001b[0;31m             \u001b[0;32mreturn\u001b[0m \u001b[0mforward_call\u001b[0m\u001b[0;34m(\u001b[0m\u001b[0;34m*\u001b[0m\u001b[0minput\u001b[0m\u001b[0;34m,\u001b[0m \u001b[0;34m**\u001b[0m\u001b[0mkwargs\u001b[0m\u001b[0;34m)\u001b[0m\u001b[0;34m\u001b[0m\u001b[0;34m\u001b[0m\u001b[0m\n\u001b[0m\u001b[1;32m   1103\u001b[0m         \u001b[0;31m# Do not call functions when jit is used\u001b[0m\u001b[0;34m\u001b[0m\u001b[0;34m\u001b[0m\u001b[0;34m\u001b[0m\u001b[0m\n\u001b[1;32m   1104\u001b[0m         \u001b[0mfull_backward_hooks\u001b[0m\u001b[0;34m,\u001b[0m \u001b[0mnon_full_backward_hooks\u001b[0m \u001b[0;34m=\u001b[0m \u001b[0;34m[\u001b[0m\u001b[0;34m]\u001b[0m\u001b[0;34m,\u001b[0m \u001b[0;34m[\u001b[0m\u001b[0;34m]\u001b[0m\u001b[0;34m\u001b[0m\u001b[0;34m\u001b[0m\u001b[0m\n",
            "\u001b[0;32m/usr/local/lib/python3.7/dist-packages/torch/nn/modules/transformer.py\u001b[0m in \u001b[0;36mforward\u001b[0;34m(self, src, mask, src_key_padding_mask)\u001b[0m\n\u001b[1;32m    196\u001b[0m \u001b[0;34m\u001b[0m\u001b[0m\n\u001b[1;32m    197\u001b[0m         \u001b[0;32mfor\u001b[0m \u001b[0mmod\u001b[0m \u001b[0;32min\u001b[0m \u001b[0mself\u001b[0m\u001b[0;34m.\u001b[0m\u001b[0mlayers\u001b[0m\u001b[0;34m:\u001b[0m\u001b[0;34m\u001b[0m\u001b[0;34m\u001b[0m\u001b[0m\n\u001b[0;32m--> 198\u001b[0;31m             \u001b[0moutput\u001b[0m \u001b[0;34m=\u001b[0m \u001b[0mmod\u001b[0m\u001b[0;34m(\u001b[0m\u001b[0moutput\u001b[0m\u001b[0;34m,\u001b[0m \u001b[0msrc_mask\u001b[0m\u001b[0;34m=\u001b[0m\u001b[0mmask\u001b[0m\u001b[0;34m,\u001b[0m \u001b[0msrc_key_padding_mask\u001b[0m\u001b[0;34m=\u001b[0m\u001b[0msrc_key_padding_mask\u001b[0m\u001b[0;34m)\u001b[0m\u001b[0;34m\u001b[0m\u001b[0;34m\u001b[0m\u001b[0m\n\u001b[0m\u001b[1;32m    199\u001b[0m \u001b[0;34m\u001b[0m\u001b[0m\n\u001b[1;32m    200\u001b[0m         \u001b[0;32mif\u001b[0m \u001b[0mself\u001b[0m\u001b[0;34m.\u001b[0m\u001b[0mnorm\u001b[0m \u001b[0;32mis\u001b[0m \u001b[0;32mnot\u001b[0m \u001b[0;32mNone\u001b[0m\u001b[0;34m:\u001b[0m\u001b[0;34m\u001b[0m\u001b[0;34m\u001b[0m\u001b[0m\n",
            "\u001b[0;32m/usr/local/lib/python3.7/dist-packages/torch/nn/modules/module.py\u001b[0m in \u001b[0;36m_call_impl\u001b[0;34m(self, *input, **kwargs)\u001b[0m\n\u001b[1;32m   1100\u001b[0m         if not (self._backward_hooks or self._forward_hooks or self._forward_pre_hooks or _global_backward_hooks\n\u001b[1;32m   1101\u001b[0m                 or _global_forward_hooks or _global_forward_pre_hooks):\n\u001b[0;32m-> 1102\u001b[0;31m             \u001b[0;32mreturn\u001b[0m \u001b[0mforward_call\u001b[0m\u001b[0;34m(\u001b[0m\u001b[0;34m*\u001b[0m\u001b[0minput\u001b[0m\u001b[0;34m,\u001b[0m \u001b[0;34m**\u001b[0m\u001b[0mkwargs\u001b[0m\u001b[0;34m)\u001b[0m\u001b[0;34m\u001b[0m\u001b[0;34m\u001b[0m\u001b[0m\n\u001b[0m\u001b[1;32m   1103\u001b[0m         \u001b[0;31m# Do not call functions when jit is used\u001b[0m\u001b[0;34m\u001b[0m\u001b[0;34m\u001b[0m\u001b[0;34m\u001b[0m\u001b[0m\n\u001b[1;32m   1104\u001b[0m         \u001b[0mfull_backward_hooks\u001b[0m\u001b[0;34m,\u001b[0m \u001b[0mnon_full_backward_hooks\u001b[0m \u001b[0;34m=\u001b[0m \u001b[0;34m[\u001b[0m\u001b[0;34m]\u001b[0m\u001b[0;34m,\u001b[0m \u001b[0;34m[\u001b[0m\u001b[0;34m]\u001b[0m\u001b[0;34m\u001b[0m\u001b[0;34m\u001b[0m\u001b[0m\n",
            "\u001b[0;32m/usr/local/lib/python3.7/dist-packages/torch/nn/modules/transformer.py\u001b[0m in \u001b[0;36mforward\u001b[0;34m(self, src, src_mask, src_key_padding_mask)\u001b[0m\n\u001b[1;32m    337\u001b[0m             \u001b[0mx\u001b[0m \u001b[0;34m=\u001b[0m \u001b[0mx\u001b[0m \u001b[0;34m+\u001b[0m \u001b[0mself\u001b[0m\u001b[0;34m.\u001b[0m\u001b[0m_ff_block\u001b[0m\u001b[0;34m(\u001b[0m\u001b[0mself\u001b[0m\u001b[0;34m.\u001b[0m\u001b[0mnorm2\u001b[0m\u001b[0;34m(\u001b[0m\u001b[0mx\u001b[0m\u001b[0;34m)\u001b[0m\u001b[0;34m)\u001b[0m\u001b[0;34m\u001b[0m\u001b[0;34m\u001b[0m\u001b[0m\n\u001b[1;32m    338\u001b[0m         \u001b[0;32melse\u001b[0m\u001b[0;34m:\u001b[0m\u001b[0;34m\u001b[0m\u001b[0;34m\u001b[0m\u001b[0m\n\u001b[0;32m--> 339\u001b[0;31m             \u001b[0mx\u001b[0m \u001b[0;34m=\u001b[0m \u001b[0mself\u001b[0m\u001b[0;34m.\u001b[0m\u001b[0mnorm1\u001b[0m\u001b[0;34m(\u001b[0m\u001b[0mx\u001b[0m \u001b[0;34m+\u001b[0m \u001b[0mself\u001b[0m\u001b[0;34m.\u001b[0m\u001b[0m_sa_block\u001b[0m\u001b[0;34m(\u001b[0m\u001b[0mx\u001b[0m\u001b[0;34m,\u001b[0m \u001b[0msrc_mask\u001b[0m\u001b[0;34m,\u001b[0m \u001b[0msrc_key_padding_mask\u001b[0m\u001b[0;34m)\u001b[0m\u001b[0;34m)\u001b[0m\u001b[0;34m\u001b[0m\u001b[0;34m\u001b[0m\u001b[0m\n\u001b[0m\u001b[1;32m    340\u001b[0m             \u001b[0mx\u001b[0m \u001b[0;34m=\u001b[0m \u001b[0mself\u001b[0m\u001b[0;34m.\u001b[0m\u001b[0mnorm2\u001b[0m\u001b[0;34m(\u001b[0m\u001b[0mx\u001b[0m \u001b[0;34m+\u001b[0m \u001b[0mself\u001b[0m\u001b[0;34m.\u001b[0m\u001b[0m_ff_block\u001b[0m\u001b[0;34m(\u001b[0m\u001b[0mx\u001b[0m\u001b[0;34m)\u001b[0m\u001b[0;34m)\u001b[0m\u001b[0;34m\u001b[0m\u001b[0;34m\u001b[0m\u001b[0m\n\u001b[1;32m    341\u001b[0m \u001b[0;34m\u001b[0m\u001b[0m\n",
            "\u001b[0;32m/usr/local/lib/python3.7/dist-packages/torch/nn/modules/transformer.py\u001b[0m in \u001b[0;36m_sa_block\u001b[0;34m(self, x, attn_mask, key_padding_mask)\u001b[0m\n\u001b[1;32m    349\u001b[0m                            \u001b[0mkey_padding_mask\u001b[0m\u001b[0;34m=\u001b[0m\u001b[0mkey_padding_mask\u001b[0m\u001b[0;34m,\u001b[0m\u001b[0;34m\u001b[0m\u001b[0;34m\u001b[0m\u001b[0m\n\u001b[1;32m    350\u001b[0m                            need_weights=False)[0]\n\u001b[0;32m--> 351\u001b[0;31m         \u001b[0;32mreturn\u001b[0m \u001b[0mself\u001b[0m\u001b[0;34m.\u001b[0m\u001b[0mdropout1\u001b[0m\u001b[0;34m(\u001b[0m\u001b[0mx\u001b[0m\u001b[0;34m)\u001b[0m\u001b[0;34m\u001b[0m\u001b[0;34m\u001b[0m\u001b[0m\n\u001b[0m\u001b[1;32m    352\u001b[0m \u001b[0;34m\u001b[0m\u001b[0m\n\u001b[1;32m    353\u001b[0m     \u001b[0;31m# feed forward block\u001b[0m\u001b[0;34m\u001b[0m\u001b[0;34m\u001b[0m\u001b[0;34m\u001b[0m\u001b[0m\n",
            "\u001b[0;32m/usr/local/lib/python3.7/dist-packages/torch/nn/modules/module.py\u001b[0m in \u001b[0;36m_call_impl\u001b[0;34m(self, *input, **kwargs)\u001b[0m\n\u001b[1;32m   1100\u001b[0m         if not (self._backward_hooks or self._forward_hooks or self._forward_pre_hooks or _global_backward_hooks\n\u001b[1;32m   1101\u001b[0m                 or _global_forward_hooks or _global_forward_pre_hooks):\n\u001b[0;32m-> 1102\u001b[0;31m             \u001b[0;32mreturn\u001b[0m \u001b[0mforward_call\u001b[0m\u001b[0;34m(\u001b[0m\u001b[0;34m*\u001b[0m\u001b[0minput\u001b[0m\u001b[0;34m,\u001b[0m \u001b[0;34m**\u001b[0m\u001b[0mkwargs\u001b[0m\u001b[0;34m)\u001b[0m\u001b[0;34m\u001b[0m\u001b[0;34m\u001b[0m\u001b[0m\n\u001b[0m\u001b[1;32m   1103\u001b[0m         \u001b[0;31m# Do not call functions when jit is used\u001b[0m\u001b[0;34m\u001b[0m\u001b[0;34m\u001b[0m\u001b[0;34m\u001b[0m\u001b[0m\n\u001b[1;32m   1104\u001b[0m         \u001b[0mfull_backward_hooks\u001b[0m\u001b[0;34m,\u001b[0m \u001b[0mnon_full_backward_hooks\u001b[0m \u001b[0;34m=\u001b[0m \u001b[0;34m[\u001b[0m\u001b[0;34m]\u001b[0m\u001b[0;34m,\u001b[0m \u001b[0;34m[\u001b[0m\u001b[0;34m]\u001b[0m\u001b[0;34m\u001b[0m\u001b[0;34m\u001b[0m\u001b[0m\n",
            "\u001b[0;32m/usr/local/lib/python3.7/dist-packages/torch/nn/modules/dropout.py\u001b[0m in \u001b[0;36mforward\u001b[0;34m(self, input)\u001b[0m\n\u001b[1;32m     56\u001b[0m \u001b[0;34m\u001b[0m\u001b[0m\n\u001b[1;32m     57\u001b[0m     \u001b[0;32mdef\u001b[0m \u001b[0mforward\u001b[0m\u001b[0;34m(\u001b[0m\u001b[0mself\u001b[0m\u001b[0;34m,\u001b[0m \u001b[0minput\u001b[0m\u001b[0;34m:\u001b[0m \u001b[0mTensor\u001b[0m\u001b[0;34m)\u001b[0m \u001b[0;34m->\u001b[0m \u001b[0mTensor\u001b[0m\u001b[0;34m:\u001b[0m\u001b[0;34m\u001b[0m\u001b[0;34m\u001b[0m\u001b[0m\n\u001b[0;32m---> 58\u001b[0;31m         \u001b[0;32mreturn\u001b[0m \u001b[0mF\u001b[0m\u001b[0;34m.\u001b[0m\u001b[0mdropout\u001b[0m\u001b[0;34m(\u001b[0m\u001b[0minput\u001b[0m\u001b[0;34m,\u001b[0m \u001b[0mself\u001b[0m\u001b[0;34m.\u001b[0m\u001b[0mp\u001b[0m\u001b[0;34m,\u001b[0m \u001b[0mself\u001b[0m\u001b[0;34m.\u001b[0m\u001b[0mtraining\u001b[0m\u001b[0;34m,\u001b[0m \u001b[0mself\u001b[0m\u001b[0;34m.\u001b[0m\u001b[0minplace\u001b[0m\u001b[0;34m)\u001b[0m\u001b[0;34m\u001b[0m\u001b[0;34m\u001b[0m\u001b[0m\n\u001b[0m\u001b[1;32m     59\u001b[0m \u001b[0;34m\u001b[0m\u001b[0m\n\u001b[1;32m     60\u001b[0m \u001b[0;34m\u001b[0m\u001b[0m\n",
            "\u001b[0;32m/usr/local/lib/python3.7/dist-packages/torch/nn/functional.py\u001b[0m in \u001b[0;36mdropout\u001b[0;34m(input, p, training, inplace)\u001b[0m\n\u001b[1;32m   1167\u001b[0m     \u001b[0;32mif\u001b[0m \u001b[0mp\u001b[0m \u001b[0;34m<\u001b[0m \u001b[0;36m0.0\u001b[0m \u001b[0;32mor\u001b[0m \u001b[0mp\u001b[0m \u001b[0;34m>\u001b[0m \u001b[0;36m1.0\u001b[0m\u001b[0;34m:\u001b[0m\u001b[0;34m\u001b[0m\u001b[0;34m\u001b[0m\u001b[0m\n\u001b[1;32m   1168\u001b[0m         \u001b[0;32mraise\u001b[0m \u001b[0mValueError\u001b[0m\u001b[0;34m(\u001b[0m\u001b[0;34m\"dropout probability has to be between 0 and 1, \"\u001b[0m \u001b[0;34m\"but got {}\"\u001b[0m\u001b[0;34m.\u001b[0m\u001b[0mformat\u001b[0m\u001b[0;34m(\u001b[0m\u001b[0mp\u001b[0m\u001b[0;34m)\u001b[0m\u001b[0;34m)\u001b[0m\u001b[0;34m\u001b[0m\u001b[0;34m\u001b[0m\u001b[0m\n\u001b[0;32m-> 1169\u001b[0;31m     \u001b[0;32mreturn\u001b[0m \u001b[0m_VF\u001b[0m\u001b[0;34m.\u001b[0m\u001b[0mdropout_\u001b[0m\u001b[0;34m(\u001b[0m\u001b[0minput\u001b[0m\u001b[0;34m,\u001b[0m \u001b[0mp\u001b[0m\u001b[0;34m,\u001b[0m \u001b[0mtraining\u001b[0m\u001b[0;34m)\u001b[0m \u001b[0;32mif\u001b[0m \u001b[0minplace\u001b[0m \u001b[0;32melse\u001b[0m \u001b[0m_VF\u001b[0m\u001b[0;34m.\u001b[0m\u001b[0mdropout\u001b[0m\u001b[0;34m(\u001b[0m\u001b[0minput\u001b[0m\u001b[0;34m,\u001b[0m \u001b[0mp\u001b[0m\u001b[0;34m,\u001b[0m \u001b[0mtraining\u001b[0m\u001b[0;34m)\u001b[0m\u001b[0;34m\u001b[0m\u001b[0;34m\u001b[0m\u001b[0m\n\u001b[0m\u001b[1;32m   1170\u001b[0m \u001b[0;34m\u001b[0m\u001b[0m\n\u001b[1;32m   1171\u001b[0m \u001b[0;34m\u001b[0m\u001b[0m\n",
            "\u001b[0;31mKeyboardInterrupt\u001b[0m: "
          ]
        }
      ],
      "source": [
        "use_cuda = torch.cuda.is_available()\n",
        "print(use_cuda)\n",
        "device = torch.device(\"cuda\" if use_cuda else \"cpu\")\n",
        "print(device)\n",
        "#torch.backends.cudnn.benchmark = True\n",
        "\n",
        "CHECKPOINT_NAME = 'pwngc_training_state_20epochs_4heads_6layers_2048hid'\n",
        "\n",
        "T = RegTagger(use_cuda=use_cuda, device=device)\n",
        "\n",
        "train_history = T.train(batch_size=64, \n",
        "                        num_workers=0, \n",
        "                        max_epochs=20, \n",
        "                        splittings=splittings, \n",
        "                        path2data=idx_file, \n",
        "                        data=list(datasetID.values()), \n",
        "                        embed_size=300, \n",
        "                        target_vocab=target_VOCAB, \n",
        "                        spatial_tags=SPATIAL_TAGS,\n",
        "                        chkpt_path=CHECKPOINT_PATH, \n",
        "                        chkpt_name=CHECKPOINT_NAME+ '.pt',\n",
        "                        optimizer=\"adam\",\n",
        "                        d_model=300, d_hid=2048, nlayers=6, nhead=4, dropout=0.2,\n",
        "                        lr=1e-3, gamma=0.95, \n",
        "                        shuffle=True\n",
        "                        )"
      ]
    },
    {
      "cell_type": "markdown",
      "source": [
        "## plots"
      ],
      "metadata": {
        "id": "rwT6lLYt0yl6"
      }
    },
    {
      "cell_type": "code",
      "source": [
        "fig, ax = plt.subplots()\n",
        "\n",
        "# Plot linear sequence, and set tick labels to the same color\n",
        "ax.plot(train_history[\"train_loss\"], color='red')\n",
        "ax.tick_params(axis='y', labelcolor='red')\n",
        "ax.set_ylabel(\"Training loss\", fontweight='bold')\n",
        "\n",
        "# Generate a new Axes instance, on the twin-X axes (same position)\n",
        "ax2 = ax.twinx()\n",
        "\n",
        "# Plot exponential sequence, set scale to logarithmic and change tick color\n",
        "ax2.plot(train_history[\"validation_loss\"], color='blue', linestyle='dashed', alpha=0.5)\n",
        "#ax2.set_yscale('log')\n",
        "ax2.tick_params(axis='y', labelcolor='b')\n",
        "ax2.set_ylabel(\"Validation loss\", fontweight='bold')\n",
        "\n",
        "ax.set_xlabel(\"Number of epochs\", fontweight='bold')\n",
        "ax.set_title(\"Training History PWNGC\\ndhid=2048, nlayers=6, nhead=4\", fontweight='bold')\n",
        "\n",
        "fig1 = plt.gcf()\n",
        "plt.show()\n",
        "plt.draw()\n",
        "\n",
        "\n",
        "\n",
        "fig1.savefig(resources_path + pwngc_path + '/pwngc_train_history_4heads_6layers_20epochs.png')\n",
        "\n",
        "#plt.download(resources_path + pwngc_path + '/pwngc_train_history_4heads_6layers_20epochs.png')"
      ],
      "metadata": {
        "id": "12-1dJpC0yl7"
      },
      "execution_count": null,
      "outputs": []
    },
    {
      "cell_type": "code",
      "source": [
        "train_history"
      ],
      "metadata": {
        "id": "p554HOJ80yl7"
      },
      "execution_count": null,
      "outputs": []
    },
    {
      "cell_type": "code",
      "source": [
        "plt.figure()\n",
        "f, axes = plt.subplots(2, 1)\n",
        "x = range(1, 20+1)\n",
        "axes[0].plot(x, train_history[\"train_loss\"])\n",
        "axes[0].set_ylabel('train_loss')\n",
        "\n",
        "axes[1].plot(x, train_history[\"validation_loss\"])\n",
        "axes[1].set_ylabel('validation_loss')"
      ],
      "metadata": {
        "id": "K5zwOVFp0yl7"
      },
      "execution_count": null,
      "outputs": []
    },
    {
      "cell_type": "code",
      "source": [
        "norm_train_loss = train_history[\"train_loss\"] / np.sum(train_history[\"train_loss\"])\n",
        "norm_valid_loss = train_history[\"validation_loss\"] / np.sum(train_history[\"validation_loss\"])"
      ],
      "metadata": {
        "id": "hGwMXseE0yl7"
      },
      "execution_count": null,
      "outputs": []
    },
    {
      "cell_type": "code",
      "source": [
        "fig, ax = plt.subplots()\n",
        "\n",
        "# Plot linear sequence, and set tick labels to the same color\n",
        "ax.plot(norm_train_loss, color='red')\n",
        "ax.tick_params(axis='y', labelcolor='red')\n",
        "ax.set_ylabel(\"Training loss\", fontweight='bold')\n",
        "\n",
        "# Generate a new Axes instance, on the twin-X axes (same position)\n",
        "ax2 = ax.twinx()\n",
        "\n",
        "# Plot exponential sequence, set scale to logarithmic and change tick color\n",
        "ax2.plot(norm_valid_loss, color='blue', linestyle='dashed', alpha=0.5)\n",
        "#ax2.set_yscale('log')\n",
        "ax2.tick_params(axis='y', labelcolor='b')\n",
        "ax2.set_ylabel(\"Validation loss\", fontweight='bold')\n",
        "\n",
        "ax.set_xlabel(\"Number of epochs\", fontweight='bold')\n",
        "ax.set_title(\"Training History PWNGC\\ndhid=2048, nlayers=6, nhead=4\", fontweight='bold')\n",
        "\n",
        "plt.show()\n",
        "\n",
        "\n",
        "plt.savefig(resources_path + pwngc_path + '/pwngc_train_history_4heads_6layers_20epochs.svg', format='svg')\n",
        "\n",
        "files.download(resources_path + pwngc_path + '/pwngc_train_history_4heads_6layers_20epochs.png')"
      ],
      "metadata": {
        "id": "KNlwcjcu0yl7"
      },
      "execution_count": null,
      "outputs": []
    },
    {
      "cell_type": "markdown",
      "source": [
        "Training interpretation:\n",
        "- the training loss is still oscillating \n",
        "- the validation loss is almost stable and fluctuates in epoch 11\n",
        "- training loss increases a bit, while validation loss is lower. However, when the training loss decreases, the validation loss increases\n",
        "- why is this happening?\n",
        "  1. the training data is not enough for training/validation, and not suitable, since PWNGC has a great coverage of WordNet synsets, however, it does not provide sufficient instances per synset\n",
        "  2. the model is overfitting --> I need to set Dropout higher than that.\n",
        "- What is the next step?\n",
        "  - train on SemCor and PWNGC+Semcor"
      ],
      "metadata": {
        "id": "Sf_ZQA_o0yl8"
      }
    },
    {
      "cell_type": "markdown",
      "source": [
        "## Testing"
      ],
      "metadata": {
        "id": "kp2YjtmG0yl8"
      }
    },
    {
      "cell_type": "code",
      "source": [
        "# check if the path to testing set exists, then ..."
      ],
      "metadata": {
        "id": "4fUChTFE0yl8"
      },
      "execution_count": null,
      "outputs": []
    },
    {
      "cell_type": "code",
      "source": [
        "test_dataset_name = 'senseval2'\n",
        "test_dataset = 'senseval2.pt'\n",
        "test_dataset_id = 'senseval2_ID.pt'\n",
        "test_full_sent = 'sent_seneval2.pt'"
      ],
      "metadata": {
        "id": "bj0bnEYb0yl8"
      },
      "execution_count": null,
      "outputs": []
    },
    {
      "cell_type": "code",
      "source": [
        "if os.path.exists(os.path.join(TESTING_PATH, test_dataset_id)):\n",
        "  print(\"Found testing dataset id at: {}\".format(os.path.join(TESTING_PATH, test_dataset_id)))\n",
        "  senseval2_id = torch.load(os.path.join(TESTING_PATH, test_dataset_id))\n",
        "else:\n",
        "  senseval2 = parse_testing_data(os.path.join(TESTING_PATH, test_dataset))\n",
        "  senseval2_id = data_id(senseval2)\n",
        "  torch.save(senseval2_id, os.path.join(TESTING_PATH, test_dataset_id))\n"
      ],
      "metadata": {
        "id": "bh5risis0yl8"
      },
      "execution_count": null,
      "outputs": []
    },
    {
      "cell_type": "code",
      "source": [
        "test_history = T.test(testing_data=list(senseval2_id.values()), \n",
        "                      splittings=list(senseval2_id.keys()),\n",
        "                      path= os.path.join(TESTING_PATH, test_dataset_id),  \n",
        "                      embed_size=300, \n",
        "                      batch_size=242, \n",
        "                      num_workers=0, \n",
        "                      target_vocab=target_VOCAB, \n",
        "                      spatial_tags=SPATIAL_TAGS, \n",
        "                      k=5,\n",
        "                      shuffle=True) \n"
      ],
      "metadata": {
        "id": "tzMYPsS00yl8"
      },
      "execution_count": null,
      "outputs": []
    },
    {
      "cell_type": "code",
      "source": [
        "save_predictions = torch.save(test_predictions, os.path.join(RESULTS_PATH, traindata_name, CHECKPOINT_NAME, test_dataset_name, test_dataset))"
      ],
      "metadata": {
        "id": "R1pZ_-v-0yl8"
      },
      "execution_count": null,
      "outputs": []
    },
    {
      "cell_type": "code",
      "source": [
        "preds = torch.load(os.path.join(RESULTS_PATH, traindata_name, CHECKPOINT_NAME, test_dataset_name, test_dataset))"
      ],
      "metadata": {
        "id": "gUyXj9Ii0yl9"
      },
      "execution_count": null,
      "outputs": []
    },
    {
      "cell_type": "code",
      "source": [
        "full_sentences = torch.load(os.path.join(TESTING_PATH, test_full_sent))\n",
        "# in case the computation stops, keep track of existing files\n",
        "processed_instances = save_results(predictions=preds, results_path=RESULTS_PATH, traindata_name=traindata_name, chkpt_name=CHECKPOINT_NAME, testset_name=test_dataset_name, \n",
        "                testset_id=senseval2_id, document=test_full_sent, \n",
        "                target_vocab=target_VOCAB, spatial_tags=SPATIAL_TAGS, k=3)"
      ],
      "metadata": {
        "id": "8rlKifXj0yl9"
      },
      "execution_count": null,
      "outputs": []
    },
    {
      "cell_type": "markdown",
      "source": [
        "## Tagging/Annotate any sentence"
      ],
      "metadata": {
        "id": "FB6MrWrw0yl9"
      }
    },
    {
      "cell_type": "code",
      "source": [
        "tokens, predicted_indices, distances = T.tag(sentence=\"The boy is running towards the tree.\", embed_size=300,\n",
        "                                             target_vocab=target_VOCAB, spatial_tags=SPATIAL_TAGS, k=3,\n",
        "                                             annotation_path=ANNOTATION_PATH, traindata_name=traindata_name, chkpt_name=CHECKPOINT_NAME)\n"
      ],
      "metadata": {
        "id": "xsH9PJHH0yl9"
      },
      "execution_count": null,
      "outputs": []
    }
  ],
  "metadata": {
    "colab": {
      "collapsed_sections": [
        "yG45YqPiOwtZ",
        "rNHjzlbeyYk7",
        "AaNWxx1ZYM9J",
        "JXSQufUkYM9P",
        "L6PSPtIAvhvc",
        "4swbnCh2Cc7t",
        "sp-hIJf-YM9Z",
        "buL4R4UuYM9c",
        "0vR0knpCt5zf",
        "BF9Tad7v-Vpe",
        "HGXtkBRB1QNp",
        "6hD2OIzBA6b1"
      ],
      "name": "regressor_pwngc_index_based.ipynb",
      "provenance": [],
      "machine_shape": "hm",
      "background_execution": "on",
      "include_colab_link": true
    },
    "kernelspec": {
      "display_name": "Python 3 (ipykernel)",
      "language": "python",
      "name": "python3"
    },
    "language_info": {
      "codemirror_mode": {
        "name": "ipython",
        "version": 3
      },
      "file_extension": ".py",
      "mimetype": "text/x-python",
      "name": "python",
      "nbconvert_exporter": "python",
      "pygments_lexer": "ipython3",
      "version": "3.7.10"
    },
    "accelerator": "GPU"
  },
  "nbformat": 4,
  "nbformat_minor": 0
}